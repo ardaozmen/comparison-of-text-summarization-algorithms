{
 "cells": [
  {
   "cell_type": "code",
   "execution_count": 4,
   "metadata": {},
   "outputs": [],
   "source": [
    "import requests\n",
    "from bs4 import BeautifulSoup\n",
    "import re\n",
    "\n",
    "r = requests.get('https://en.wikipedia.org/wiki/COVID-19_pandemic')\n",
    "page = r.content\n",
    "soup = BeautifulSoup(page, 'html.parser')\n",
    "parag = soup.find_all('p')\n",
    "title = soup.title.text\n",
    "\n",
    "l = []\n",
    "for p in parag[1], parag[2], parag[3], parag[4]:\n",
    "    txt=p.text.strip('\\n')\n",
    "    text=txt.replace('\\xa0',' ')\n",
    "    l.append(text)\n",
    "    data=' '.join(l)\n",
    "    document=re.sub('[[0-9]*]','', data)"
   ]
  },
  {
   "cell_type": "code",
   "execution_count": 5,
   "metadata": {},
   "outputs": [],
   "source": [
    "from nltk.tokenize.punkt import PunktSentenceTokenizer"
   ]
  },
  {
   "cell_type": "code",
   "execution_count": 6,
   "metadata": {},
   "outputs": [],
   "source": [
    "document = ' '.join(document.strip().split('\\n'))"
   ]
  },
  {
   "cell_type": "code",
   "execution_count": 7,
   "metadata": {},
   "outputs": [],
   "source": [
    "sentence_tokenizer = PunktSentenceTokenizer()"
   ]
  },
  {
   "cell_type": "code",
   "execution_count": 8,
   "metadata": {},
   "outputs": [],
   "source": [
    "sentences = sentence_tokenizer.tokenize(document)"
   ]
  },
  {
   "cell_type": "code",
   "execution_count": 9,
   "metadata": {},
   "outputs": [
    {
     "data": {
      "text/plain": [
       "['The COVID-19 pandemic, also known as the coronavirus pandemic, is an ongoing pandemic of coronavirus disease 2019 (COVID-19) caused by severe acute respiratory syndrome coronavirus 2 (SARS-CoV-2).',\n",
       " 'It was first identified in December 2019 in Wuhan, China.',\n",
       " 'The World Health Organization declared the outbreak a Public Health Emergency of International Concern in January 2020 and a pandemic in March 2020.',\n",
       " 'As of 28 December 2020, more than 81.1 million cases have been confirmed, with more than 1.77 million deaths attributed to COVID-19.',\n",
       " 'Symptoms of COVID-19 are highly variable, ranging from none to severe illness.',\n",
       " 'The virus spreads mainly through the air when people are near each other.',\n",
       " '[b It leaves an infected person as they breathe, cough, sneeze, or speak and enters another person via their mouth, nose, or eyes.',\n",
       " 'It may also spread via contaminated surfaces.',\n",
       " 'People remain infectious for up to two weeks, and can spread the virus even if they do not show symptoms.',\n",
       " \"Recommended preventive measures include social distancing, wearing face masks in public, ventilation and air-filtering, hand washing, covering one's mouth when sneezing or coughing, disinfecting surfaces, and monitoring and self-isolation for people exposed or symptomatic.\",\n",
       " 'Several vaccines are being developed and distributed.',\n",
       " 'Current treatments focus on addressing symptoms while work is underway to develop therapeutic drugs that inhibit the virus.',\n",
       " 'Authorities worldwide have responded by implementing travel restrictions, lockdowns, workplace hazard controls, and facility closures.',\n",
       " 'Many places have also worked to increase testing capacity and trace contacts of the infected.',\n",
       " 'The pandemic has caused global social and economic disruption, including the largest global recession since the Great Depression.',\n",
       " 'It has led to the postponement or cancellation of events, widespread supply shortages exacerbated by panic buying, agricultural disruption and food shortages, and decreased emissions of pollutants and greenhouse gases.',\n",
       " 'Many educational institutions have been partially or fully closed.',\n",
       " 'Misinformation has circulated through social media and mass media.',\n",
       " 'There have been incidents of xenophobia and discrimination against Chinese people and against those perceived as being Chinese or as being from areas with high infection rates.']"
      ]
     },
     "execution_count": 9,
     "metadata": {},
     "output_type": "execute_result"
    }
   ],
   "source": [
    "sentences"
   ]
  },
  {
   "cell_type": "code",
   "execution_count": 18,
   "metadata": {},
   "outputs": [],
   "source": [
    "from collections import Counter\n",
    " \n",
    "def bag_of_words(sentence):\n",
    "    return Counter(word.lower().strip('.,') for word in sentence.split(' '))"
   ]
  },
  {
   "cell_type": "code",
   "execution_count": 19,
   "metadata": {},
   "outputs": [
    {
     "data": {
      "text/plain": [
       "Counter({'the': 2,\n",
       "         'covid-19': 1,\n",
       "         'pandemic': 3,\n",
       "         'also': 1,\n",
       "         'known': 1,\n",
       "         'as': 1,\n",
       "         'coronavirus': 3,\n",
       "         'is': 1,\n",
       "         'an': 1,\n",
       "         'ongoing': 1,\n",
       "         'of': 1,\n",
       "         'disease': 1,\n",
       "         '2019': 1,\n",
       "         '(covid-19)': 1,\n",
       "         'caused': 1,\n",
       "         'by': 1,\n",
       "         'severe': 1,\n",
       "         'acute': 1,\n",
       "         'respiratory': 1,\n",
       "         'syndrome': 1,\n",
       "         '2': 1,\n",
       "         '(sars-cov-2)': 1})"
      ]
     },
     "execution_count": 19,
     "metadata": {},
     "output_type": "execute_result"
    }
   ],
   "source": [
    "bag_of_words(sentences[0])"
   ]
  },
  {
   "cell_type": "code",
   "execution_count": 20,
   "metadata": {},
   "outputs": [
    {
     "data": {
      "text/plain": [
       "array([[2, 1, 1, 1, 1, 1, 1, 1, 3, 1, 2, 1, 1, 1, 1, 1, 3, 1, 1, 1, 1, 2]])"
      ]
     },
     "execution_count": 20,
     "metadata": {},
     "output_type": "execute_result"
    }
   ],
   "source": [
    "from sklearn.feature_extraction.text import CountVectorizer\n",
    "c = CountVectorizer()\n",
    "bow_array = c.fit_transform([sentences[0]])\n",
    "bow_array.toarray()"
   ]
  },
  {
   "cell_type": "code",
   "execution_count": 21,
   "metadata": {},
   "outputs": [
    {
     "data": {
      "text/plain": [
       "<19x216 sparse matrix of type '<class 'numpy.int64'>'\n",
       "\twith 308 stored elements in Compressed Sparse Row format>"
      ]
     },
     "execution_count": 21,
     "metadata": {},
     "output_type": "execute_result"
    }
   ],
   "source": [
    "from sklearn.feature_extraction.text import CountVectorizer\n",
    "c = CountVectorizer()\n",
    "bow_matrix = c.fit_transform(sentences)\n",
    "bow_matrix"
   ]
  },
  {
   "cell_type": "code",
   "execution_count": 22,
   "metadata": {},
   "outputs": [],
   "source": [
    "from sklearn.feature_extraction.text import TfidfTransformer\n",
    "normalized_matrix = TfidfTransformer().fit_transform(bow_matrix)"
   ]
  },
  {
   "cell_type": "code",
   "execution_count": 24,
   "metadata": {},
   "outputs": [
    {
     "data": {
      "text/plain": [
       "array([[1.        , 0.04222127, 0.12365039, 0.11414665, 0.19566879,\n",
       "        0.0628034 , 0.04794437, 0.04534055, 0.02517598, 0.        ,\n",
       "        0.        , 0.05833562, 0.02906037, 0.0800811 , 0.18038161,\n",
       "        0.06184139, 0.        , 0.        , 0.04433147],\n",
       "       [0.04222127, 1.        , 0.17338549, 0.04991025, 0.        ,\n",
       "        0.        , 0.03695374, 0.0723026 , 0.        , 0.07133342,\n",
       "        0.        , 0.        , 0.        , 0.        , 0.        ,\n",
       "        0.03256068, 0.        , 0.        , 0.        ],\n",
       "       [0.12365039, 0.17338549, 1.        , 0.0807391 , 0.02313602,\n",
       "        0.0794774 , 0.00983075, 0.        , 0.0431015 , 0.10032384,\n",
       "        0.01897858, 0.03213329, 0.01232811, 0.07427931, 0.13489198,\n",
       "        0.07840652, 0.        , 0.01478899, 0.03068369],\n",
       "       [0.11414665, 0.04991025, 0.0807391 , 1.        , 0.12648709,\n",
       "        0.        , 0.02290888, 0.        , 0.01932959, 0.        ,\n",
       "        0.        , 0.01949534, 0.02450632, 0.07110186, 0.        ,\n",
       "        0.04092856, 0.07946815, 0.        , 0.12220351],\n",
       "       [0.19566879, 0.        , 0.02313602, 0.12648709, 1.        ,\n",
       "        0.0623753 , 0.        , 0.        , 0.0808679 , 0.        ,\n",
       "        0.08442843, 0.08156137, 0.        , 0.07020327, 0.        ,\n",
       "        0.06534136, 0.        , 0.        , 0.06702297],\n",
       "       [0.0628034 , 0.        , 0.0794774 , 0.        , 0.0623753 ,\n",
       "        1.        , 0.        , 0.        , 0.13585547, 0.11362795,\n",
       "        0.08231555, 0.0958959 , 0.        , 0.05623581, 0.13356016,\n",
       "        0.03569441, 0.        , 0.07906706, 0.03084043],\n",
       "       [0.04794437, 0.03695374, 0.00983075, 0.02290888, 0.        ,\n",
       "        0.        , 1.        , 0.12101667, 0.05359797, 0.12286705,\n",
       "        0.01934708, 0.        , 0.01256748, 0.06506712, 0.01101358,\n",
       "        0.08610224, 0.07221752, 0.01507614, 0.097472  ],\n",
       "       [0.04534055, 0.0723026 , 0.        , 0.        , 0.        ,\n",
       "        0.        , 0.12101667, 1.        , 0.08244652, 0.05819646,\n",
       "        0.        , 0.        , 0.        , 0.08119824, 0.        ,\n",
       "        0.04310106, 0.        , 0.        , 0.        ],\n",
       "       [0.02517598, 0.        , 0.0431015 , 0.01932959, 0.0808679 ,\n",
       "        0.13585547, 0.05359797, 0.08244652, 1.        , 0.08483707,\n",
       "        0.0221233 , 0.12190917, 0.01437085, 0.06773497, 0.0661342 ,\n",
       "        0.06318795, 0.        , 0.01723949, 0.04454876],\n",
       "       [0.        , 0.07133342, 0.10032384, 0.        , 0.        ,\n",
       "        0.11362795, 0.12286705, 0.05819646, 0.08483707, 1.        ,\n",
       "        0.04684846, 0.        , 0.03043182, 0.03368727, 0.05318782,\n",
       "        0.09448181, 0.05829097, 0.07280711, 0.08920658],\n",
       "       [0.        , 0.        , 0.01897858, 0.        , 0.08442843,\n",
       "        0.08231555, 0.01934708, 0.        , 0.0221233 , 0.04684846,\n",
       "        1.        , 0.        , 0.02426193, 0.02685735, 0.02126208,\n",
       "        0.05114128, 0.        , 0.02910498, 0.15652472],\n",
       "       [0.05833562, 0.        , 0.03213329, 0.01949534, 0.08156137,\n",
       "        0.0958959 , 0.        , 0.        , 0.12190917, 0.        ,\n",
       "        0.        , 1.        , 0.        , 0.05227123, 0.05399934,\n",
       "        0.03317798, 0.        , 0.        , 0.        ],\n",
       "       [0.02906037, 0.        , 0.01232811, 0.02450632, 0.        ,\n",
       "        0.        , 0.01256748, 0.        , 0.01437085, 0.03043182,\n",
       "        0.02426193, 0.        , 1.        , 0.05457211, 0.01381142,\n",
       "        0.06625337, 0.04528167, 0.01890601, 0.04486997],\n",
       "       [0.0800811 , 0.        , 0.07427931, 0.07110186, 0.07020327,\n",
       "        0.05623581, 0.06506712, 0.08119824, 0.06773497, 0.03368727,\n",
       "        0.02685735, 0.05227123, 0.05457211, 1.        , 0.08028592,\n",
       "        0.11614994, 0.13673823, 0.02092849, 0.0690271 ],\n",
       "       [0.18038161, 0.        , 0.13489198, 0.        , 0.        ,\n",
       "        0.13356016, 0.01101358, 0.        , 0.0661342 , 0.05318782,\n",
       "        0.02126208, 0.05399934, 0.01381142, 0.08028592, 1.        ,\n",
       "        0.13500045, 0.        , 0.11541819, 0.01905111],\n",
       "       [0.06184139, 0.03256068, 0.07840652, 0.04092856, 0.06534136,\n",
       "        0.03569441, 0.08610224, 0.04310106, 0.06318795, 0.09448181,\n",
       "        0.05114128, 0.03317798, 0.06625337, 0.11614994, 0.13500045,\n",
       "        1.        , 0.03181614, 0.07947857, 0.08664876],\n",
       "       [0.        , 0.        , 0.        , 0.07946815, 0.        ,\n",
       "        0.        , 0.07221752, 0.        , 0.        , 0.05829097,\n",
       "        0.        , 0.        , 0.04528167, 0.13673823, 0.        ,\n",
       "        0.03181614, 1.        , 0.        , 0.10623833],\n",
       "       [0.        , 0.        , 0.01478899, 0.        , 0.        ,\n",
       "        0.07906706, 0.01507614, 0.        , 0.01723949, 0.07280711,\n",
       "        0.02910498, 0.        , 0.01890601, 0.02092849, 0.11541819,\n",
       "        0.07947857, 0.        , 1.        , 0.02607846],\n",
       "       [0.04433147, 0.        , 0.03068369, 0.12220351, 0.06702297,\n",
       "        0.03084043, 0.097472  , 0.        , 0.04454876, 0.08920658,\n",
       "        0.15652472, 0.        , 0.04486997, 0.0690271 , 0.01905111,\n",
       "        0.08664876, 0.10623833, 0.02607846, 1.        ]])"
      ]
     },
     "execution_count": 24,
     "metadata": {},
     "output_type": "execute_result"
    }
   ],
   "source": [
    "similarity_graph = normalized_matrix * normalized_matrix.T\n",
    "similarity_graph.toarray()"
   ]
  },
  {
   "cell_type": "code",
   "execution_count": 28,
   "metadata": {},
   "outputs": [
    {
     "data": {
      "text/plain": [
       "{0: 0.058607608354242294,\n",
       " 1: 0.04601850507134548,\n",
       " 2: 0.057010612605271425,\n",
       " 3: 0.05146310022030544,\n",
       " 4: 0.05292206864494559,\n",
       " 5: 0.055478147303211045,\n",
       " 6: 0.052324712879283315,\n",
       " 7: 0.04650125802396069,\n",
       " 8: 0.05514990276837194,\n",
       " 9: 0.05748267984597134,\n",
       " 10: 0.04760188651193677,\n",
       " 11: 0.046632574078683535,\n",
       " 12: 0.04481193684950849,\n",
       " 13: 0.060230270320510274,\n",
       " 14: 0.056320045974837064,\n",
       " 15: 0.061130538190084016,\n",
       " 16: 0.04689382572969491,\n",
       " 17: 0.04587183540789658,\n",
       " 18: 0.0575484912199396}"
      ]
     },
     "execution_count": 28,
     "metadata": {},
     "output_type": "execute_result"
    }
   ],
   "source": [
    "import networkx as nx\n",
    "nx_graph = nx.from_scipy_sparse_matrix(similarity_graph)\n",
    "scores = nx.pagerank(nx_graph)\n",
    "scores"
   ]
  },
  {
   "cell_type": "code",
   "execution_count": 29,
   "metadata": {},
   "outputs": [
    {
     "data": {
      "text/plain": [
       "'It has led to the postponement or cancellation of events, widespread supply shortages exacerbated by panic buying, agricultural disruption and food shortages, and decreased emissions of pollutants and greenhouse gases.'"
      ]
     },
     "execution_count": 29,
     "metadata": {},
     "output_type": "execute_result"
    }
   ],
   "source": [
    "ranked = sorted(((scores[i],s) for i,s in enumerate(sentences)),\n",
    "                reverse=True)\n",
    "ranked[0][1]"
   ]
  },
  {
   "cell_type": "code",
   "execution_count": 30,
   "metadata": {},
   "outputs": [
    {
     "data": {
      "text/plain": [
       "'The COVID-19 pandemic, also known as the coronavirus pandemic, is an ongoing pandemic of coronavirus disease 2019 (COVID-19) caused by severe acute respiratory syndrome coronavirus 2 (SARS-CoV-2).'"
      ]
     },
     "execution_count": 30,
     "metadata": {},
     "output_type": "execute_result"
    }
   ],
   "source": [
    "sentences[0]"
   ]
  },
  {
   "cell_type": "code",
   "execution_count": 12,
   "metadata": {},
   "outputs": [],
   "source": [
    "import networkx as nx\n",
    "import numpy as np\n",
    " \n",
    "from nltk.tokenize.punkt import PunktSentenceTokenizer\n",
    "from sklearn.feature_extraction.text import TfidfTransformer, CountVectorizer\n",
    " \n",
    "def textrank(document):\n",
    "    sentence_tokenizer = PunktSentenceTokenizer()\n",
    "    sentences = sentence_tokenizer.tokenize(document)\n",
    " \n",
    "    bow_matrix = CountVectorizer().fit_transform(sentences)\n",
    "    normalized = TfidfTransformer().fit_transform(bow_matrix)\n",
    " \n",
    "    similarity_graph = normalized * normalized.T\n",
    " \n",
    "    nx_graph = nx.from_scipy_sparse_matrix(similarity_graph)\n",
    "    scores = nx.pagerank(nx_graph)\n",
    "    return sorted(((scores[i],s) for i,s in enumerate(sentences)),\n",
    "                  reverse=True)"
   ]
  },
  {
   "cell_type": "code",
   "execution_count": 32,
   "metadata": {},
   "outputs": [
    {
     "data": {
      "text/plain": [
       "[(0.061130538190084016,\n",
       "  'It has led to the postponement or cancellation of events, widespread supply shortages exacerbated by panic buying, agricultural disruption and food shortages, and decreased emissions of pollutants and greenhouse gases.'),\n",
       " (0.060230270320510274,\n",
       "  'Many places have also worked to increase testing capacity and trace contacts of the infected.'),\n",
       " (0.058607608354242294,\n",
       "  'The COVID-19 pandemic, also known as the coronavirus pandemic, is an ongoing pandemic of coronavirus disease 2019 (COVID-19) caused by severe acute respiratory syndrome coronavirus 2 (SARS-CoV-2).'),\n",
       " (0.0575484912199396,\n",
       "  'There have been incidents of xenophobia and discrimination against Chinese people and against those perceived as being Chinese or as being from areas with high infection rates.'),\n",
       " (0.05748267984597134,\n",
       "  \"Recommended preventive measures include social distancing, wearing face masks in public, ventilation and air-filtering, hand washing, covering one's mouth when sneezing or coughing, disinfecting surfaces, and monitoring and self-isolation for people exposed or symptomatic.\"),\n",
       " (0.057010612605271425,\n",
       "  'The World Health Organization declared the outbreak a Public Health Emergency of International Concern in January 2020 and a pandemic in March 2020.'),\n",
       " (0.056320045974837064,\n",
       "  'The pandemic has caused global social and economic disruption, including the largest global recession since the Great Depression.'),\n",
       " (0.055478147303211045,\n",
       "  'The virus spreads mainly through the air when people are near each other.'),\n",
       " (0.05514990276837194,\n",
       "  'People remain infectious for up to two weeks, and can spread the virus even if they do not show symptoms.'),\n",
       " (0.05292206864494559,\n",
       "  'Symptoms of COVID-19 are highly variable, ranging from none to severe illness.'),\n",
       " (0.052324712879283315,\n",
       "  '[b It leaves an infected person as they breathe, cough, sneeze, or speak and enters another person via their mouth, nose, or eyes.'),\n",
       " (0.05146310022030544,\n",
       "  'As of 28 December 2020, more than 81.1 million cases have been confirmed, with more than 1.77 million deaths attributed to COVID-19.'),\n",
       " (0.04760188651193677,\n",
       "  'Several vaccines are being developed and distributed.'),\n",
       " (0.04689382572969491,\n",
       "  'Many educational institutions have been partially or fully closed.'),\n",
       " (0.046632574078683535,\n",
       "  'Current treatments focus on addressing symptoms while work is underway to develop therapeutic drugs that inhibit the virus.'),\n",
       " (0.04650125802396069, 'It may also spread via contaminated surfaces.'),\n",
       " (0.04601850507134548,\n",
       "  'It was first identified in December 2019 in Wuhan, China.'),\n",
       " (0.04587183540789658,\n",
       "  'Misinformation has circulated through social media and mass media.'),\n",
       " (0.04481193684950849,\n",
       "  'Authorities worldwide have responded by implementing travel restrictions, lockdowns, workplace hazard controls, and facility closures.')]"
      ]
     },
     "execution_count": 32,
     "metadata": {},
     "output_type": "execute_result"
    }
   ],
   "source": [
    "textrank(document)"
   ]
  },
  {
   "cell_type": "code",
   "execution_count": null,
   "metadata": {},
   "outputs": [],
   "source": []
  }
 ],
 "metadata": {
  "kernelspec": {
   "display_name": "Python 3",
   "language": "python",
   "name": "python3"
  },
  "language_info": {
   "codemirror_mode": {
    "name": "ipython",
    "version": 3
   },
   "file_extension": ".py",
   "mimetype": "text/x-python",
   "name": "python",
   "nbconvert_exporter": "python",
   "pygments_lexer": "ipython3",
   "version": "3.7.7"
  }
 },
 "nbformat": 4,
 "nbformat_minor": 4
}
