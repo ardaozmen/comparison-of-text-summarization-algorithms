{
 "cells": [
  {
   "cell_type": "code",
   "execution_count": 1,
   "metadata": {},
   "outputs": [
    {
     "name": "stderr",
     "output_type": "stream",
     "text": [
      "/opt/anaconda3/envs/Python/lib/python3.7/site-packages/ipykernel_launcher.py:17: FutureWarning: Possible nested set at position 1\n"
     ]
    }
   ],
   "source": [
    "import requests\n",
    "from bs4 import BeautifulSoup\n",
    "import re\n",
    "\n",
    "r = requests.get('https://en.wikipedia.org/wiki/COVID-19_pandemic')\n",
    "page = r.content\n",
    "soup = BeautifulSoup(page, 'html.parser')\n",
    "parag = soup.find_all('p')\n",
    "title = soup.title.text\n",
    "\n",
    "l = []\n",
    "for p in parag[1], parag[2], parag[3], parag[4]:\n",
    "    txt=p.text.strip('\\n')\n",
    "    text=txt.replace('\\xa0',' ')\n",
    "    l.append(text)\n",
    "    data=' '.join(l)\n",
    "    document=re.sub('[[0-9]*]','', data)"
   ]
  },
  {
   "cell_type": "code",
   "execution_count": 2,
   "metadata": {},
   "outputs": [],
   "source": [
    "from nltk.tokenize.punkt import PunktSentenceTokenizer"
   ]
  },
  {
   "cell_type": "code",
   "execution_count": 84,
   "metadata": {},
   "outputs": [],
   "source": [
    "document = '''Liverpool's all-conquering season that brought them the club's first league title in 30 years seemed an age away as they were eliminated by Real Madrid in the Champions League quarter-final at a deserted Anfield.\n",
    "\n",
    "Jurgen Klopp's side, who carried all before them in the league last season, are now left with only the Premier League's top four - and a place in Europe's elite competition next term - to aim for if they are to salvage something from this fragmented, disappointing, injury-hit campaign.\n",
    "\n",
    "As Zinedine Zidane's players celebrated a professional job that saw them set up a Champions League semi-final against Chelsea, Klopp was left to ponder Liverpool's fall from grace in the past 12 months.\n",
    "\n",
    "He will no doubt face calls from frustrated Reds fans to revamp a squad that has served him and the club magnificently in recent seasons - indeed the social media jury was already delivering that knee-jerk verdict moments after elimination.\n",
    "\n",
    "It's clear we lost the quarter-final tie in Madrid - Klopp\n",
    "The manager, quite rightly, will guard against over-reaction. Liverpool have achieved too much and have too many high-class players for that - but that does not mean he does not have serious questions to consider.\n",
    "\n",
    "So does this Liverpool squad really need a major overhaul, or just minor renewal?\n",
    "\n",
    "A team as good as Liverpool have been seems an unlikely candidate for an extensive rebuild - but fresh faces can create momentum, renewal and a new mood, and this group has been together a long time.\n",
    "\n",
    "When Liverpool and Real met in the Champions League final in Kyiv in 2018, Klopp's line-up included seven of those who started at Anfield on Wednesday.\n",
    "'''"
   ]
  },
  {
   "cell_type": "code",
   "execution_count": 85,
   "metadata": {},
   "outputs": [],
   "source": [
    "document = ' '.join(document.strip().split('\\n'))"
   ]
  },
  {
   "cell_type": "code",
   "execution_count": 86,
   "metadata": {},
   "outputs": [],
   "source": [
    "sentence_tokenizer = PunktSentenceTokenizer()"
   ]
  },
  {
   "cell_type": "code",
   "execution_count": 87,
   "metadata": {},
   "outputs": [],
   "source": [
    "sentences = sentence_tokenizer.tokenize(document)"
   ]
  },
  {
   "cell_type": "code",
   "execution_count": 88,
   "metadata": {},
   "outputs": [
    {
     "data": {
      "text/plain": [
       "[\"Liverpool's all-conquering season that brought them the club's first league title in 30 years seemed an age away as they were eliminated by Real Madrid in the Champions League quarter-final at a deserted Anfield.\",\n",
       " \"Jurgen Klopp's side, who carried all before them in the league last season, are now left with only the Premier League's top four - and a place in Europe's elite competition next term - to aim for if they are to salvage something from this fragmented, disappointing, injury-hit campaign.\",\n",
       " \"As Zinedine Zidane's players celebrated a professional job that saw them set up a Champions League semi-final against Chelsea, Klopp was left to ponder Liverpool's fall from grace in the past 12 months.\",\n",
       " 'He will no doubt face calls from frustrated Reds fans to revamp a squad that has served him and the club magnificently in recent seasons - indeed the social media jury was already delivering that knee-jerk verdict moments after elimination.',\n",
       " \"It's clear we lost the quarter-final tie in Madrid - Klopp The manager, quite rightly, will guard against over-reaction.\",\n",
       " 'Liverpool have achieved too much and have too many high-class players for that - but that does not mean he does not have serious questions to consider.',\n",
       " 'So does this Liverpool squad really need a major overhaul, or just minor renewal?',\n",
       " 'A team as good as Liverpool have been seems an unlikely candidate for an extensive rebuild - but fresh faces can create momentum, renewal and a new mood, and this group has been together a long time.',\n",
       " \"When Liverpool and Real met in the Champions League final in Kyiv in 2018, Klopp's line-up included seven of those who started at Anfield on Wednesday.\"]"
      ]
     },
     "execution_count": 88,
     "metadata": {},
     "output_type": "execute_result"
    }
   ],
   "source": [
    "sentences"
   ]
  },
  {
   "cell_type": "code",
   "execution_count": 89,
   "metadata": {},
   "outputs": [],
   "source": [
    "from collections import Counter\n",
    " \n",
    "def bag_of_words(sentence):\n",
    "    return Counter(word.lower().strip('.,') for word in sentence.split(' '))"
   ]
  },
  {
   "cell_type": "code",
   "execution_count": 90,
   "metadata": {},
   "outputs": [
    {
     "data": {
      "text/plain": [
       "Counter({\"liverpool's\": 1,\n",
       "         'all-conquering': 1,\n",
       "         'season': 1,\n",
       "         'that': 1,\n",
       "         'brought': 1,\n",
       "         'them': 1,\n",
       "         'the': 2,\n",
       "         \"club's\": 1,\n",
       "         'first': 1,\n",
       "         'league': 2,\n",
       "         'title': 1,\n",
       "         'in': 2,\n",
       "         '30': 1,\n",
       "         'years': 1,\n",
       "         'seemed': 1,\n",
       "         'an': 1,\n",
       "         'age': 1,\n",
       "         'away': 1,\n",
       "         'as': 1,\n",
       "         'they': 1,\n",
       "         'were': 1,\n",
       "         'eliminated': 1,\n",
       "         'by': 1,\n",
       "         'real': 1,\n",
       "         'madrid': 1,\n",
       "         'champions': 1,\n",
       "         'quarter-final': 1,\n",
       "         'at': 1,\n",
       "         'a': 1,\n",
       "         'deserted': 1,\n",
       "         'anfield': 1})"
      ]
     },
     "execution_count": 90,
     "metadata": {},
     "output_type": "execute_result"
    }
   ],
   "source": [
    "bag_of_words(sentences[0])"
   ]
  },
  {
   "cell_type": "code",
   "execution_count": 91,
   "metadata": {},
   "outputs": [
    {
     "data": {
      "text/plain": [
       "array([[1, 1, 1, 1, 1, 1, 1, 1, 1, 1, 1, 1, 1, 1, 1, 1, 1, 2, 2, 1, 1, 1,\n",
       "        1, 1, 1, 1, 2, 1, 1, 1, 1, 1]])"
      ]
     },
     "execution_count": 91,
     "metadata": {},
     "output_type": "execute_result"
    }
   ],
   "source": [
    "from sklearn.feature_extraction.text import CountVectorizer\n",
    "c = CountVectorizer()\n",
    "bow_array = c.fit_transform([sentences[0]])\n",
    "bow_array.toarray()"
   ]
  },
  {
   "cell_type": "code",
   "execution_count": 92,
   "metadata": {},
   "outputs": [
    {
     "data": {
      "text/plain": [
       "<9x180 sparse matrix of type '<class 'numpy.int64'>'\n",
       "\twith 250 stored elements in Compressed Sparse Row format>"
      ]
     },
     "execution_count": 92,
     "metadata": {},
     "output_type": "execute_result"
    }
   ],
   "source": [
    "from sklearn.feature_extraction.text import CountVectorizer\n",
    "c = CountVectorizer()\n",
    "bow_matrix = c.fit_transform(sentences)\n",
    "bow_matrix"
   ]
  },
  {
   "cell_type": "code",
   "execution_count": 93,
   "metadata": {},
   "outputs": [],
   "source": [
    "from sklearn.feature_extraction.text import TfidfTransformer\n",
    "normalized_matrix = TfidfTransformer().fit_transform(bow_matrix)"
   ]
  },
  {
   "cell_type": "code",
   "execution_count": 94,
   "metadata": {},
   "outputs": [
    {
     "data": {
      "text/plain": [
       "array([[1.        , 0.19481437, 0.18518798, 0.10603924, 0.16758751,\n",
       "        0.03824826, 0.01580574, 0.09412877, 0.27127046],\n",
       "       [0.19481437, 1.        , 0.1579694 , 0.08884095, 0.07867906,\n",
       "        0.04706443, 0.02514469, 0.04729526, 0.15180013],\n",
       "       [0.18518798, 0.1579694 , 1.        , 0.11801513, 0.12149322,\n",
       "        0.08211884, 0.01680086, 0.04862441, 0.17491438],\n",
       "       [0.10603924, 0.08884095, 0.11801513, 1.        , 0.08891205,\n",
       "        0.09666963, 0.0371855 , 0.04183458, 0.06398199],\n",
       "       [0.16758751, 0.07867906, 0.12149322, 0.08891205, 1.        ,\n",
       "        0.        , 0.        , 0.        , 0.12042031],\n",
       "       [0.03824826, 0.04706443, 0.08211884, 0.09666963, 0.        ,\n",
       "        1.        , 0.09114083, 0.13497709, 0.02366474],\n",
       "       [0.01580574, 0.02514469, 0.01680086, 0.0371855 , 0.        ,\n",
       "        0.09114083, 1.        , 0.08066602, 0.01796402],\n",
       "       [0.09412877, 0.04729526, 0.04862441, 0.04183458, 0.        ,\n",
       "        0.13497709, 0.08066602, 1.        , 0.0362595 ],\n",
       "       [0.27127046, 0.15180013, 0.17491438, 0.06398199, 0.12042031,\n",
       "        0.02366474, 0.01796402, 0.0362595 , 1.        ]])"
      ]
     },
     "execution_count": 94,
     "metadata": {},
     "output_type": "execute_result"
    }
   ],
   "source": [
    "similarity_graph = normalized_matrix * normalized_matrix.T\n",
    "similarity_graph.toarray()"
   ]
  },
  {
   "cell_type": "code",
   "execution_count": 95,
   "metadata": {},
   "outputs": [
    {
     "data": {
      "text/plain": [
       "{0: 0.1287068954471938,\n",
       " 1: 0.1145050084489093,\n",
       " 2: 0.12035936449947437,\n",
       " 3: 0.10874175543628124,\n",
       " 4: 0.10360490881924775,\n",
       " 5: 0.10551237805702114,\n",
       " 6: 0.09758578917950579,\n",
       " 7: 0.10375385117983243,\n",
       " 8: 0.11723004893253386}"
      ]
     },
     "execution_count": 95,
     "metadata": {},
     "output_type": "execute_result"
    }
   ],
   "source": [
    "import networkx as nx\n",
    "nx_graph = nx.from_scipy_sparse_matrix(similarity_graph)\n",
    "scores = nx.pagerank(nx_graph)\n",
    "scores"
   ]
  },
  {
   "cell_type": "code",
   "execution_count": 96,
   "metadata": {},
   "outputs": [
    {
     "data": {
      "text/plain": [
       "\"Liverpool's all-conquering season that brought them the club's first league title in 30 years seemed an age away as they were eliminated by Real Madrid in the Champions League quarter-final at a deserted Anfield.\""
      ]
     },
     "execution_count": 96,
     "metadata": {},
     "output_type": "execute_result"
    }
   ],
   "source": [
    "ranked = sorted(((scores[i],s) for i,s in enumerate(sentences)),\n",
    "                reverse=True)\n",
    "ranked[0][1]"
   ]
  },
  {
   "cell_type": "code",
   "execution_count": 97,
   "metadata": {},
   "outputs": [
    {
     "data": {
      "text/plain": [
       "[(0.1287068954471938,\n",
       "  \"Liverpool's all-conquering season that brought them the club's first league title in 30 years seemed an age away as they were eliminated by Real Madrid in the Champions League quarter-final at a deserted Anfield.\"),\n",
       " (0.12035936449947437,\n",
       "  \"As Zinedine Zidane's players celebrated a professional job that saw them set up a Champions League semi-final against Chelsea, Klopp was left to ponder Liverpool's fall from grace in the past 12 months.\"),\n",
       " (0.11723004893253386,\n",
       "  \"When Liverpool and Real met in the Champions League final in Kyiv in 2018, Klopp's line-up included seven of those who started at Anfield on Wednesday.\"),\n",
       " (0.1145050084489093,\n",
       "  \"Jurgen Klopp's side, who carried all before them in the league last season, are now left with only the Premier League's top four - and a place in Europe's elite competition next term - to aim for if they are to salvage something from this fragmented, disappointing, injury-hit campaign.\"),\n",
       " (0.10874175543628124,\n",
       "  'He will no doubt face calls from frustrated Reds fans to revamp a squad that has served him and the club magnificently in recent seasons - indeed the social media jury was already delivering that knee-jerk verdict moments after elimination.'),\n",
       " (0.10551237805702114,\n",
       "  'Liverpool have achieved too much and have too many high-class players for that - but that does not mean he does not have serious questions to consider.'),\n",
       " (0.10375385117983243,\n",
       "  'A team as good as Liverpool have been seems an unlikely candidate for an extensive rebuild - but fresh faces can create momentum, renewal and a new mood, and this group has been together a long time.'),\n",
       " (0.10360490881924775,\n",
       "  \"It's clear we lost the quarter-final tie in Madrid - Klopp The manager, quite rightly, will guard against over-reaction.\"),\n",
       " (0.09758578917950579,\n",
       "  'So does this Liverpool squad really need a major overhaul, or just minor renewal?')]"
      ]
     },
     "execution_count": 97,
     "metadata": {},
     "output_type": "execute_result"
    }
   ],
   "source": [
    "ranked"
   ]
  },
  {
   "cell_type": "code",
   "execution_count": 49,
   "metadata": {},
   "outputs": [],
   "source": [
    "temp = dict(ranked)\n",
    "select_rank = [a_tuple[0] for a_tuple in ranked]\n",
    "res = [temp.get(t, 0) for t in select_rank if t >= 0.055]\n",
    "listToStr = ' '.join([str(elem) for elem in res])"
   ]
  },
  {
   "cell_type": "code",
   "execution_count": 50,
   "metadata": {},
   "outputs": [
    {
     "data": {
      "text/plain": [
       "'Savic started all eight of his team\\'s Champions League outings in 2020-21, with the dismissal against the Blues his third in the competition. Atletico Madrid defender Stefan Savic will have to serve a four-game ban from UEFA club fixtures as punishment for his dismissal for violent conduct against Chelsea. Atleti were also ordered to pay a further €14,000 for \"improper conduct of the team\". Savic was shown a straight red card after an incident involving Chelsea\\'s Antonio Rudiger in the second leg of the Champions League last-16 tie at Stamford Bridge on March 17. Atletico lost 2-0 on English soil – Hakim Ziyech and Emerson Palmieri scoring the goals – as the LaLiga side exited the competition 3-0 on aggregate. Diego Simeone also received a warning over a late kick-off to the fixture, while the club itself received a €10,000 fine. The Montenegro international has been disciplined by UEFA for \"assaulting another player\", as well as \"directing abusive language at a match official\".'"
      ]
     },
     "execution_count": 50,
     "metadata": {},
     "output_type": "execute_result"
    }
   ],
   "source": [
    "listToStr"
   ]
  },
  {
   "cell_type": "code",
   "execution_count": 51,
   "metadata": {},
   "outputs": [
    {
     "data": {
      "text/plain": [
       "'Atletico Madrid defender Stefan Savic will have to serve a four-game ban from UEFA club fixtures as punishment for his dismissal for violent conduct against Chelsea.'"
      ]
     },
     "execution_count": 51,
     "metadata": {},
     "output_type": "execute_result"
    }
   ],
   "source": [
    "sentences[0]"
   ]
  },
  {
   "cell_type": "code",
   "execution_count": 52,
   "metadata": {},
   "outputs": [],
   "source": [
    "import networkx as nx\n",
    "import numpy as np\n",
    " \n",
    "from nltk.tokenize.punkt import PunktSentenceTokenizer\n",
    "from sklearn.feature_extraction.text import TfidfTransformer, CountVectorizer\n",
    " \n",
    "def textrank(document):\n",
    "    sentence_tokenizer = PunktSentenceTokenizer()\n",
    "    sentences = sentence_tokenizer.tokenize(document)\n",
    " \n",
    "    bow_matrix = CountVectorizer().fit_transform(sentences)\n",
    "    normalized = TfidfTransformer().fit_transform(bow_matrix)\n",
    " \n",
    "    similarity_graph = normalized * normalized.T\n",
    " \n",
    "    nx_graph = nx.from_scipy_sparse_matrix(similarity_graph)\n",
    "    scores = nx.pagerank(nx_graph)\n",
    "    ranked = sorted(((scores[i],s) for i,s in enumerate(sentences)), reverse=True)\n",
    "    \n",
    "    # Limiting to Rank Point\n",
    "    temp = dict(ranked)\n",
    "    select_rank = [a_tuple[0] for a_tuple in ranked]\n",
    "    res = [temp.get(t, 0) for t in select_rank if t >= 0.075]\n",
    "    listToStr = ' '.join([str(elem) for elem in res])\n",
    "    \n",
    "    return listToStr"
   ]
  },
  {
   "cell_type": "code",
   "execution_count": 53,
   "metadata": {},
   "outputs": [
    {
     "data": {
      "text/plain": [
       "'Savic started all eight of his team\\'s Champions League outings in 2020-21, with the dismissal against the Blues his third in the competition. Atletico Madrid defender Stefan Savic will have to serve a four-game ban from UEFA club fixtures as punishment for his dismissal for violent conduct against Chelsea. Atleti were also ordered to pay a further €14,000 for \"improper conduct of the team\". Savic was shown a straight red card after an incident involving Chelsea\\'s Antonio Rudiger in the second leg of the Champions League last-16 tie at Stamford Bridge on March 17. Atletico lost 2-0 on English soil – Hakim Ziyech and Emerson Palmieri scoring the goals – as the LaLiga side exited the competition 3-0 on aggregate. Diego Simeone also received a warning over a late kick-off to the fixture, while the club itself received a €10,000 fine. The Montenegro international has been disciplined by UEFA for \"assaulting another player\", as well as \"directing abusive language at a match official\".'"
      ]
     },
     "execution_count": 53,
     "metadata": {},
     "output_type": "execute_result"
    }
   ],
   "source": [
    "textrank(document)"
   ]
  },
  {
   "cell_type": "code",
   "execution_count": 54,
   "metadata": {},
   "outputs": [],
   "source": [
    "tr='''Gelecek Partisi Genel Başkanı Ahmet Davutoğlu, partisinin Alanya ilçe 1’inci Olağan Kongresi’nde yaptığı konuşmada TL’nin değer kaybına ilişkin açıklamalarda bulundu.\n",
    "\n",
    "Davutoğlu’nun açıklamalarının bir kısmı şöyle:\n",
    "\n",
    "\"Dün gece yarısı bir sosyal medya kampanyasıyla neymiş, emperyalistlere karşı Hazine ve Maliye Bakanı'nı koruyacakmışız. Bizim görevimiz bir bakanı korumak değil, sizin ve bizim göreviniz Türk lirasını korumak.\n",
    "\n",
    "\"Maalesef Türk lirası da düşmekte olduğu zirvelerden bir kademe daha aşağıya düştü. Ben Mayıs 2016'da Başbakanlığı devrettiği zaman dolar 2.85'ti. Şimdi 7.30'da tutmaya çalışıyorlar. 4 yılda Türk lirası yüzde 155 değer kaybetti. Seçilmiş son Başbakanı yerinden etmek için ayak oyunları çevirenlerin bu yüzde 155'lik değer kaybı nereden geldi diye hesap vermesi lazım.\n",
    "\n",
    "\"Bize takdim ederken dediler ki 'Türk ekonomisi uçacak, etkin kararlar alacağız, Merkez Bankası kontrolümüze geçecek.' Ne oldu? 2018'ten bu yana 2 yılda Türk parası yüzde 60 değer kaybetti. Allah aşkını, Türk lirasına dünya piyasasının aksine bu değeri kaybettirenlerin Türkiye'ye yeniden itibar kazandırmaları mümkün mü? Türk lirasını bugün bu seviyeye düşürenler milli ekonomiden bahsedemezler, millete karşı bir ihanet içindedirler. Önce onlar hesap versin.\"'''"
   ]
  },
  {
   "cell_type": "code",
   "execution_count": 55,
   "metadata": {},
   "outputs": [
    {
     "data": {
      "text/plain": [
       "'4 yılda Türk lirası yüzde 155 değer kaybetti. 2018\\'ten bu yana 2 yılda Türk parası yüzde 60 değer kaybetti. \"Maalesef Türk lirası da düşmekte olduğu zirvelerden bir kademe daha aşağıya düştü.'"
      ]
     },
     "execution_count": 55,
     "metadata": {},
     "output_type": "execute_result"
    }
   ],
   "source": [
    "textrank(tr)"
   ]
  },
  {
   "cell_type": "code",
   "execution_count": null,
   "metadata": {},
   "outputs": [],
   "source": []
  }
 ],
 "metadata": {
  "kernelspec": {
   "display_name": "Python 3",
   "language": "python",
   "name": "python3"
  },
  "language_info": {
   "codemirror_mode": {
    "name": "ipython",
    "version": 3
   },
   "file_extension": ".py",
   "mimetype": "text/x-python",
   "name": "python",
   "nbconvert_exporter": "python",
   "pygments_lexer": "ipython3",
   "version": "3.7.7"
  }
 },
 "nbformat": 4,
 "nbformat_minor": 4
}
