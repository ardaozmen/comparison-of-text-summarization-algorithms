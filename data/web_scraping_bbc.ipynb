{
  "nbformat": 4,
  "nbformat_minor": 0,
  "metadata": {
    "kernelspec": {
      "display_name": "Python 3",
      "language": "python",
      "name": "python3"
    },
    "language_info": {
      "codemirror_mode": {
        "name": "ipython",
        "version": 3
      },
      "file_extension": ".py",
      "mimetype": "text/x-python",
      "name": "python",
      "nbconvert_exporter": "python",
      "pygments_lexer": "ipython3",
      "version": "3.8.3"
    },
    "colab": {
      "name": "web_scraping_bbc.ipynb",
      "provenance": [],
      "collapsed_sections": []
    }
  },
  "cells": [
    {
      "cell_type": "code",
      "metadata": {
        "id": "4BiN3SPB3AUL"
      },
      "source": [
        "import requests\n",
        "from bs4 import BeautifulSoup\n",
        "import re"
      ],
      "execution_count": 1,
      "outputs": []
    },
    {
      "cell_type": "code",
      "metadata": {
        "id": "4KZmVgUg3AUR"
      },
      "source": [
        "r = requests.get('https://www.bbc.com/news/world-africa-55872485')\n",
        "page = r.content\n",
        "soup = BeautifulSoup(page, 'html.parser')"
      ],
      "execution_count": 2,
      "outputs": []
    },
    {
      "cell_type": "code",
      "metadata": {
        "id": "LWQ2Kvsx3AUR"
      },
      "source": [
        "for s in soup.select('li'):\n",
        "    s.extract()"
      ],
      "execution_count": 3,
      "outputs": []
    },
    {
      "cell_type": "code",
      "metadata": {
        "colab": {
          "base_uri": "https://localhost:8080/"
        },
        "id": "YSJsAIm33AUS",
        "outputId": "eeb9bddd-5ce0-414d-8cba-8b4c73e20431"
      },
      "source": [
        "text=[]\n",
        "title=soup.title.text\n",
        "title=title.split('-')[0]\n",
        "print(title)\n",
        "print('')\n",
        "for s in soup.find_all('div',{'class' : 'ssrcss-3z08n3-RichTextContainer e5tfeyi2'}):\n",
        "    if s.text!=\"\":\n",
        "        text.append(s.text)\n",
        "        print(s.text)"
      ],
      "execution_count": 4,
      "outputs": [
        {
          "output_type": "stream",
          "text": [
            "Central African Republic's capital in 'apocalyptic situation' as rebels close in \n",
            "\n",
            "The situation in the Central African Republic's (CAR) capital of Bangui is \"apocalyptic\" as rebels encircle the city, a former prime minister says.\n",
            "Martin Ziguélé said there was daily fighting across the country and that he couldn't leave Bangui without an armed escort.\n",
            "The UN says more than 200,000 people have fled their homes since the conflict erupted last month.\n",
            "Rebel forces now control two-thirds of the country.\n",
            "The CAR is one of Africa's poorest and most unstable countries, even though it is rich in resources such as diamonds and uranium. The UN estimates that about half the population is dependent on humanitarian aid.\n",
            "Rebel forces now surrounding Bangui dispute the validity of President Faustin Archange Touadéra's re-election in December and want to see him ousted.\n",
            "The city is being defended by government forces backed by UN, Russian and Rwandan troops. A state of emergency was declared earlier this month.\n",
            "Mr Ziguélé, who came third in the poll, said everyone's focus was on keeping the main supply route between Bangui and eastern Cameroon open.\n",
            "\"I cannot leave Bangui... without a heavily armed army escort,\" he told Reuters news agency by phone.\n",
            "\"Imagine, then, the population. Add the curfew and the state of emergency - it is really an apocalyptic situation,\" he added.\n",
            "Mr Ziguélé welcomed a UN request for more peacekeeping troops but said talks between all parties were urgently needed.\n",
            "\"A military surge is not the only solution to tackle the security, humanitarian and economic crisis that is threatening to put one of the world's least developed countries into a complete coma,\" he said.\n",
            "At least 12,000 peacekeepers are already on the ground in the CAR.\n",
            "The UN refugee agency (UNHCR) said about 92,000 refugees had fled to the Democratic Republic of Congo and more than 13,000 had crossed into Cameroon, Chad and the Republic of Congo. It said the rest were displaced within the CAR.\n",
            "Speaking in Geneva, a spokesman for the UN refugee agency, UNHCR, told reporters that rebel attacks had hampered humanitarian access to Bangui and that many people were now facing \"dire conditions\".\n",
            "Disease was growing and some of those displaced were so desperate they were exchanging sex for food, spokesman Boris Cheshirkov added. \n",
            "Meanwhile, a regional body of 12 member states has called for a ceasefire and urged armed groups to \"disengage from the encirclement of Bangui\".\n",
            "The International Conference on the Great Lakes Region has warned that the crisis poses a serious threat to neighbouring countries. \n"
          ],
          "name": "stdout"
        }
      ]
    }
  ]
}