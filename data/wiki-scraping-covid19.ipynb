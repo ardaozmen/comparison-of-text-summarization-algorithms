{
 "cells": [
  {
   "cell_type": "code",
   "execution_count": 1,
   "metadata": {},
   "outputs": [],
   "source": [
    "import requests\n",
    "from bs4 import BeautifulSoup\n",
    "import re"
   ]
  },
  {
   "cell_type": "code",
   "execution_count": 2,
   "metadata": {},
   "outputs": [],
   "source": [
    "r = requests.get('https://en.wikipedia.org/wiki/COVID-19_pandemic')\n",
    "page = r.content\n",
    "soup = BeautifulSoup(page, 'html.parser')\n",
    "parag = soup.find_all('p')\n",
    "title = soup.title.text"
   ]
  },
  {
   "cell_type": "code",
   "execution_count": 4,
   "metadata": {},
   "outputs": [],
   "source": [
    "l = []\n",
    "for p in parag[1], parag[2], parag[3], parag[4]:\n",
    "    txt=p.text.strip('\\n')\n",
    "    text=txt.replace('\\xa0',' ')\n",
    "    l.append(text)\n",
    "    data=' '.join(l)\n",
    "    clean_data=re.sub('[[0-9]*]','', data)"
   ]
  },
  {
   "cell_type": "code",
   "execution_count": 68,
   "metadata": {},
   "outputs": [],
   "source": [
    "def main():      \n",
    "    f = open(\"covid-19.txt\", \"w+\")\n",
    "    f.write(title + \"\\r\\n\" + clean_data)\n",
    "    f.close()    \n",
    "if __name__ == \"__main__\":\n",
    "    main()"
   ]
  },
  {
   "cell_type": "code",
   "execution_count": null,
   "metadata": {},
   "outputs": [],
   "source": []
  }
 ],
 "metadata": {
  "kernelspec": {
   "display_name": "Python 3",
   "language": "python",
   "name": "python3"
  },
  "language_info": {
   "codemirror_mode": {
    "name": "ipython",
    "version": 3
   },
   "file_extension": ".py",
   "mimetype": "text/x-python",
   "name": "python",
   "nbconvert_exporter": "python",
   "pygments_lexer": "ipython3",
   "version": "3.7.7"
  }
 },
 "nbformat": 4,
 "nbformat_minor": 4
}
