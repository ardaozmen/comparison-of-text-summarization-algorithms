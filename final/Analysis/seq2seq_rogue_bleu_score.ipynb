{
  "nbformat": 4,
  "nbformat_minor": 0,
  "metadata": {
    "colab": {
      "name": "seq2seq_rogue_bleu_score.ipynb",
      "provenance": [],
      "collapsed_sections": []
    },
    "kernelspec": {
      "name": "python3",
      "display_name": "Python 3"
    },
    "language_info": {
      "name": "python"
    }
  },
  "cells": [
    {
      "cell_type": "code",
      "metadata": {
        "colab": {
          "base_uri": "https://localhost:8080/",
          "height": 341
        },
        "id": "xda4YwHdWgPu",
        "outputId": "fa75156d-b184-435c-efd0-baba7951c7db"
      },
      "source": [
        "#Reading seq2seq scores data\n",
        "import pandas as pd\n",
        "\n",
        "df = pd.read_csv('att_no.csv')\n",
        "df.head()"
      ],
      "execution_count": 1,
      "outputs": [
        {
          "output_type": "execute_result",
          "data": {
            "text/html": [
              "<div>\n",
              "<style scoped>\n",
              "    .dataframe tbody tr th:only-of-type {\n",
              "        vertical-align: middle;\n",
              "    }\n",
              "\n",
              "    .dataframe tbody tr th {\n",
              "        vertical-align: top;\n",
              "    }\n",
              "\n",
              "    .dataframe thead th {\n",
              "        text-align: right;\n",
              "    }\n",
              "</style>\n",
              "<table border=\"1\" class=\"dataframe\">\n",
              "  <thead>\n",
              "    <tr style=\"text-align: right;\">\n",
              "      <th></th>\n",
              "      <th>Unnamed: 0</th>\n",
              "      <th>long</th>\n",
              "      <th>prediction</th>\n",
              "      <th>original</th>\n",
              "      <th>bleu</th>\n",
              "      <th>rouge_1</th>\n",
              "      <th>rouge_2</th>\n",
              "      <th>rouge_l</th>\n",
              "    </tr>\n",
              "  </thead>\n",
              "  <tbody>\n",
              "    <tr>\n",
              "      <th>0</th>\n",
              "      <td>0</td>\n",
              "      <td>uk pm theresa may on wednesday appointed one o...</td>\n",
              "      <td>us pm modi to be appointed as president</td>\n",
              "      <td>uk gets world's first ever for</td>\n",
              "      <td>0.000000</td>\n",
              "      <td>{'f': 0.0, 'p': 0.0, 'r': 0.0}</td>\n",
              "      <td>{'f': 0.0, 'p': 0.0, 'r': 0.0}</td>\n",
              "      <td>{'f': 0.0, 'p': 0.0, 'r': 0.0}</td>\n",
              "    </tr>\n",
              "    <tr>\n",
              "      <th>1</th>\n",
              "      <td>1</td>\n",
              "      <td>residents of the german city of stuttgart are ...</td>\n",
              "      <td>uk school bans use of food to avoid</td>\n",
              "      <td>germans gift wrap cars to punish parking offen...</td>\n",
              "      <td>0.594604</td>\n",
              "      <td>{'f': 0.1249999950000002, 'p': 0.125, 'r': 0.125}</td>\n",
              "      <td>{'f': 0.0, 'p': 0.0, 'r': 0.0}</td>\n",
              "      <td>{'f': 0.1249999950000002, 'p': 0.125, 'r': 0.125}</td>\n",
              "    </tr>\n",
              "    <tr>\n",
              "      <th>2</th>\n",
              "      <td>2</td>\n",
              "      <td>the supreme court recently ruled that governme...</td>\n",
              "      <td>centre asks states to stop sc order to sc order</td>\n",
              "      <td>govt can deny voluntary retirement to public s...</td>\n",
              "      <td>0.668740</td>\n",
              "      <td>{'f': 0.21052631080332423, 'p': 0.2, 'r': 0.22...</td>\n",
              "      <td>{'f': 0.0, 'p': 0.0, 'r': 0.0}</td>\n",
              "      <td>{'f': 0.24999999507812506, 'p': 0.285714285714...</td>\n",
              "    </tr>\n",
              "    <tr>\n",
              "      <th>3</th>\n",
              "      <td>3</td>\n",
              "      <td>the supreme court restored possession of 2 412...</td>\n",
              "      <td>hc rejects plea against nirav modi over cheating</td>\n",
              "      <td>sc asks dilip kumar to pay â¹20 crore in real...</td>\n",
              "      <td>0.000000</td>\n",
              "      <td>{'f': 0.0, 'p': 0.0, 'r': 0.0}</td>\n",
              "      <td>{'f': 0.0, 'p': 0.0, 'r': 0.0}</td>\n",
              "      <td>{'f': 0.0, 'p': 0.0, 'r': 0.0}</td>\n",
              "    </tr>\n",
              "    <tr>\n",
              "      <th>4</th>\n",
              "      <td>4</td>\n",
              "      <td>a police officer in georgia's county who was r...</td>\n",
              "      <td>police officer who killed in a week in mumbai</td>\n",
              "      <td>us officer who said 'we only kill black people...</td>\n",
              "      <td>0.292523</td>\n",
              "      <td>{'f': 0.19047618557823143, 'p': 0.222222222222...</td>\n",
              "      <td>{'f': 0.1052631530193908, 'p': 0.125, 'r': 0.0...</td>\n",
              "      <td>{'f': 0.1999999952000001, 'p': 0.25, 'r': 0.16...</td>\n",
              "    </tr>\n",
              "  </tbody>\n",
              "</table>\n",
              "</div>"
            ],
            "text/plain": [
              "   Unnamed: 0  ...                                            rouge_l\n",
              "0           0  ...                     {'f': 0.0, 'p': 0.0, 'r': 0.0}\n",
              "1           1  ...  {'f': 0.1249999950000002, 'p': 0.125, 'r': 0.125}\n",
              "2           2  ...  {'f': 0.24999999507812506, 'p': 0.285714285714...\n",
              "3           3  ...                     {'f': 0.0, 'p': 0.0, 'r': 0.0}\n",
              "4           4  ...  {'f': 0.1999999952000001, 'p': 0.25, 'r': 0.16...\n",
              "\n",
              "[5 rows x 8 columns]"
            ]
          },
          "metadata": {
            "tags": []
          },
          "execution_count": 1
        }
      ]
    },
    {
      "cell_type": "code",
      "metadata": {
        "colab": {
          "base_uri": "https://localhost:8080/"
        },
        "id": "iQQ8MXkaWvbq",
        "outputId": "f2d6e97a-f651-4933-aef5-92f7b94b99f0"
      },
      "source": [
        "df.shape"
      ],
      "execution_count": 2,
      "outputs": [
        {
          "output_type": "execute_result",
          "data": {
            "text/plain": [
              "(1000, 8)"
            ]
          },
          "metadata": {
            "tags": []
          },
          "execution_count": 2
        }
      ]
    },
    {
      "cell_type": "code",
      "metadata": {
        "colab": {
          "base_uri": "https://localhost:8080/",
          "height": 69
        },
        "id": "6NajMaBa8Jbm",
        "outputId": "d24d2256-6e38-4f3d-d2b5-160cf5e2a0a7"
      },
      "source": [
        "df['long'][3]"
      ],
      "execution_count": 3,
      "outputs": [
        {
          "output_type": "execute_result",
          "data": {
            "application/vnd.google.colaboratory.intrinsic+json": {
              "type": "string"
            },
            "text/plain": [
              "\"the supreme court restored possession of 2 412 square yards land in bandra mumbai to actor dilip kumar and directed him to pay â\\x82¹20 crore to a real estate firm the firm had entered into an agreement with him in 2006 to develop the property but no construction took place the firm's appeal for the enforcement was dismissed by sc \""
            ]
          },
          "metadata": {
            "tags": []
          },
          "execution_count": 3
        }
      ]
    },
    {
      "cell_type": "code",
      "metadata": {
        "id": "foBsoflCW0ag"
      },
      "source": [
        "# Splitting for bleu scores \n",
        "a=[]\n",
        "for c in df['long']:\n",
        "  a.append(len(c.split()))"
      ],
      "execution_count": 4,
      "outputs": []
    },
    {
      "cell_type": "code",
      "metadata": {
        "colab": {
          "base_uri": "https://localhost:8080/",
          "height": 416
        },
        "id": "5Ct_hkQhzbcI",
        "outputId": "b8b79600-bd56-45f9-83a2-2fc809367bbb"
      },
      "source": [
        "# For Word Count - Bleu Score\n",
        "import numpy as np\n",
        "\n",
        "bleu_tester = pd.DataFrame()\n",
        "\n",
        "bleu_tester['Bleu Score'] = df['bleu']\n",
        "bleu_tester['Word Count'] = a\n",
        "bleu_tester"
      ],
      "execution_count": 5,
      "outputs": [
        {
          "output_type": "execute_result",
          "data": {
            "text/html": [
              "<div>\n",
              "<style scoped>\n",
              "    .dataframe tbody tr th:only-of-type {\n",
              "        vertical-align: middle;\n",
              "    }\n",
              "\n",
              "    .dataframe tbody tr th {\n",
              "        vertical-align: top;\n",
              "    }\n",
              "\n",
              "    .dataframe thead th {\n",
              "        text-align: right;\n",
              "    }\n",
              "</style>\n",
              "<table border=\"1\" class=\"dataframe\">\n",
              "  <thead>\n",
              "    <tr style=\"text-align: right;\">\n",
              "      <th></th>\n",
              "      <th>Bleu Score</th>\n",
              "      <th>Word Count</th>\n",
              "    </tr>\n",
              "  </thead>\n",
              "  <tbody>\n",
              "    <tr>\n",
              "      <th>0</th>\n",
              "      <td>0.000000</td>\n",
              "      <td>55</td>\n",
              "    </tr>\n",
              "    <tr>\n",
              "      <th>1</th>\n",
              "      <td>0.594604</td>\n",
              "      <td>60</td>\n",
              "    </tr>\n",
              "    <tr>\n",
              "      <th>2</th>\n",
              "      <td>0.668740</td>\n",
              "      <td>60</td>\n",
              "    </tr>\n",
              "    <tr>\n",
              "      <th>3</th>\n",
              "      <td>0.000000</td>\n",
              "      <td>60</td>\n",
              "    </tr>\n",
              "    <tr>\n",
              "      <th>4</th>\n",
              "      <td>0.292523</td>\n",
              "      <td>55</td>\n",
              "    </tr>\n",
              "    <tr>\n",
              "      <th>...</th>\n",
              "      <td>...</td>\n",
              "      <td>...</td>\n",
              "    </tr>\n",
              "    <tr>\n",
              "      <th>995</th>\n",
              "      <td>0.577350</td>\n",
              "      <td>59</td>\n",
              "    </tr>\n",
              "    <tr>\n",
              "      <th>996</th>\n",
              "      <td>0.000000</td>\n",
              "      <td>51</td>\n",
              "    </tr>\n",
              "    <tr>\n",
              "      <th>997</th>\n",
              "      <td>0.463078</td>\n",
              "      <td>59</td>\n",
              "    </tr>\n",
              "    <tr>\n",
              "      <th>998</th>\n",
              "      <td>0.686589</td>\n",
              "      <td>59</td>\n",
              "    </tr>\n",
              "    <tr>\n",
              "      <th>999</th>\n",
              "      <td>0.000000</td>\n",
              "      <td>60</td>\n",
              "    </tr>\n",
              "  </tbody>\n",
              "</table>\n",
              "<p>1000 rows × 2 columns</p>\n",
              "</div>"
            ],
            "text/plain": [
              "     Bleu Score  Word Count\n",
              "0      0.000000          55\n",
              "1      0.594604          60\n",
              "2      0.668740          60\n",
              "3      0.000000          60\n",
              "4      0.292523          55\n",
              "..          ...         ...\n",
              "995    0.577350          59\n",
              "996    0.000000          51\n",
              "997    0.463078          59\n",
              "998    0.686589          59\n",
              "999    0.000000          60\n",
              "\n",
              "[1000 rows x 2 columns]"
            ]
          },
          "metadata": {
            "tags": []
          },
          "execution_count": 5
        }
      ]
    },
    {
      "cell_type": "code",
      "metadata": {
        "colab": {
          "base_uri": "https://localhost:8080/"
        },
        "id": "w6j0BxNozRJj",
        "outputId": "7b6b435c-63f9-40cb-8096-71b85bd3ab7e"
      },
      "source": [
        "!pip install rouge\n",
        "#Calculate the Average of Full Data scores\n",
        "from rouge import Rouge\n",
        "\n",
        "rouge = Rouge()\n",
        "scores = rouge.get_scores(df['prediction'], df['original'], avg=True)\n",
        "scores"
      ],
      "execution_count": 16,
      "outputs": [
        {
          "output_type": "stream",
          "text": [
            "Requirement already satisfied: rouge in /usr/local/lib/python3.7/dist-packages (1.0.0)\n",
            "Requirement already satisfied: six in /usr/local/lib/python3.7/dist-packages (from rouge) (1.15.0)\n"
          ],
          "name": "stdout"
        },
        {
          "output_type": "execute_result",
          "data": {
            "text/plain": [
              "{'rouge-1': {'f': 0.1348101378232965,\n",
              "  'p': 0.13848816948673673,\n",
              "  'r': 0.1354690434871364},\n",
              " 'rouge-2': {'f': 0.02197219407270013,\n",
              "  'p': 0.02297757423735683,\n",
              "  'r': 0.022033816591904815},\n",
              " 'rouge-l': {'f': 0.1331690488393528,\n",
              "  'p': 0.1462474303474306,\n",
              "  'r': 0.1263056672795807}}"
            ]
          },
          "metadata": {
            "tags": []
          },
          "execution_count": 16
        }
      ]
    },
    {
      "cell_type": "code",
      "metadata": {
        "colab": {
          "base_uri": "https://localhost:8080/"
        },
        "id": "V1CPvXObzhSH",
        "outputId": "9cb0284f-5ddd-45d9-881e-73f07e2d3a50"
      },
      "source": [
        "# Read the stats files\n",
        "import pandas as pd\n",
        "\n",
        "seq = pd.read_csv('seq2seq_eng_att_stats.csv')\n",
        "seq_scores = rouge.get_scores(seq['prediction'][:1000], seq['original'][:1000], avg=True)\n",
        "seq_scores"
      ],
      "execution_count": 19,
      "outputs": [
        {
          "output_type": "execute_result",
          "data": {
            "text/plain": [
              "{'rouge-1': {'f': 0.2144112665108315,\n",
              "  'p': 0.22559180808423016,\n",
              "  'r': 0.20962362445513294},\n",
              " 'rouge-2': {'f': 0.051737031499641525,\n",
              "  'p': 0.05518741901373486,\n",
              "  'r': 0.050096807636807725},\n",
              " 'rouge-l': {'f': 0.2081461130179538,\n",
              "  'p': 0.2345889749139749,\n",
              "  'r': 0.19329518152772762}}"
            ]
          },
          "metadata": {
            "tags": []
          },
          "execution_count": 19
        }
      ]
    },
    {
      "cell_type": "code",
      "metadata": {
        "colab": {
          "base_uri": "https://localhost:8080/",
          "height": 294
        },
        "id": "XRDWL1gQ0szF",
        "outputId": "454e88a5-f849-4893-f660-48a0abb9b18e"
      },
      "source": [
        "# Average of bleu score for seq2seq without Attention Layer\n",
        "df.describe()"
      ],
      "execution_count": 21,
      "outputs": [
        {
          "output_type": "execute_result",
          "data": {
            "text/html": [
              "<div>\n",
              "<style scoped>\n",
              "    .dataframe tbody tr th:only-of-type {\n",
              "        vertical-align: middle;\n",
              "    }\n",
              "\n",
              "    .dataframe tbody tr th {\n",
              "        vertical-align: top;\n",
              "    }\n",
              "\n",
              "    .dataframe thead th {\n",
              "        text-align: right;\n",
              "    }\n",
              "</style>\n",
              "<table border=\"1\" class=\"dataframe\">\n",
              "  <thead>\n",
              "    <tr style=\"text-align: right;\">\n",
              "      <th></th>\n",
              "      <th>Unnamed: 0</th>\n",
              "      <th>bleu</th>\n",
              "    </tr>\n",
              "  </thead>\n",
              "  <tbody>\n",
              "    <tr>\n",
              "      <th>count</th>\n",
              "      <td>1000.000000</td>\n",
              "      <td>1000.000000</td>\n",
              "    </tr>\n",
              "    <tr>\n",
              "      <th>mean</th>\n",
              "      <td>499.500000</td>\n",
              "      <td>0.374091</td>\n",
              "    </tr>\n",
              "    <tr>\n",
              "      <th>std</th>\n",
              "      <td>288.819436</td>\n",
              "      <td>0.252660</td>\n",
              "    </tr>\n",
              "    <tr>\n",
              "      <th>min</th>\n",
              "      <td>0.000000</td>\n",
              "      <td>0.000000</td>\n",
              "    </tr>\n",
              "    <tr>\n",
              "      <th>25%</th>\n",
              "      <td>249.750000</td>\n",
              "      <td>0.000000</td>\n",
              "    </tr>\n",
              "    <tr>\n",
              "      <th>50%</th>\n",
              "      <td>499.500000</td>\n",
              "      <td>0.463078</td>\n",
              "    </tr>\n",
              "    <tr>\n",
              "      <th>75%</th>\n",
              "      <td>749.250000</td>\n",
              "      <td>0.562341</td>\n",
              "    </tr>\n",
              "    <tr>\n",
              "      <th>max</th>\n",
              "      <td>999.000000</td>\n",
              "      <td>0.816497</td>\n",
              "    </tr>\n",
              "  </tbody>\n",
              "</table>\n",
              "</div>"
            ],
            "text/plain": [
              "        Unnamed: 0         bleu\n",
              "count  1000.000000  1000.000000\n",
              "mean    499.500000     0.374091\n",
              "std     288.819436     0.252660\n",
              "min       0.000000     0.000000\n",
              "25%     249.750000     0.000000\n",
              "50%     499.500000     0.463078\n",
              "75%     749.250000     0.562341\n",
              "max     999.000000     0.816497"
            ]
          },
          "metadata": {
            "tags": []
          },
          "execution_count": 21
        }
      ]
    },
    {
      "cell_type": "code",
      "metadata": {
        "colab": {
          "base_uri": "https://localhost:8080/",
          "height": 294
        },
        "id": "0032yb8p1LDa",
        "outputId": "bf201da8-bdc8-4807-a7e3-d46ffb2da6a1"
      },
      "source": [
        "# Average of bleu score for seq2seq with Attention Layer\n",
        "seq[:1000].describe()"
      ],
      "execution_count": 23,
      "outputs": [
        {
          "output_type": "execute_result",
          "data": {
            "text/html": [
              "<div>\n",
              "<style scoped>\n",
              "    .dataframe tbody tr th:only-of-type {\n",
              "        vertical-align: middle;\n",
              "    }\n",
              "\n",
              "    .dataframe tbody tr th {\n",
              "        vertical-align: top;\n",
              "    }\n",
              "\n",
              "    .dataframe thead th {\n",
              "        text-align: right;\n",
              "    }\n",
              "</style>\n",
              "<table border=\"1\" class=\"dataframe\">\n",
              "  <thead>\n",
              "    <tr style=\"text-align: right;\">\n",
              "      <th></th>\n",
              "      <th>Unnamed: 0</th>\n",
              "      <th>bleu</th>\n",
              "    </tr>\n",
              "  </thead>\n",
              "  <tbody>\n",
              "    <tr>\n",
              "      <th>count</th>\n",
              "      <td>1000.000000</td>\n",
              "      <td>1000.000000</td>\n",
              "    </tr>\n",
              "    <tr>\n",
              "      <th>mean</th>\n",
              "      <td>499.500000</td>\n",
              "      <td>0.430748</td>\n",
              "    </tr>\n",
              "    <tr>\n",
              "      <th>std</th>\n",
              "      <td>288.819436</td>\n",
              "      <td>0.216471</td>\n",
              "    </tr>\n",
              "    <tr>\n",
              "      <th>min</th>\n",
              "      <td>0.000000</td>\n",
              "      <td>0.000000</td>\n",
              "    </tr>\n",
              "    <tr>\n",
              "      <th>25%</th>\n",
              "      <td>249.750000</td>\n",
              "      <td>0.338654</td>\n",
              "    </tr>\n",
              "    <tr>\n",
              "      <th>50%</th>\n",
              "      <td>499.500000</td>\n",
              "      <td>0.463078</td>\n",
              "    </tr>\n",
              "    <tr>\n",
              "      <th>75%</th>\n",
              "      <td>749.250000</td>\n",
              "      <td>0.577350</td>\n",
              "    </tr>\n",
              "    <tr>\n",
              "      <th>max</th>\n",
              "      <td>999.000000</td>\n",
              "      <td>0.816497</td>\n",
              "    </tr>\n",
              "  </tbody>\n",
              "</table>\n",
              "</div>"
            ],
            "text/plain": [
              "        Unnamed: 0         bleu\n",
              "count  1000.000000  1000.000000\n",
              "mean    499.500000     0.430748\n",
              "std     288.819436     0.216471\n",
              "min       0.000000     0.000000\n",
              "25%     249.750000     0.338654\n",
              "50%     499.500000     0.463078\n",
              "75%     749.250000     0.577350\n",
              "max     999.000000     0.816497"
            ]
          },
          "metadata": {
            "tags": []
          },
          "execution_count": 23
        }
      ]
    },
    {
      "cell_type": "code",
      "metadata": {
        "id": "rrsl31Ww1Tjp"
      },
      "source": [
        ""
      ],
      "execution_count": null,
      "outputs": []
    }
  ]
}