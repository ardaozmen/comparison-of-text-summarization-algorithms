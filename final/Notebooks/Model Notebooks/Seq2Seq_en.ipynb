{
  "nbformat": 4,
  "nbformat_minor": 0,
  "metadata": {
    "kernelspec": {
      "display_name": "Python 3",
      "language": "python",
      "name": "python3"
    },
    "language_info": {
      "codemirror_mode": {
        "name": "ipython",
        "version": 3
      },
      "file_extension": ".py",
      "mimetype": "text/x-python",
      "name": "python",
      "nbconvert_exporter": "python",
      "pygments_lexer": "ipython3",
      "version": "3.8.5"
    },
    "colab": {
      "name": "Seq2Seq_en.ipynb",
      "provenance": [],
      "collapsed_sections": [],
      "toc_visible": true
    },
    "accelerator": "GPU"
  },
  "cells": [
    {
      "cell_type": "markdown",
      "metadata": {
        "id": "2YCsLzesR3oX"
      },
      "source": [
        "Seq2Seq\n",
        "----------------------\n",
        "Before starting, some explanation is needed about RNN's and LSTM "
      ]
    },
    {
      "cell_type": "markdown",
      "metadata": {
        "id": "51aIHbHXR3od"
      },
      "source": [
        "RNN\n",
        "-------------------------------\n",
        "\n",
        "Recurrent Neural Networks are models that work in a loop system in order to create the needed product with carrying the knowledge of the previous equation.\n",
        "They can be used in multiple fields such as speech recognition,language modeling, translation, image captioning and so on\n",
        "\n",
        "<img src=\"RNN-unrolled.png\">\n",
        "\n",
        "As with many other networks, RNN has its limitations. It can, in theory, work on any kind of data but it has been observed that it will have difficulties\n",
        "when using bigger data. \n",
        "<img src=\"RNN-longtermdependencies.png\">\n",
        "While it works perfectly well when the data is relatively small or the wanted sample size is not that far away from the present data\n",
        "that is been looked for, its simplistic layer will make it harder and harder to remember knowledge from far away.\n",
        "<img src=\"LSTM3-SimpleRNN.png\">\n",
        "\n",
        "This is where LSTM's come in.\n"
      ]
    },
    {
      "cell_type": "markdown",
      "metadata": {
        "id": "DOz3l9g4R3oe"
      },
      "source": [
        "LSTM\n",
        "----------------\n",
        "\n",
        "Long Short Term Memory networks – usually just called “LSTMs” – are a special kind of RNN, capable of learning long-term dependencies. LSTMs are explicitly designed to avoid the long-term dependency problem.\n",
        "<img src=\"LSTM3-chain.png\">\n",
        "\n"
      ]
    },
    {
      "cell_type": "markdown",
      "metadata": {
        "id": "nz8DJd7AR3oe"
      },
      "source": [
        "The General Procedure  of LSTM\n",
        "-----------------------------------------\n",
        "\n",
        "Cell State: Carries what the model needs to remember. This, alongside hidden state h(which is a production of cell state), allows the model to remember distant memory.\n",
        "<img src=\"LSTM3-C-line.png\">\n",
        "\n",
        "Forget Gate Layer: Decides that if the previous state is needed to be remembered or not.\n",
        "<img src=\"LSTM3-focus-f.png\">\n",
        "\n",
        "Input Gate Layer: Decides what values will be updated.\n",
        "<img src=\"LSTM3-focus-i.png\">\n",
        "\n",
        "By the end, The cell state will either be updated or won't be touched.\n",
        "<img src=\"LSTM3-focus-C.png\">\n",
        "\n",
        "Finally, the model will decide which parts it will produce as outputs.\n",
        "<img src=\"LSTM3-focus-o.png\">"
      ]
    },
    {
      "cell_type": "markdown",
      "metadata": {
        "id": "fGWRCID6JRsy"
      },
      "source": [
        "this code references this repository:https://github.com/madhav727/abstractive-news-summary"
      ]
    },
    {
      "cell_type": "code",
      "metadata": {
        "id": "Q3OMI4EBJRbc"
      },
      "source": [
        ""
      ],
      "execution_count": null,
      "outputs": []
    },
    {
      "cell_type": "code",
      "metadata": {
        "colab": {
          "base_uri": "https://localhost:8080/"
        },
        "id": "nzfBdCdwZnx4",
        "outputId": "2b64aeff-3d53-40f3-fe57-a346c9bb20bd"
      },
      "source": [
        "from google.colab import drive\n",
        "drive.mount('/content/gdrive')"
      ],
      "execution_count": null,
      "outputs": [
        {
          "output_type": "stream",
          "text": [
            "Mounted at /content/gdrive\n"
          ],
          "name": "stdout"
        }
      ]
    },
    {
      "cell_type": "code",
      "metadata": {
        "id": "dO47efwoayO7"
      },
      "source": [
        "!cd '/content/gdrive/MyDrive'"
      ],
      "execution_count": null,
      "outputs": []
    },
    {
      "cell_type": "code",
      "metadata": {
        "colab": {
          "base_uri": "https://localhost:8080/"
        },
        "id": "IAhIMA6jbtBI",
        "outputId": "a5b4713b-a0af-4ee5-bc23-d94f5267cd0c"
      },
      "source": [
        "!ls"
      ],
      "execution_count": null,
      "outputs": [
        {
          "output_type": "stream",
          "text": [
            "gdrive\tsample_data\n"
          ],
          "name": "stdout"
        }
      ]
    },
    {
      "cell_type": "code",
      "metadata": {
        "id": "7o9ELnXkPBKR"
      },
      "source": [
        "#CNN data will be pulled from the pickle inside our own drive and will be manipulated from a json file to normal string arrays.\n",
        "import numpy as np\n",
        "import pandas as pd\n",
        "raw = pd.read_pickle('gdrive/MyDrive/cnn_dataset.pkl')"
      ],
      "execution_count": null,
      "outputs": []
    },
    {
      "cell_type": "code",
      "metadata": {
        "colab": {
          "base_uri": "https://localhost:8080/"
        },
        "id": "CmZD1h9LgV_g",
        "outputId": "088bb900-1fea-4e05-90ff-163d29bd8845"
      },
      "source": [
        "holder_hi=''\n",
        "for s in raw[1]['highlights']:\n",
        "  holder_hi=holder_hi+s+' '\n",
        "print(holder_hi)"
      ],
      "execution_count": null,
      "outputs": [
        {
          "output_type": "stream",
          "text": [
            "zimmerman posts bail he was accused of throwing a bottle at a girlfriend he hasnt been very lucky with the ladies attorney says of zimmerman he became a national figure after being charged then acquitted in trayvon martins death \n"
          ],
          "name": "stdout"
        }
      ]
    },
    {
      "cell_type": "code",
      "metadata": {
        "colab": {
          "base_uri": "https://localhost:8080/"
        },
        "id": "BKLSKXF2g9Gn",
        "outputId": "d4938dbe-1623-400b-9296-fdcd2439d403"
      },
      "source": [
        "raw[1]['highlights']"
      ],
      "execution_count": null,
      "outputs": [
        {
          "output_type": "execute_result",
          "data": {
            "text/plain": [
              "['zimmerman posts bail he was accused of throwing a bottle at a girlfriend',\n",
              " 'he hasnt been very lucky with the ladies attorney says of zimmerman',\n",
              " 'he became a national figure after being charged then acquitted in trayvon martins death']"
            ]
          },
          "metadata": {
            "tags": []
          },
          "execution_count": 4
        }
      ]
    },
    {
      "cell_type": "code",
      "metadata": {
        "id": "-KNsWu_ZR3oi"
      },
      "source": [
        "holder_li=[]\n",
        "#manipulation part\n",
        "for s in range(0,len(raw)):\n",
        "  holder_hi=''\n",
        "  holder_tex=''\n",
        "  for k in raw[s]['highlights']:\n",
        "    holder_hi=holder_hi+k+' '\n",
        "  for k in raw[s]['story']:\n",
        "    holder_tex=holder_tex+k+' '\n",
        "  holder_li.append([holder_tex,holder_hi])"
      ],
      "execution_count": null,
      "outputs": []
    },
    {
      "cell_type": "code",
      "metadata": {
        "id": "OQmgxOQnhbXr"
      },
      "source": [
        "pre2=pd.DataFrame()\n",
        "pre2['text']=[x[0] for x in holder_li]\n",
        "pre2['summary']=[x[1] for x in holder_li]"
      ],
      "execution_count": null,
      "outputs": []
    },
    {
      "cell_type": "code",
      "metadata": {
        "colab": {
          "base_uri": "https://localhost:8080/",
          "height": 137
        },
        "id": "D0D0N4nUfNVo",
        "outputId": "0c406aaf-de35-441d-f336-74a961a59574"
      },
      "source": [
        "pre2['text'][92575]"
      ],
      "execution_count": null,
      "outputs": [
        {
          "output_type": "execute_result",
          "data": {
            "application/vnd.google.colaboratory.intrinsic+json": {
              "type": "string"
            },
            "text/plain": [
              "'when james theodorou reflects on mistakes from past jobs he cringes to think about the role he played in printing million copies of a wellknown us magazine with the wrong date on the cover it was the early and theodorou was working as an offset stripper who performs platemaking and stripping for presses he said he could only wait in horror as his little mistake was distributed across the country the memory is burned into his brain it resurfaced earlier this month when he learned of the nurse in the united kingdom who put through a prank call from two australian djs to the ward where prince williams wife catherine duchess of cambridge was being treated for acute morning sickness who was nurse jacintha saldanha while the circumstances of the nurses death remain unclear the incident prompted theodorou and many other cnncom readers to share stories of dealing with stressful situations on the job making mistakes and moving on mistakes are an opportunity to see how you can do something differently said commenter a software engineer from north dakota who has had code blow up in my face several times sometimes with disastrous results he said in almost every case i have had to take the action of documenting every little thing that went wrong why it went wrong and how this was never going to happen again the commenter who asked not to have his real name used said he once was mortified to find that he had somehow stripped last names from everyone in a database his coworkers made up a song about him to the tune of candy man asking who can take the last name and throw it all away after his initial panicked reaction he calmed down and came up with ways to rectify the situation i spent two days calling those people getting their last names he said management figured that was punishment enough the commenter said his situation pales in comparison to the stress nurses and hospital workers deal with daily where lives are at stake hospitals are by their nature a stressful place you have births sickness and death all under one roof he said caregivers are bombarded by every type of emotion on a daily basis the incident caused him to fear that he would lose his job but talking to coworkers proved to be helpful he said in most of those cases my coworkers were supportive and when i needed more support i just unloaded emotionally on my wife of years seeking support from others can be helpful especially in cases where you think you might be in danger of losing your job said christine porath associate professor of management at georgetown university they may help you see things differently porath said people of all occupations often place their self worth in their jobs because they see them as much more than a task their heart and soul is in their job so their identity is wrapped in it which is great but when your job is threatened or you make a mistake that makes it all the more harder it helps to get a bit of perspective on the situation by disengaging and stepping away from the workplace to focus on everything else that you have she said i think it makes the support aspect all the more important you really need to focus on other parts of your life employers also benefit from keeping their employees happy said porath who researches the effects of incivility in the workplace most people are focused on the outward display of anger and far less aware of the devastating effects of being afraid or sad about ones status in the organization she said these latter two emotions are the ones that are more likely to cause people to leave their jobs she said since his first public gaffe theodorou said he has learned to handle workplace stress by maintaining an emotional detachment from the task at hand while making decisions by using logic and following the standard operating procedures everything is no longer personal just business even errors i then go home and engage my hobbies theodorou had no choice but to try to do better on the next issue of the magazine he slowed down and went over his work again carefully he made a checklist and had another technician perform a quality control inspection before starting the fourhour process of printing the covers it only added about minutes to the job but they were a wellspent minutes he said corporate recruiter steven raz said the recession can increase peoples concerns about doing well at work he advised that if you do make a mistake you should have a plan to correct it if the mistake is big get help its always recommended that if something happens like that and its too big to handle thats when you should bring in your boss raz said some people may be tempted to say nothing but that can be dangerous he added if you tell the truth you dont have to worry about what truth youve told raz said what do you think have you ever made a big mistake at work or encountered a stressful situation how did you get through it share your views in the comments area below or post video commentary on cnn ireport like cnn living on facebook '"
            ]
          },
          "metadata": {
            "tags": []
          },
          "execution_count": 7
        }
      ]
    },
    {
      "cell_type": "code",
      "metadata": {
        "id": "hx3idyAPk2Cr"
      },
      "source": [
        "\n",
        "pre2= pre2[pre2['text'].str.split().str.len().lt(300)]\n",
        "pre2.to_csv('shorter_37k.csv')"
      ],
      "execution_count": null,
      "outputs": []
    },
    {
      "cell_type": "code",
      "metadata": {
        "id": "NB6A2FxHlq5K"
      },
      "source": [
        "#We will combine two of the english data we will use to their best ability.\n",
        "pre3=pd.read_csv('gdrive/MyDrive/news_summary_more.csv')"
      ],
      "execution_count": null,
      "outputs": []
    },
    {
      "cell_type": "code",
      "metadata": {
        "colab": {
          "base_uri": "https://localhost:8080/",
          "height": 417
        },
        "id": "p2gS-Ic6oJH9",
        "outputId": "f2b9b84b-2cb4-463a-a5b9-266c377b87bf"
      },
      "source": [
        "pre3"
      ],
      "execution_count": null,
      "outputs": [
        {
          "output_type": "execute_result",
          "data": {
            "text/html": [
              "<div>\n",
              "<style scoped>\n",
              "    .dataframe tbody tr th:only-of-type {\n",
              "        vertical-align: middle;\n",
              "    }\n",
              "\n",
              "    .dataframe tbody tr th {\n",
              "        vertical-align: top;\n",
              "    }\n",
              "\n",
              "    .dataframe thead th {\n",
              "        text-align: right;\n",
              "    }\n",
              "</style>\n",
              "<table border=\"1\" class=\"dataframe\">\n",
              "  <thead>\n",
              "    <tr style=\"text-align: right;\">\n",
              "      <th></th>\n",
              "      <th>headlines</th>\n",
              "      <th>text</th>\n",
              "    </tr>\n",
              "  </thead>\n",
              "  <tbody>\n",
              "    <tr>\n",
              "      <th>0</th>\n",
              "      <td>upGrad learner switches to career in ML &amp; Al w...</td>\n",
              "      <td>Saurav Kant, an alumnus of upGrad and IIIT-B's...</td>\n",
              "    </tr>\n",
              "    <tr>\n",
              "      <th>1</th>\n",
              "      <td>Delhi techie wins free food from Swiggy for on...</td>\n",
              "      <td>Kunal Shah's credit card bill payment platform...</td>\n",
              "    </tr>\n",
              "    <tr>\n",
              "      <th>2</th>\n",
              "      <td>New Zealand end Rohit Sharma-led India's 12-ma...</td>\n",
              "      <td>New Zealand defeated India by 8 wickets in the...</td>\n",
              "    </tr>\n",
              "    <tr>\n",
              "      <th>3</th>\n",
              "      <td>Aegon life iTerm insurance plan helps customer...</td>\n",
              "      <td>With Aegon Life iTerm Insurance plan, customer...</td>\n",
              "    </tr>\n",
              "    <tr>\n",
              "      <th>4</th>\n",
              "      <td>Have known Hirani for yrs, what if MeToo claim...</td>\n",
              "      <td>Speaking about the sexual harassment allegatio...</td>\n",
              "    </tr>\n",
              "    <tr>\n",
              "      <th>...</th>\n",
              "      <td>...</td>\n",
              "      <td>...</td>\n",
              "    </tr>\n",
              "    <tr>\n",
              "      <th>98396</th>\n",
              "      <td>CRPF jawan axed to death by Maoists in Chhatti...</td>\n",
              "      <td>A CRPF jawan was on Tuesday axed to death with...</td>\n",
              "    </tr>\n",
              "    <tr>\n",
              "      <th>98397</th>\n",
              "      <td>First song from Sonakshi Sinha's 'Noor' titled...</td>\n",
              "      <td>'Uff Yeh', the first song from the Sonakshi Si...</td>\n",
              "    </tr>\n",
              "    <tr>\n",
              "      <th>98398</th>\n",
              "      <td>'The Matrix' film to get a reboot: Reports</td>\n",
              "      <td>According to reports, a new version of the 199...</td>\n",
              "    </tr>\n",
              "    <tr>\n",
              "      <th>98399</th>\n",
              "      <td>Snoop Dogg aims gun at clown dressed as Trump ...</td>\n",
              "      <td>A new music video shows rapper Snoop Dogg aimi...</td>\n",
              "    </tr>\n",
              "    <tr>\n",
              "      <th>98400</th>\n",
              "      <td>Madhesi Morcha withdraws support to Nepalese g...</td>\n",
              "      <td>Madhesi Morcha, an alliance of seven political...</td>\n",
              "    </tr>\n",
              "  </tbody>\n",
              "</table>\n",
              "<p>98401 rows × 2 columns</p>\n",
              "</div>"
            ],
            "text/plain": [
              "                                               headlines                                               text\n",
              "0      upGrad learner switches to career in ML & Al w...  Saurav Kant, an alumnus of upGrad and IIIT-B's...\n",
              "1      Delhi techie wins free food from Swiggy for on...  Kunal Shah's credit card bill payment platform...\n",
              "2      New Zealand end Rohit Sharma-led India's 12-ma...  New Zealand defeated India by 8 wickets in the...\n",
              "3      Aegon life iTerm insurance plan helps customer...  With Aegon Life iTerm Insurance plan, customer...\n",
              "4      Have known Hirani for yrs, what if MeToo claim...  Speaking about the sexual harassment allegatio...\n",
              "...                                                  ...                                                ...\n",
              "98396  CRPF jawan axed to death by Maoists in Chhatti...  A CRPF jawan was on Tuesday axed to death with...\n",
              "98397  First song from Sonakshi Sinha's 'Noor' titled...  'Uff Yeh', the first song from the Sonakshi Si...\n",
              "98398         'The Matrix' film to get a reboot: Reports  According to reports, a new version of the 199...\n",
              "98399  Snoop Dogg aims gun at clown dressed as Trump ...  A new music video shows rapper Snoop Dogg aimi...\n",
              "98400  Madhesi Morcha withdraws support to Nepalese g...  Madhesi Morcha, an alliance of seven political...\n",
              "\n",
              "[98401 rows x 2 columns]"
            ]
          },
          "metadata": {
            "tags": []
          },
          "execution_count": 10
        }
      ]
    },
    {
      "cell_type": "code",
      "metadata": {
        "id": "iDzGhhJengMP"
      },
      "source": [
        "pre4=pd.DataFrame()\n",
        "pre4['text']=pre3['text']\n",
        "pre4['summary']=pre3['headlines']"
      ],
      "execution_count": null,
      "outputs": []
    },
    {
      "cell_type": "code",
      "metadata": {
        "id": "AAL0NpLkn0Xm"
      },
      "source": [
        "#Combination of dataframes\n",
        "frames = [pre2, pre4]\n",
        "pre = pd.concat(frames)"
      ],
      "execution_count": null,
      "outputs": []
    },
    {
      "cell_type": "code",
      "metadata": {
        "colab": {
          "base_uri": "https://localhost:8080/",
          "height": 417
        },
        "id": "xro7fyIToFsT",
        "outputId": "966d131f-4c31-49fc-d798-630f81b7c799"
      },
      "source": [
        "pre"
      ],
      "execution_count": null,
      "outputs": [
        {
          "output_type": "execute_result",
          "data": {
            "text/html": [
              "<div>\n",
              "<style scoped>\n",
              "    .dataframe tbody tr th:only-of-type {\n",
              "        vertical-align: middle;\n",
              "    }\n",
              "\n",
              "    .dataframe tbody tr th {\n",
              "        vertical-align: top;\n",
              "    }\n",
              "\n",
              "    .dataframe thead th {\n",
              "        text-align: right;\n",
              "    }\n",
              "</style>\n",
              "<table border=\"1\" class=\"dataframe\">\n",
              "  <thead>\n",
              "    <tr style=\"text-align: right;\">\n",
              "      <th></th>\n",
              "      <th>text</th>\n",
              "      <th>summary</th>\n",
              "    </tr>\n",
              "  </thead>\n",
              "  <tbody>\n",
              "    <tr>\n",
              "      <th>3</th>\n",
              "      <td>nobel laureate norman e borlaug an agricultura...</td>\n",
              "      <td>borlaug died at the age of from complications ...</td>\n",
              "    </tr>\n",
              "    <tr>\n",
              "      <th>7</th>\n",
              "      <td>russian president dmitry medvedev on tuesday s...</td>\n",
              "      <td>many believe change is designed to bring forme...</td>\n",
              "    </tr>\n",
              "    <tr>\n",
              "      <th>11</th>\n",
              "      <td>patriotism could reach fever pitch when the us...</td>\n",
              "      <td>rickie fowler unveils a patriotic haircut ahea...</td>\n",
              "    </tr>\n",
              "    <tr>\n",
              "      <th>13</th>\n",
              "      <td>a singleengine airplane made an emergency land...</td>\n",
              "      <td>piper comanche carrying a married couple lande...</td>\n",
              "    </tr>\n",
              "    <tr>\n",
              "      <th>15</th>\n",
              "      <td>cnn wladimir klitschko will take a hefty weigh...</td>\n",
              "      <td>wladimir klitschko takes big weight advantage ...</td>\n",
              "    </tr>\n",
              "    <tr>\n",
              "      <th>...</th>\n",
              "      <td>...</td>\n",
              "      <td>...</td>\n",
              "    </tr>\n",
              "    <tr>\n",
              "      <th>98396</th>\n",
              "      <td>A CRPF jawan was on Tuesday axed to death with...</td>\n",
              "      <td>CRPF jawan axed to death by Maoists in Chhatti...</td>\n",
              "    </tr>\n",
              "    <tr>\n",
              "      <th>98397</th>\n",
              "      <td>'Uff Yeh', the first song from the Sonakshi Si...</td>\n",
              "      <td>First song from Sonakshi Sinha's 'Noor' titled...</td>\n",
              "    </tr>\n",
              "    <tr>\n",
              "      <th>98398</th>\n",
              "      <td>According to reports, a new version of the 199...</td>\n",
              "      <td>'The Matrix' film to get a reboot: Reports</td>\n",
              "    </tr>\n",
              "    <tr>\n",
              "      <th>98399</th>\n",
              "      <td>A new music video shows rapper Snoop Dogg aimi...</td>\n",
              "      <td>Snoop Dogg aims gun at clown dressed as Trump ...</td>\n",
              "    </tr>\n",
              "    <tr>\n",
              "      <th>98400</th>\n",
              "      <td>Madhesi Morcha, an alliance of seven political...</td>\n",
              "      <td>Madhesi Morcha withdraws support to Nepalese g...</td>\n",
              "    </tr>\n",
              "  </tbody>\n",
              "</table>\n",
              "<p>113217 rows × 2 columns</p>\n",
              "</div>"
            ],
            "text/plain": [
              "                                                    text                                            summary\n",
              "3      nobel laureate norman e borlaug an agricultura...  borlaug died at the age of from complications ...\n",
              "7      russian president dmitry medvedev on tuesday s...  many believe change is designed to bring forme...\n",
              "11     patriotism could reach fever pitch when the us...  rickie fowler unveils a patriotic haircut ahea...\n",
              "13     a singleengine airplane made an emergency land...  piper comanche carrying a married couple lande...\n",
              "15     cnn wladimir klitschko will take a hefty weigh...  wladimir klitschko takes big weight advantage ...\n",
              "...                                                  ...                                                ...\n",
              "98396  A CRPF jawan was on Tuesday axed to death with...  CRPF jawan axed to death by Maoists in Chhatti...\n",
              "98397  'Uff Yeh', the first song from the Sonakshi Si...  First song from Sonakshi Sinha's 'Noor' titled...\n",
              "98398  According to reports, a new version of the 199...         'The Matrix' film to get a reboot: Reports\n",
              "98399  A new music video shows rapper Snoop Dogg aimi...  Snoop Dogg aims gun at clown dressed as Trump ...\n",
              "98400  Madhesi Morcha, an alliance of seven political...  Madhesi Morcha withdraws support to Nepalese g...\n",
              "\n",
              "[113217 rows x 2 columns]"
            ]
          },
          "metadata": {
            "tags": []
          },
          "execution_count": 13
        }
      ]
    },
    {
      "cell_type": "code",
      "metadata": {
        "colab": {
          "base_uri": "https://localhost:8080/",
          "height": 281
        },
        "id": "to1Oi3A8R3ok",
        "outputId": "7957fda0-141b-41c7-d63f-b8bc4950d48f"
      },
      "source": [
        "pre['cleaned_text'] = pre['text']\n",
        "pre['cleaned_summary'] = pre['summary']\n",
        "text_count = []\n",
        "summary_count = []\n",
        "for sent in pre['cleaned_text']:\n",
        "    text_count.append(len(sent.split()))\n",
        "for sent in pre['cleaned_summary']:\n",
        "    summary_count.append(len(sent.split()))\n",
        "#A quick look at the data\n",
        "graph_df= pd.DataFrame()\n",
        "graph_df['text']=text_count\n",
        "graph_df['summary']=summary_count\n",
        "import matplotlib.pyplot as plt\n",
        "\n",
        "graph_df.hist(bins = 5)\n",
        "plt.show()"
      ],
      "execution_count": null,
      "outputs": [
        {
          "output_type": "display_data",
          "data": {
            "image/png": "[encoded data removed]",
            "text/plain": [
              "<Figure size 432x288 with 2 Axes>"
            ]
          },
          "metadata": {
            "tags": [],
            "needs_background": "light"
          }
        }
      ]
    },
    {
      "cell_type": "code",
      "metadata": {
        "colab": {
          "base_uri": "https://localhost:8080/"
        },
        "id": "lErZPHatR3ol",
        "outputId": "cc4b8c40-8e37-4fb6-f38e-18d0a5ebd537"
      },
      "source": [
        "#Check how much % of text have less than 30 words\n",
        "cnt=0\n",
        "for i in pre['cleaned_summary']:\n",
        "    if(len(i.split())<=30):\n",
        "        cnt=cnt+1\n",
        "print(cnt/len(pre['cleaned_summary']))"
      ],
      "execution_count": null,
      "outputs": [
        {
          "output_type": "stream",
          "text": [
            "0.911426729201445\n"
          ],
          "name": "stdout"
        }
      ]
    },
    {
      "cell_type": "code",
      "metadata": {
        "colab": {
          "base_uri": "https://localhost:8080/"
        },
        "id": "VTWxvBWfR3ol",
        "outputId": "4026876b-5a3f-49ea-bf5f-99cea6cfb7ab"
      },
      "source": [
        "#Check how much % of text have more than 60 words\n",
        "cnt=0\n",
        "for i in pre['cleaned_text']:\n",
        "    if(len(i.split())>=60):\n",
        "        cnt=cnt+1\n",
        "print(cnt/len(pre['cleaned_text']))"
      ],
      "execution_count": null,
      "outputs": [
        {
          "output_type": "stream",
          "text": [
            "0.5088900076843583\n"
          ],
          "name": "stdout"
        }
      ]
    },
    {
      "cell_type": "code",
      "metadata": {
        "id": "9-SzYjcHR3ol"
      },
      "source": [
        "#This pre-defined lengths will act as the default sizes of the vectors that texts and summaries will be read upon in the model.\n",
        "max_text_len=200\n",
        "max_summary_len=30"
      ],
      "execution_count": null,
      "outputs": []
    },
    {
      "cell_type": "code",
      "metadata": {
        "id": "ftSc8YRtR3om"
      },
      "source": [
        "#Select the Summaries and Text between max len defined above\n",
        "\n",
        "cleaned_text =np.array(pre['cleaned_text'])\n",
        "cleaned_summary=np.array(pre['cleaned_summary'])\n",
        "\n",
        "short_text=[]\n",
        "short_summary=[]\n",
        "\n",
        "for i in range(len(cleaned_text)):\n",
        "    if(len(cleaned_summary[i].split())<=max_summary_len and len(cleaned_text[i].split())<=max_text_len):\n",
        "        short_text.append(cleaned_text[i])\n",
        "        short_summary.append(cleaned_summary[i])\n",
        "        \n",
        "post_pre=pd.DataFrame({'text':short_text,'summary':short_summary})"
      ],
      "execution_count": null,
      "outputs": []
    },
    {
      "cell_type": "code",
      "metadata": {
        "colab": {
          "base_uri": "https://localhost:8080/"
        },
        "id": "3WqmO0SOzLO_",
        "outputId": "23952ba3-57b7-4ce7-a104-4202ba1ddbef"
      },
      "source": [
        "post_pre['text'][32141],post_pre['summary'][32141]"
      ],
      "execution_count": null,
      "outputs": [
        {
          "output_type": "execute_result",
          "data": {
            "text/plain": [
              "(\"E-commerce firm Flipkart is likely to burn as much as $2 billion cash in the next 18 months to push its sales growth, according to reports. Flipkart's cash burn would force rival Amazon to double its $5-billion commitment in its Indian subsidiary, reports added. Earlier this month, Walmart announced it would buy 77% stake in Flipkart for $16 billion.\",\n",
              " 'Flipkart likely to burn $2 billion cash in 18 months: Report')"
            ]
          },
          "metadata": {
            "tags": []
          },
          "execution_count": 19
        }
      ]
    },
    {
      "cell_type": "code",
      "metadata": {
        "colab": {
          "base_uri": "https://localhost:8080/",
          "height": 753
        },
        "id": "P-9EX3Lu0vD5",
        "outputId": "5186bd71-ddbf-4ca3-f41d-e5d6026ae8e5"
      },
      "source": [
        "post_pre"
      ],
      "execution_count": null,
      "outputs": [
        {
          "output_type": "execute_result",
          "data": {
            "text/html": [
              "<div>\n",
              "<style scoped>\n",
              "    .dataframe tbody tr th:only-of-type {\n",
              "        vertical-align: middle;\n",
              "    }\n",
              "\n",
              "    .dataframe tbody tr th {\n",
              "        vertical-align: top;\n",
              "    }\n",
              "\n",
              "    .dataframe thead th {\n",
              "        text-align: right;\n",
              "    }\n",
              "</style>\n",
              "<table border=\"1\" class=\"dataframe\">\n",
              "  <thead>\n",
              "    <tr style=\"text-align: right;\">\n",
              "      <th></th>\n",
              "      <th>text</th>\n",
              "      <th>summary</th>\n",
              "    </tr>\n",
              "  </thead>\n",
              "  <tbody>\n",
              "    <tr>\n",
              "      <th>0</th>\n",
              "      <td>enchanting crystal clear waters protected by a coral reef with white sandy beaches that stretch hundreds of kilometers this is watamu an old fishing village on the indian ocean in southeast kenya ...</td>\n",
              "      <td>watamu is a kenyan fishing village on the indian ocean known for its rich swahili culture it is now a water sports destination visitors can windsurf kitesurf and paddleboard</td>\n",
              "    </tr>\n",
              "    <tr>\n",
              "      <th>1</th>\n",
              "      <td>amal alamuddin george clooneys new wife is now amal clooney according to her law firms website its unclear whether the new mrs clooney is using her maiden name as a middle name making her amal ala...</td>\n",
              "      <td>amal alamuddin george clooneys new wife has taken his last name its unclear whether shell be amal alamuddin clooney or amal clooney the british attorney became clooneys wife in september</td>\n",
              "    </tr>\n",
              "    <tr>\n",
              "      <th>2</th>\n",
              "      <td>the twins get a checkup video nancy grace introduces on set the twins go out for a stroll the twins at months the twins in january video first video of nancy graces twins email to a friend</td>\n",
              "      <td>pictures of nancy graces twins john david and lucy elizabeth were born november come back to this site for regularly updated pictures</td>\n",
              "    </tr>\n",
              "    <tr>\n",
              "      <th>3</th>\n",
              "      <td>the only bears known to inhabit new yorks central park are at its zoo so how did a dead bear cub end up under a bush neither police nor park officials had an answer for that late monday hours afte...</td>\n",
              "      <td>bear cub not from central park zoo cubs body showed signs of trauma nypd is investigating as possible animal cruelty</td>\n",
              "    </tr>\n",
              "    <tr>\n",
              "      <th>4</th>\n",
              "      <td>cnna suicide bomb attack in iraq this week was carried out by an american jihadist isis claims the terrorist group released a photograph on tuesday of a masked fighter it identified as abu daood a...</td>\n",
              "      <td>isis claims a suicide attack in iraq was carried out by an american the claim has not been confirmed</td>\n",
              "    </tr>\n",
              "    <tr>\n",
              "      <th>...</th>\n",
              "      <td>...</td>\n",
              "      <td>...</td>\n",
              "    </tr>\n",
              "    <tr>\n",
              "      <th>100686</th>\n",
              "      <td>A CRPF jawan was on Tuesday axed to death with sharp-edged weapons by Maoists at a local village fair in Chhattisgarh's insurgency-hit Bijapur district. As per preliminary information, Maoists att...</td>\n",
              "      <td>CRPF jawan axed to death by Maoists in Chhattisgarh</td>\n",
              "    </tr>\n",
              "    <tr>\n",
              "      <th>100687</th>\n",
              "      <td>'Uff Yeh', the first song from the Sonakshi Sinha starrer upcoming drama film 'Noor' has been released. The song has been composed by Amaal Mallik with vocals by Armaan Malik and lyrics by Manoj M...</td>\n",
              "      <td>First song from Sonakshi Sinha's 'Noor' titled 'Uff Yeh' out</td>\n",
              "    </tr>\n",
              "    <tr>\n",
              "      <th>100688</th>\n",
              "      <td>According to reports, a new version of the 1999 science fiction film 'The Matrix' is in development. Michael B Jordan will reportedly play the lead role in the film. Screenwriter Zak Penn is in ta...</td>\n",
              "      <td>'The Matrix' film to get a reboot: Reports</td>\n",
              "    </tr>\n",
              "    <tr>\n",
              "      <th>100689</th>\n",
              "      <td>A new music video shows rapper Snoop Dogg aiming a toy gun at a clown character parodying US President Donald Trump. The video also shows a TV airing a news conference with the headline 'Ronald Kl...</td>\n",
              "      <td>Snoop Dogg aims gun at clown dressed as Trump in new video</td>\n",
              "    </tr>\n",
              "    <tr>\n",
              "      <th>100690</th>\n",
              "      <td>Madhesi Morcha, an alliance of seven political parties, has withdrawn support to PM Pushpa Kamal Dahal-led Nepal government after it failed to meet a seven-day ultimatum to fulfil their demands in...</td>\n",
              "      <td>Madhesi Morcha withdraws support to Nepalese government</td>\n",
              "    </tr>\n",
              "  </tbody>\n",
              "</table>\n",
              "<p>100691 rows × 2 columns</p>\n",
              "</div>"
            ],
            "text/plain": [
              "                                                                                                                                                                                                           text                                                                                                                                                                                      summary\n",
              "0       enchanting crystal clear waters protected by a coral reef with white sandy beaches that stretch hundreds of kilometers this is watamu an old fishing village on the indian ocean in southeast kenya ...               watamu is a kenyan fishing village on the indian ocean known for its rich swahili culture it is now a water sports destination visitors can windsurf kitesurf and paddleboard \n",
              "1       amal alamuddin george clooneys new wife is now amal clooney according to her law firms website its unclear whether the new mrs clooney is using her maiden name as a middle name making her amal ala...  amal alamuddin george clooneys new wife has taken his last name its unclear whether shell be amal alamuddin clooney or amal clooney the british attorney became clooneys wife in september \n",
              "2                 the twins get a checkup video nancy grace introduces on set the twins go out for a stroll the twins at months the twins in january video first video of nancy graces twins email to a friend                                                        pictures of nancy graces twins john david and lucy elizabeth were born november come back to this site for regularly updated pictures \n",
              "3       the only bears known to inhabit new yorks central park are at its zoo so how did a dead bear cub end up under a bush neither police nor park officials had an answer for that late monday hours afte...                                                                        bear cub not from central park zoo cubs body showed signs of trauma nypd is investigating as possible animal cruelty \n",
              "4       cnna suicide bomb attack in iraq this week was carried out by an american jihadist isis claims the terrorist group released a photograph on tuesday of a masked fighter it identified as abu daood a...                                                                                        isis claims a suicide attack in iraq was carried out by an american the claim has not been confirmed \n",
              "...                                                                                                                                                                                                         ...                                                                                                                                                                                          ...\n",
              "100686  A CRPF jawan was on Tuesday axed to death with sharp-edged weapons by Maoists at a local village fair in Chhattisgarh's insurgency-hit Bijapur district. As per preliminary information, Maoists att...                                                                                                                                          CRPF jawan axed to death by Maoists in Chhattisgarh\n",
              "100687  'Uff Yeh', the first song from the Sonakshi Sinha starrer upcoming drama film 'Noor' has been released. The song has been composed by Amaal Mallik with vocals by Armaan Malik and lyrics by Manoj M...                                                                                                                                 First song from Sonakshi Sinha's 'Noor' titled 'Uff Yeh' out\n",
              "100688  According to reports, a new version of the 1999 science fiction film 'The Matrix' is in development. Michael B Jordan will reportedly play the lead role in the film. Screenwriter Zak Penn is in ta...                                                                                                                                                   'The Matrix' film to get a reboot: Reports\n",
              "100689  A new music video shows rapper Snoop Dogg aiming a toy gun at a clown character parodying US President Donald Trump. The video also shows a TV airing a news conference with the headline 'Ronald Kl...                                                                                                                                  Snoop Dogg aims gun at clown dressed as Trump in new video \n",
              "100690  Madhesi Morcha, an alliance of seven political parties, has withdrawn support to PM Pushpa Kamal Dahal-led Nepal government after it failed to meet a seven-day ultimatum to fulfil their demands in...                                                                                                                                      Madhesi Morcha withdraws support to Nepalese government\n",
              "\n",
              "[100691 rows x 2 columns]"
            ]
          },
          "metadata": {
            "tags": []
          },
          "execution_count": 78
        }
      ]
    },
    {
      "cell_type": "code",
      "metadata": {
        "id": "8ThmVO1YR3om"
      },
      "source": [
        "#Add sostok and eostok. This will help the data to get processed within the decoder model. \n",
        "post_pre['summary'] = post_pre['summary'].apply(lambda x : 'sostok '+ x + ' eostok')"
      ],
      "execution_count": null,
      "outputs": []
    },
    {
      "cell_type": "code",
      "metadata": {
        "colab": {
          "base_uri": "https://localhost:8080/"
        },
        "id": "I4oRvMn2zUDz",
        "outputId": "9a0ac7a4-92fa-45b1-ae3b-5367a29d0385"
      },
      "source": [
        "post_pre['text'][68321],post_pre['summary'][68321]"
      ],
      "execution_count": null,
      "outputs": [
        {
          "output_type": "execute_result",
          "data": {
            "text/plain": [
              "('An Italian professor has won her legal battle to be granted sick pay for the two-day leave she took to care for her unwell dog, in the first such instance in Italy. Her lawyers mentioned a law stating that people who abandon an animal to \"grave suffering\" face up to one year in prison and a â\\x82¬10,000 (â\\x82¹7.7 lakh) fine. ',\n",
              " 'sostok Italy court grants woman paid sick leave to care for ill dog eostok')"
            ]
          },
          "metadata": {
            "tags": []
          },
          "execution_count": 21
        }
      ]
    },
    {
      "cell_type": "code",
      "metadata": {
        "id": "HMw26tPYR3om"
      },
      "source": [
        "from sklearn.model_selection import train_test_split\n",
        "x_tr,x_val,y_tr,y_val=train_test_split(np.array(post_pre['text']),np.array(post_pre['summary']),test_size=0.1,random_state=0,shuffle=True)"
      ],
      "execution_count": null,
      "outputs": []
    },
    {
      "cell_type": "code",
      "metadata": {
        "id": "Xr69lSKOR3on"
      },
      "source": [
        "\n",
        "\n",
        "from keras.preprocessing.text import Tokenizer \n",
        "from keras.preprocessing.sequence import pad_sequences\n",
        "\n",
        "#preparing a tokenizer for x splitted data.\n",
        "x_tokenizer = Tokenizer() \n",
        "x_tokenizer.fit_on_texts(list(x_tr))"
      ],
      "execution_count": null,
      "outputs": []
    },
    {
      "cell_type": "code",
      "metadata": {
        "colab": {
          "base_uri": "https://localhost:8080/"
        },
        "id": "e_PuVrBuR3on",
        "outputId": "84c81595-ab53-4763-ff7f-7510328b6a34"
      },
      "source": [
        "#A minor look at the vocab of the tokenizer. total word count and the frequencies of the word.\n",
        "thresh=4\n",
        "\n",
        "cnt=0\n",
        "tot_cnt=0\n",
        "freq=0\n",
        "tot_freq=0\n",
        "\n",
        "for key,value in x_tokenizer.word_counts.items():\n",
        "    tot_cnt=tot_cnt+1\n",
        "    tot_freq=tot_freq+value\n",
        "    if(value<thresh):\n",
        "        cnt=cnt+1\n",
        "        freq=freq+value\n",
        "    \n",
        "print(\"% of rare words in vocabulary:\",(cnt/tot_cnt)*100)\n",
        "print(\"Total Coverage of rare words:\",(freq/tot_freq)*100)"
      ],
      "execution_count": null,
      "outputs": [
        {
          "output_type": "stream",
          "text": [
            "% of rare words in vocabulary: 63.43805126326647\n",
            "Total Coverage of rare words: 1.7156477237775063\n"
          ],
          "name": "stdout"
        }
      ]
    },
    {
      "cell_type": "code",
      "metadata": {
        "colab": {
          "base_uri": "https://localhost:8080/"
        },
        "id": "rlg1MZyoR3on",
        "outputId": "d99fd5db-8c0c-42b1-adfb-098024267b15"
      },
      "source": [
        "#Fitting the words within the training data to tokenizer.\n",
        "x_tokenizer = Tokenizer(num_words=tot_cnt-cnt) \n",
        "x_tokenizer.fit_on_texts(list(x_tr))\n",
        "\n",
        "#convert text sequences into integer sequences (i.e one-hot encodeing all the words)\n",
        "x_tr_seq    =   x_tokenizer.texts_to_sequences(x_tr) \n",
        "x_val_seq   =   x_tokenizer.texts_to_sequences(x_val)\n",
        "\n",
        "#padding zero upto maximum length\n",
        "x_tr    =   pad_sequences(x_tr_seq,  maxlen=max_text_len, padding='post')\n",
        "x_val   =   pad_sequences(x_val_seq, maxlen=max_text_len, padding='post')\n",
        "\n",
        "#size of vocabulary ( +1 for padding token)\n",
        "x_voc   =  x_tokenizer.num_words + 1\n",
        "\n",
        "print(\"Size of vocabulary in X = {}\".format(x_voc))"
      ],
      "execution_count": null,
      "outputs": [
        {
          "output_type": "stream",
          "text": [
            "Size of vocabulary in X = 37930\n"
          ],
          "name": "stdout"
        }
      ]
    },
    {
      "cell_type": "code",
      "metadata": {
        "colab": {
          "base_uri": "https://localhost:8080/"
        },
        "id": "yD2Os7sdR3on",
        "outputId": "4038b871-081a-4b31-bd88-ce6638b698c6"
      },
      "source": [
        "#preparing a tokenizer for y splitted data.\n",
        "y_tokenizer = Tokenizer()   \n",
        "y_tokenizer.fit_on_texts(list(y_tr))\n",
        "\n",
        "thresh=6\n",
        "\n",
        "cnt=0\n",
        "tot_cnt=0\n",
        "freq=0\n",
        "tot_freq=0\n",
        "\n",
        "for key,value in y_tokenizer.word_counts.items():\n",
        "    tot_cnt=tot_cnt+1\n",
        "    tot_freq=tot_freq+value\n",
        "    if(value<thresh):\n",
        "        cnt=cnt+1\n",
        "        freq=freq+value\n",
        "    \n",
        "print(\"% of rare words in vocabulary:\",(cnt/tot_cnt)*100)\n",
        "print(\"Total Coverage of rare words:\",(freq/tot_freq)*100)"
      ],
      "execution_count": null,
      "outputs": [
        {
          "output_type": "stream",
          "text": [
            "% of rare words in vocabulary: 72.52211906062261\n",
            "Total Coverage of rare words: 5.323714986500327\n"
          ],
          "name": "stdout"
        }
      ]
    },
    {
      "cell_type": "code",
      "metadata": {
        "colab": {
          "base_uri": "https://localhost:8080/"
        },
        "id": "MtOA3c7qR3oo",
        "outputId": "8d3be188-e484-4481-cd6e-00cc077b2715"
      },
      "source": [
        "#Fitting the words within the training data to tokenizer.\n",
        "y_tokenizer = Tokenizer(num_words=tot_cnt-cnt) \n",
        "y_tokenizer.fit_on_texts(list(y_tr))\n",
        "\n",
        "#convert text sequences into integer sequences (i.e one hot encode the text in Y)\n",
        "y_tr_seq    =   y_tokenizer.texts_to_sequences(y_tr) \n",
        "y_val_seq   =   y_tokenizer.texts_to_sequences(y_val) \n",
        "\n",
        "#padding zero upto maximum length\n",
        "y_tr    =   pad_sequences(y_tr_seq, maxlen=max_summary_len, padding='post')\n",
        "y_val   =   pad_sequences(y_val_seq, maxlen=max_summary_len, padding='post')\n",
        "\n",
        "#size of vocabulary\n",
        "y_voc  =   y_tokenizer.num_words +1\n",
        "print(\"Size of vocabulary in Y = {}\".format(y_voc))"
      ],
      "execution_count": null,
      "outputs": [
        {
          "output_type": "stream",
          "text": [
            "Size of vocabulary in Y = 12579\n"
          ],
          "name": "stdout"
        }
      ]
    },
    {
      "cell_type": "code",
      "metadata": {
        "id": "ANKKUwoRR3oo"
      },
      "source": [
        "#Deletes the values from the data which have not processed properly.\n",
        "ind=[]\n",
        "for i in range(len(y_tr)):\n",
        "    cnt=0\n",
        "    for j in y_tr[i]:\n",
        "        if j!=0:\n",
        "            cnt=cnt+1\n",
        "    if(cnt==2):\n",
        "        ind.append(i)\n",
        "\n",
        "y_tr=np.delete(y_tr,ind, axis=0)\n",
        "x_tr=np.delete(x_tr,ind, axis=0)\n",
        "\n",
        "ind=[]\n",
        "for i in range(len(y_val)):\n",
        "    cnt=0\n",
        "    for j in y_val[i]:\n",
        "        if j!=0:\n",
        "            cnt=cnt+1\n",
        "    if(cnt==2):\n",
        "        ind.append(i)\n",
        "\n",
        "y_val=np.delete(y_val,ind, axis=0)\n",
        "x_val=np.delete(x_val,ind, axis=0)"
      ],
      "execution_count": null,
      "outputs": []
    },
    {
      "cell_type": "code",
      "metadata": {
        "id": "HZI9olp6OdGf"
      },
      "source": [
        "from tensorflow.python.keras.layers import Layer\n",
        "from tensorflow.python.keras import backend as K\n",
        "\n",
        "\n",
        "class AttentionLayer(Layer):\n",
        "    \"\"\"\n",
        "    This class implements Bahdanau attention (https://arxiv.org/pdf/1409.0473.pdf).\n",
        "    There are three sets of weights introduced W_a, U_a, and V_a\n",
        "     \"\"\"\n",
        "\n",
        "    def __init__(self, **kwargs):\n",
        "        super(AttentionLayer, self).__init__(**kwargs)\n",
        "\n",
        "    def build(self, input_shape):\n",
        "        assert isinstance(input_shape, list)\n",
        "        # Create a trainable weight variable for this layer.\n",
        "\n",
        "        self.W_a = self.add_weight(name='W_a',\n",
        "                                   shape=tf.TensorShape((input_shape[0][2], input_shape[0][2])),\n",
        "                                   initializer='uniform',\n",
        "                                   trainable=True)\n",
        "        self.U_a = self.add_weight(name='U_a',\n",
        "                                   shape=tf.TensorShape((input_shape[1][2], input_shape[0][2])),\n",
        "                                   initializer='uniform',\n",
        "                                   trainable=True)\n",
        "        self.V_a = self.add_weight(name='V_a',\n",
        "                                   shape=tf.TensorShape((input_shape[0][2], 1)),\n",
        "                                   initializer='uniform',\n",
        "                                   trainable=True)\n",
        "\n",
        "        super(AttentionLayer, self).build(input_shape)  # Be sure to call this at the end\n",
        "\n",
        "    def call(self, inputs, verbose=False):\n",
        "        \"\"\"\n",
        "        inputs: [encoder_output_sequence, decoder_output_sequence]\n",
        "        \"\"\"\n",
        "        assert type(inputs) == list\n",
        "        encoder_out_seq, decoder_out_seq = inputs\n",
        "        if verbose:\n",
        "            print('encoder_out_seq>', encoder_out_seq.shape)\n",
        "            print('decoder_out_seq>', decoder_out_seq.shape)\n",
        "\n",
        "        def energy_step(inputs, states):\n",
        "            \"\"\" Step function for computing energy for a single decoder state \"\"\"\n",
        "\n",
        "            assert_msg = \"States must be a list. However states {} is of type {}\".format(states, type(states))\n",
        "            assert isinstance(states, list) or isinstance(states, tuple), assert_msg\n",
        "\n",
        "            \"\"\" Some parameters required for shaping tensors\"\"\"\n",
        "            en_seq_len, en_hidden = encoder_out_seq.shape[1], encoder_out_seq.shape[2]\n",
        "            de_hidden = inputs.shape[-1]\n",
        "\n",
        "            \"\"\" Computing S.Wa where S=[s0, s1, ..., si]\"\"\"\n",
        "            # <= batch_size*en_seq_len, latent_dim\n",
        "            reshaped_enc_outputs = K.reshape(encoder_out_seq, (-1, en_hidden))\n",
        "            # <= batch_size*en_seq_len, latent_dim\n",
        "            W_a_dot_s = K.reshape(K.dot(reshaped_enc_outputs, self.W_a), (-1, en_seq_len, en_hidden))\n",
        "            if verbose:\n",
        "                print('wa.s>',W_a_dot_s.shape)\n",
        "\n",
        "            \"\"\" Computing hj.Ua \"\"\"\n",
        "            U_a_dot_h = K.expand_dims(K.dot(inputs, self.U_a), 1)  # <= batch_size, 1, latent_dim\n",
        "            if verbose:\n",
        "                print('Ua.h>',U_a_dot_h.shape)\n",
        "\n",
        "            \"\"\" tanh(S.Wa + hj.Ua) \"\"\"\n",
        "            # <= batch_size*en_seq_len, latent_dim\n",
        "            reshaped_Ws_plus_Uh = K.tanh(K.reshape(W_a_dot_s + U_a_dot_h, (-1, en_hidden)))\n",
        "            if verbose:\n",
        "                print('Ws+Uh>', reshaped_Ws_plus_Uh.shape)\n",
        "\n",
        "            \"\"\" softmax(va.tanh(S.Wa + hj.Ua)) \"\"\"\n",
        "            # <= batch_size, en_seq_len\n",
        "            e_i = K.reshape(K.dot(reshaped_Ws_plus_Uh, self.V_a), (-1, en_seq_len))\n",
        "            # <= batch_size, en_seq_len\n",
        "            e_i = K.softmax(e_i)\n",
        "\n",
        "            if verbose:\n",
        "                print('ei>', e_i.shape)\n",
        "\n",
        "            return e_i, [e_i]\n",
        "\n",
        "        def context_step(inputs, states):\n",
        "            \"\"\" Step function for computing ci using ei \"\"\"\n",
        "            # <= batch_size, hidden_size\n",
        "            c_i = K.sum(encoder_out_seq * K.expand_dims(inputs, -1), axis=1)\n",
        "            if verbose:\n",
        "                print('ci>', c_i.shape)\n",
        "            return c_i, [c_i]\n",
        "\n",
        "        def create_inital_state(inputs, hidden_size):\n",
        "            # We are not using initial states, but need to pass something to K.rnn funciton\n",
        "            fake_state = K.zeros_like(inputs)  # <= (batch_size, enc_seq_len, latent_dim\n",
        "            fake_state = K.sum(fake_state, axis=[1, 2])  # <= (batch_size)\n",
        "            fake_state = K.expand_dims(fake_state)  # <= (batch_size, 1)\n",
        "            fake_state = K.tile(fake_state, [1, hidden_size])  # <= (batch_size, latent_dim\n",
        "            return fake_state\n",
        "\n",
        "        fake_state_c = create_inital_state(encoder_out_seq, encoder_out_seq.shape[-1])\n",
        "        fake_state_e = create_inital_state(encoder_out_seq, encoder_out_seq.shape[1])  # <= (batch_size, enc_seq_len, latent_dim\n",
        "\n",
        "        \"\"\" Computing energy outputs \"\"\"\n",
        "        # e_outputs => (batch_size, de_seq_len, en_seq_len)\n",
        "        last_out, e_outputs, _ = K.rnn(\n",
        "            energy_step, decoder_out_seq, [fake_state_e],\n",
        "        )\n",
        "\n",
        "        \"\"\" Computing context vectors \"\"\"\n",
        "        last_out, c_outputs, _ = K.rnn(\n",
        "            context_step, e_outputs, [fake_state_c],\n",
        "        )\n",
        "\n",
        "        return c_outputs, e_outputs\n",
        "\n",
        "    def compute_output_shape(self, input_shape):\n",
        "        \"\"\" Outputs produced by the layer \"\"\"\n",
        "        return [\n",
        "            tf.TensorShape((input_shape[1][0], input_shape[1][1], input_shape[1][2])),\n",
        "            tf.TensorShape((input_shape[1][0], input_shape[1][1], input_shape[0][1]))\n",
        "        ]"
      ],
      "execution_count": null,
      "outputs": []
    },
    {
      "cell_type": "code",
      "metadata": {
        "colab": {
          "base_uri": "https://localhost:8080/"
        },
        "id": "SCObFZMSR3oo",
        "outputId": "1afc6d8c-270f-49f6-dc57-69eee0e2ad12"
      },
      "source": [
        "from keras import backend as K\n",
        "import tensorflow as tf \n",
        "import gensim\n",
        "from numpy import *\n",
        "import numpy as np\n",
        "import pandas as pd \n",
        "import re\n",
        "from bs4 import BeautifulSoup\n",
        "from keras.preprocessing.text import Tokenizer \n",
        "from keras.preprocessing.sequence import pad_sequences\n",
        "from nltk.corpus import stopwords\n",
        "from tensorflow.keras.layers import Input, LSTM, Embedding, Dense, Concatenate, TimeDistributed\n",
        "from tensorflow.keras.models import Model\n",
        "from tensorflow.keras.callbacks import EarlyStopping\n",
        "import warnings\n",
        "pd.set_option(\"display.max_colwidth\", 200)\n",
        "warnings.filterwarnings(\"ignore\")\n",
        "\n",
        "print(\"Size of vocabulary from the w2v model = {}\".format(x_voc))\n",
        "\n",
        "K.clear_session()\n",
        "\n",
        "latent_dim = 300\n",
        "embedding_dim=200\n",
        "\n",
        "\n",
        "# Encoder inputs that will take the given sequence.\n",
        "encoder_inputs = Input(shape=(max_text_len,))\n",
        "\n",
        "\n",
        "#embedding layer that will try to learn word embeddings given by tokenizers.\n",
        "enc_emb =  Embedding(x_voc, embedding_dim,trainable=True)(encoder_inputs)\n",
        "\n",
        "\n",
        "#Encoder LSTM's will process the data with their cell states to learn and hidden states to remember relevant parts as much as possible.\n",
        "\n",
        "#The reason there are 3 processing layers is because to make model remember as much information as possible. There must be caution though.\n",
        "#More layers will demand more power and take more time. 3 layers seemed to be optimum.\n",
        "\n",
        "#encoder lstm 1\n",
        "encoder_lstm1 = LSTM(latent_dim,return_sequences=True,return_state=True,dropout=0.4,recurrent_dropout=0.4)\n",
        "encoder_output1, state_h1, state_c1 = encoder_lstm1(enc_emb)\n",
        "\n",
        "#encoder lstm 2\n",
        "encoder_lstm2 = LSTM(latent_dim,return_sequences=True,return_state=True,dropout=0.4,recurrent_dropout=0.4)\n",
        "encoder_output2, state_h2, state_c2 = encoder_lstm2(encoder_output1)\n",
        "\n",
        "#encoder lstm 3\n",
        "encoder_lstm3=LSTM(latent_dim, return_state=True, return_sequences=True,dropout=0.4,recurrent_dropout=0.4)\n",
        "encoder_outputs, state_h, state_c= encoder_lstm3(encoder_output2)\n",
        "\n",
        "# Set up the decoder, using `encoder_states` as initial state.\n",
        "decoder_inputs = Input(shape=(None,))\n",
        "\n",
        "#embedding layer for the decoder parts.\n",
        "dec_emb_layer = Embedding(y_voc, embedding_dim,trainable=True)\n",
        "dec_emb = dec_emb_layer(decoder_inputs)\n",
        "\n",
        "#Processing layer for the decoder.\n",
        "decoder_lstm = LSTM(latent_dim, return_sequences=True, return_state=True,dropout=0.4,recurrent_dropout=0.2)\n",
        "decoder_outputs,decoder_fwd_state, decoder_back_state = decoder_lstm(dec_emb,initial_state=[state_h, state_c])\n",
        "\n",
        "# Attention layer by Bahdanau\n",
        "attn_layer = AttentionLayer(name='attention_layer')\n",
        "attn_out, attn_states = attn_layer([encoder_outputs, decoder_outputs])\n",
        "\n",
        "# Concat attention input and decoder LSTM output\n",
        "decoder_concat_input = Concatenate(axis=-1, name='concat_layer')([decoder_outputs, attn_out])\n",
        "\n",
        "#dense layer will softmax the variables as the probability of the word appearing within the sequence.\n",
        "decoder_dense =  TimeDistributed(Dense(y_voc, activation='softmax'))\n",
        "decoder_outputs = decoder_dense(decoder_concat_input)\n",
        "\n",
        "# Define the model \n",
        "model = Model([encoder_inputs, decoder_inputs], decoder_outputs)\n",
        "\n",
        "model.summary()"
      ],
      "execution_count": null,
      "outputs": [
        {
          "output_type": "stream",
          "text": [
            "Size of vocabulary from the w2v model = 37930\n",
            "WARNING:tensorflow:Layer lstm will not use cuDNN kernels since it doesn't meet the criteria. It will use a generic GPU kernel as fallback when running on GPU.\n",
            "WARNING:tensorflow:Layer lstm_1 will not use cuDNN kernels since it doesn't meet the criteria. It will use a generic GPU kernel as fallback when running on GPU.\n",
            "WARNING:tensorflow:Layer lstm_2 will not use cuDNN kernels since it doesn't meet the criteria. It will use a generic GPU kernel as fallback when running on GPU.\n",
            "WARNING:tensorflow:Layer lstm_3 will not use cuDNN kernels since it doesn't meet the criteria. It will use a generic GPU kernel as fallback when running on GPU.\n",
            "Model: \"model\"\n",
            "__________________________________________________________________________________________________\n",
            "Layer (type)                    Output Shape         Param #     Connected to                     \n",
            "==================================================================================================\n",
            "input_1 (InputLayer)            [(None, 200)]        0                                            \n",
            "__________________________________________________________________________________________________\n",
            "embedding (Embedding)           (None, 200, 200)     7586000     input_1[0][0]                    \n",
            "__________________________________________________________________________________________________\n",
            "lstm (LSTM)                     [(None, 200, 300), ( 601200      embedding[0][0]                  \n",
            "__________________________________________________________________________________________________\n",
            "input_2 (InputLayer)            [(None, None)]       0                                            \n",
            "__________________________________________________________________________________________________\n",
            "lstm_1 (LSTM)                   [(None, 200, 300), ( 721200      lstm[0][0]                       \n",
            "__________________________________________________________________________________________________\n",
            "embedding_1 (Embedding)         (None, None, 200)    2515800     input_2[0][0]                    \n",
            "__________________________________________________________________________________________________\n",
            "lstm_2 (LSTM)                   [(None, 200, 300), ( 721200      lstm_1[0][0]                     \n",
            "__________________________________________________________________________________________________\n",
            "lstm_3 (LSTM)                   [(None, None, 300),  601200      embedding_1[0][0]                \n",
            "                                                                 lstm_2[0][1]                     \n",
            "                                                                 lstm_2[0][2]                     \n",
            "__________________________________________________________________________________________________\n",
            "attention_layer (AttentionLayer ((None, None, 300),  180300      lstm_2[0][0]                     \n",
            "                                                                 lstm_3[0][0]                     \n",
            "__________________________________________________________________________________________________\n",
            "concat_layer (Concatenate)      (None, None, 600)    0           lstm_3[0][0]                     \n",
            "                                                                 attention_layer[0][0]            \n",
            "__________________________________________________________________________________________________\n",
            "time_distributed (TimeDistribut (None, None, 12579)  7559979     concat_layer[0][0]               \n",
            "==================================================================================================\n",
            "Total params: 20,486,879\n",
            "Trainable params: 20,486,879\n",
            "Non-trainable params: 0\n",
            "__________________________________________________________________________________________________\n"
          ],
          "name": "stdout"
        }
      ]
    },
    {
      "cell_type": "code",
      "metadata": {
        "colab": {
          "base_uri": "https://localhost:8080/"
        },
        "id": "W1EbqzxkR3op",
        "outputId": "3b01a410-a93b-49f8-cc73-e1ab49e79474"
      },
      "source": [
        "import tensorflow as tf\n",
        "from tensorflow.python.client import device_lib\n",
        "print(device_lib.list_local_devices())\n",
        "#tf.test.is_built_with_cuda()"
      ],
      "execution_count": null,
      "outputs": [
        {
          "output_type": "stream",
          "text": [
            "[name: \"/device:CPU:0\"\n",
            "device_type: \"CPU\"\n",
            "memory_limit: 268435456\n",
            "locality {\n",
            "}\n",
            "incarnation: 11492722423188176045\n",
            ", name: \"/device:GPU:0\"\n",
            "device_type: \"GPU\"\n",
            "memory_limit: 14509932544\n",
            "locality {\n",
            "  bus_id: 1\n",
            "  links {\n",
            "  }\n",
            "}\n",
            "incarnation: 13135653038774258315\n",
            "physical_device_desc: \"device: 0, name: Tesla T4, pci bus id: 0000:00:04.0, compute capability: 7.5\"\n",
            "]\n"
          ],
          "name": "stdout"
        }
      ]
    },
    {
      "cell_type": "code",
      "metadata": {
        "colab": {
          "base_uri": "https://localhost:8080/"
        },
        "id": "Yvb3hRYgwasb",
        "outputId": "1001ea2b-b9f5-4a08-aa42-fdcc182a7b7a"
      },
      "source": [
        "model_checkpoint=tf.keras.callbacks.ModelCheckpoint('CIFAR10{epoch:02d}.h5',period=2,save_freq='epoch',save_weights_only=False)\n"
      ],
      "execution_count": null,
      "outputs": [
        {
          "output_type": "stream",
          "text": [
            "WARNING:tensorflow:`period` argument is deprecated. Please use `save_freq` to specify the frequency in number of batches seen.\n"
          ],
          "name": "stdout"
        }
      ]
    },
    {
      "cell_type": "code",
      "metadata": {
        "colab": {
          "base_uri": "https://localhost:8080/"
        },
        "id": "ruhbpCovR3op",
        "outputId": "90d29b2c-7faa-4a5c-875d-5512b4d30c89"
      },
      "source": [
        "#sparse categorical crossentropy is used to observe loss values of summaries.\n",
        "model.compile(optimizer='rmsprop', loss='sparse_categorical_crossentropy')\n",
        "#Early stopping is used to prevent overfitting.\n",
        "es = EarlyStopping(monitor='val_loss', mode='min', verbose=1,patience=2)\n",
        "history=model.fit([x_tr,y_tr[:,:-1]], y_tr.reshape(y_tr.shape[0],y_tr.shape[1], 1)[:,1:] ,epochs=10,callbacks=[es,model_checkpoint],batch_size=256, validation_data=([x_val,y_val[:,:-1]], y_val.reshape(y_val.shape[0],y_val.shape[1], 1)[:,1:]))\n",
        "\n"
      ],
      "execution_count": null,
      "outputs": [
        {
          "output_type": "stream",
          "text": [
            "Epoch 1/10\n",
            "354/354 [==============================] - 1112s 3s/step - loss: 2.6217 - val_loss: 2.3614\n",
            "Epoch 2/10\n",
            "354/354 [==============================] - 1077s 3s/step - loss: 2.2579 - val_loss: 2.1358\n",
            "Epoch 3/10\n",
            "354/354 [==============================] - 1074s 3s/step - loss: 2.0689 - val_loss: 1.9932\n",
            "Epoch 4/10\n",
            "354/354 [==============================] - 1070s 3s/step - loss: 1.9370 - val_loss: 1.8988\n",
            "Epoch 5/10\n",
            "354/354 [==============================] - 1058s 3s/step - loss: 1.8361 - val_loss: 1.8350\n",
            "Epoch 6/10\n",
            "354/354 [==============================] - 1064s 3s/step - loss: 1.7543 - val_loss: 1.7818\n",
            "Epoch 7/10\n",
            "354/354 [==============================] - 1070s 3s/step - loss: 1.6866 - val_loss: 1.7418\n",
            "Epoch 8/10\n",
            "354/354 [==============================] - 1068s 3s/step - loss: 1.6272 - val_loss: 1.7084\n",
            "Epoch 9/10\n",
            "354/354 [==============================] - 1070s 3s/step - loss: 1.5756 - val_loss: 1.6818\n",
            "Epoch 10/10\n",
            "354/354 [==============================] - 1072s 3s/step - loss: 1.5291 - val_loss: 1.6606\n"
          ],
          "name": "stdout"
        }
      ]
    },
    {
      "cell_type": "code",
      "metadata": {
        "id": "A8pnc-I4FZOj"
      },
      "source": [
        "import keras_preprocessing.text\n",
        "import io\n",
        "import json"
      ],
      "execution_count": null,
      "outputs": []
    },
    {
      "cell_type": "code",
      "metadata": {
        "id": "qcM8HzgGFbdj"
      },
      "source": [
        "#Saving tokenizers to be used in FastAPI model\n",
        "tokenizer_json1 = x_tokenizer.to_json()\n",
        "with io.open('tokenizer1.json', 'w', encoding='utf-8') as f:\n",
        "    f.write(json.dumps(tokenizer_json1, ensure_ascii=False))\n",
        "tokenizer_json2 = y_tokenizer.to_json()\n",
        "with io.open('tokenizer2.json', 'w', encoding='utf-8') as f:\n",
        "    f.write(json.dumps(tokenizer_json2, ensure_ascii=False))"
      ],
      "execution_count": null,
      "outputs": []
    },
    {
      "cell_type": "code",
      "metadata": {
        "id": "kZxFKXYNFyEX"
      },
      "source": [
        "import keras_preprocessing.text\n",
        "import io\n",
        "import json\n",
        "#Loading tokenizers(test related)\n",
        "with open('tokenizer1.json') as f:\n",
        "    data = json.load(f)\n",
        "    x_tokenizer = keras_preprocessing.text.tokenizer_from_json(data)\n",
        "with open('tokenizer2.json') as f:\n",
        "    data = json.load(f)\n",
        "    y_tokenizer = keras_preprocessing.text.tokenizer_from_json(data)"
      ],
      "execution_count": null,
      "outputs": []
    },
    {
      "cell_type": "code",
      "metadata": {
        "id": "BrpTHNXiR3op"
      },
      "source": [
        "\n",
        "# Encode the input sequence to get the feature vector\n",
        "encoder_model = Model(inputs=encoder_inputs,outputs=[encoder_outputs, state_h, state_c])\n",
        "\n",
        "# Decoder setup\n",
        "# Below tensors will hold the states of the previous time step\n",
        "decoder_state_input_h = Input(shape=(latent_dim,))\n",
        "decoder_state_input_c = Input(shape=(latent_dim,))\n",
        "decoder_hidden_state_input = Input(shape=(max_text_len,latent_dim))\n",
        "\n",
        "# Get the embeddings of the decoder sequence\n",
        "dec_emb2= dec_emb_layer(decoder_inputs) \n",
        "# To predict the next word in the sequence, set the initial states to the states from the previous time step\n",
        "decoder_outputs2, state_h2, state_c2 = decoder_lstm(dec_emb2, initial_state=[decoder_state_input_h, decoder_state_input_c])\n",
        "\n",
        "#attention inference. Will put energy values to the given output\n",
        "attn_out_inf, attn_states_inf = attn_layer([decoder_hidden_state_input, decoder_outputs2])\n",
        "decoder_inf_concat = Concatenate(axis=-1, name='concat')([decoder_outputs2, attn_out_inf])\n",
        "\n",
        "# A dense softmax layer to generate prob dist. over the target vocabulary\n",
        "decoder_outputs2 = decoder_dense(decoder_inf_concat) \n",
        "\n",
        "# Final decoder model\n",
        "decoder_model = Model(\n",
        "    [decoder_inputs] + [decoder_hidden_state_input,decoder_state_input_h, decoder_state_input_c],\n",
        "    [decoder_outputs2] + [state_h2, state_c2])"
      ],
      "execution_count": null,
      "outputs": []
    },
    {
      "cell_type": "code",
      "metadata": {
        "id": "x2C2J0nSmE7k",
        "colab": {
          "base_uri": "https://localhost:8080/"
        },
        "outputId": "85566aff-d89a-4ba8-a7c7-56e5f22b329f"
      },
      "source": [
        "#Saving models for FastAPI\n",
        "decoder_model.save('decoder.h5')\n",
        "encoder_model.save('encoder.h5')"
      ],
      "execution_count": null,
      "outputs": [
        {
          "output_type": "stream",
          "text": [
            "WARNING:tensorflow:Compiled the loaded model, but the compiled metrics have yet to be built. `model.compile_metrics` will be empty until you train or evaluate the model.\n",
            "WARNING:tensorflow:Compiled the loaded model, but the compiled metrics have yet to be built. `model.compile_metrics` will be empty until you train or evaluate the model.\n"
          ],
          "name": "stdout"
        }
      ]
    },
    {
      "cell_type": "code",
      "metadata": {
        "colab": {
          "base_uri": "https://localhost:8080/"
        },
        "id": "4U1zWogGmRwr",
        "outputId": "5fac891b-cadc-42c9-b296-fed7bbb52c54"
      },
      "source": [
        "import tensorflow as tf\n",
        "#Loading the models(test-wise)\n",
        "encoder_model=tf.keras.models.load_model('encoder.h5')\n",
        "decoder_model=tf.keras.models.load_model('decoder.h5',custom_objects={'AttentionLayer': AttentionLayer})"
      ],
      "execution_count": null,
      "outputs": [
        {
          "output_type": "stream",
          "text": [
            "WARNING:tensorflow:Layer lstm will not use cuDNN kernel since it doesn't meet the cuDNN kernel criteria. It will use generic GPU kernel as fallback when running on GPU\n",
            "WARNING:tensorflow:Layer lstm_1 will not use cuDNN kernel since it doesn't meet the cuDNN kernel criteria. It will use generic GPU kernel as fallback when running on GPU\n",
            "WARNING:tensorflow:Layer lstm_2 will not use cuDNN kernel since it doesn't meet the cuDNN kernel criteria. It will use generic GPU kernel as fallback when running on GPU\n",
            "WARNING:tensorflow:No training configuration found in the save file, so the model was *not* compiled. Compile it manually.\n",
            "WARNING:tensorflow:Layer lstm_3 will not use cuDNN kernel since it doesn't meet the cuDNN kernel criteria. It will use generic GPU kernel as fallback when running on GPU\n",
            "WARNING:tensorflow:No training configuration found in the save file, so the model was *not* compiled. Compile it manually.\n"
          ],
          "name": "stdout"
        }
      ]
    },
    {
      "cell_type": "code",
      "metadata": {
        "id": "Knlj6k-DR9-7"
      },
      "source": [
        "reverse_target_word_index=y_tokenizer.index_word\n",
        "reverse_source_word_index=x_tokenizer.index_word\n",
        "target_word_index=y_tokenizer.word_index\n",
        "\n",
        "def decode_sequence(input_seq):\n",
        "    # Encode the input as state vectors.\n",
        "    e_out, e_h, e_c = encoder_model.predict(input_seq)\n",
        "    \n",
        "    # Generate empty target sequence of length 1.\n",
        "    target_seq = np.zeros((1,1))\n",
        "    \n",
        "    # Populate the first word of target sequence with the start word.\n",
        "    target_seq[0, 0] = target_word_index['sostok']\n",
        "\n",
        "    stop_condition = False\n",
        "    decoded_sentence = ''\n",
        "    while not stop_condition:\n",
        "      \n",
        "        output_tokens, h, c = decoder_model.predict([target_seq] + [e_out, e_h, e_c])\n",
        "\n",
        "        # Sample a token\n",
        "        sampled_token_index = np.argmax(output_tokens[0, -1, :])\n",
        "        sampled_token = reverse_target_word_index[sampled_token_index]\n",
        "        \n",
        "        if(sampled_token!='eostok'):\n",
        "            decoded_sentence += ' '+sampled_token\n",
        "\n",
        "        # Exit condition: either hit max length or find stop word.\n",
        "        if (sampled_token == 'eostok'  or len(decoded_sentence.split()) >= (max_summary_len-1)):\n",
        "            stop_condition = True\n",
        "\n",
        "        # Update the target sequence (of length 1).\n",
        "        target_seq = np.zeros((1,1))\n",
        "        target_seq[0, 0] = sampled_token_index\n",
        "\n",
        "        # Update internal states\n",
        "        e_h, e_c = h, c\n",
        "\n",
        "    return decoded_sentence"
      ],
      "execution_count": null,
      "outputs": []
    },
    {
      "cell_type": "code",
      "metadata": {
        "id": "WC05gUebSYKx"
      },
      "source": [
        "#seq2summary function will transform original summary sequences to string.\n",
        "def seq2summary(input_seq):\n",
        "    newString=''\n",
        "    for i in input_seq:\n",
        "        if((i!=0 and i!=target_word_index['sostok']) and i!=target_word_index['eostok']):\n",
        "            newString=newString+reverse_target_word_index[i]+' '\n",
        "    return newString\n",
        "#seq2text function will transform original long text sequences to string.\n",
        "def seq2text(input_seq):\n",
        "    newString=''\n",
        "    for i in input_seq:\n",
        "        if(i!=0):\n",
        "            newString=newString+reverse_source_word_index[i]+' '\n",
        "    return newString"
      ],
      "execution_count": null,
      "outputs": []
    },
    {
      "cell_type": "code",
      "metadata": {
        "id": "5Cp5prf5fad3"
      },
      "source": [
        "from nltk.translate.bleu_score import sentence_bleu"
      ],
      "execution_count": null,
      "outputs": []
    },
    {
      "cell_type": "code",
      "metadata": {
        "colab": {
          "base_uri": "https://localhost:8080/"
        },
        "id": "q7mpjxLFPAY5",
        "outputId": "18ae125b-724b-4076-ba57-cdb6430dff6c"
      },
      "source": [
        ""
      ],
      "execution_count": null,
      "outputs": [
        {
          "output_type": "execute_result",
          "data": {
            "text/plain": [
              "90621"
            ]
          },
          "metadata": {
            "tags": []
          },
          "execution_count": 87
        }
      ]
    },
    {
      "cell_type": "code",
      "metadata": {
        "id": "k9uAKmeuu77L"
      },
      "source": [
        "#This part will be used within the validation data and what scores it will produce in the sample they are given.\n",
        "hold_val_long=[seq2text(x) for x in x_val[:5000]]\n",
        "hold_val_pred=[decode_sequence(x.reshape(1,200)) for x in x_val[:5000]]\n",
        "hold_val_or=[seq2summary(x) for x in y_val[:5000]]\n",
        "bleu=[]\n",
        "rouge_1=[]\n",
        "rouge_2=[]\n",
        "rouge_l=[]\n",
        "\n",
        "avr_rouge=rouge.get_scores(hold_val_pred, hold_val_or, avg=True)\n",
        "for s in range(0,len(hold_val_pred)):\n",
        "  bleu.append(sentence_bleu([hold_val_or[s].split()],hold_val_pred[s].split()))\n",
        "  holder_rouge=rouge.get_scores(hold_val_pred[s], hold_val_or[s])\n",
        "  rouge_1.append(holder_rouge[0]['rouge-1'])\n",
        "  rouge_2.append(holder_rouge[0]['rouge-2'])\n",
        "  rouge_l.append(holder_rouge[0]['rouge-l'])\n",
        "\n",
        "  \n",
        "data_stat=pd.DataFrame()\n",
        "data_stat['long']=hold_val_long\n",
        "data_stat['prediction']=hold_val_pred\n",
        "data_stat['original']=hold_val_or\n",
        "data_stat['bleu']=bleu\n",
        "data_stat['rouge_1']=rouge_1\n",
        "data_stat['rouge_2']=rouge_2\n",
        "data_stat['rouge_l']=rouge_l"
      ],
      "execution_count": null,
      "outputs": []
    },
    {
      "cell_type": "code",
      "metadata": {
        "colab": {
          "base_uri": "https://localhost:8080/"
        },
        "id": "nYwa4t50AwU6",
        "outputId": "c45931dd-19b8-4913-938d-05910a8024c5"
      },
      "source": [
        "print(avr_rouge)"
      ],
      "execution_count": null,
      "outputs": [
        {
          "output_type": "stream",
          "text": [
            "{'rouge-1': {'f': 0.21120454001911, 'p': 0.2245580370131728, 'r': 0.20537233774011687}, 'rouge-2': {'f': 0.047123618115731306, 'p': 0.050848900473623164, 'r': 0.0455177442941836}, 'rouge-l': {'f': 0.20614177196804745, 'p': 0.23662982739482605, 'r': 0.18999913272872826}}\n"
          ],
          "name": "stdout"
        }
      ]
    },
    {
      "cell_type": "code",
      "metadata": {
        "id": "eAuiAYkfU_Sh"
      },
      "source": [
        "data_stat.to_csv('seq2seq_eng_att_stats.csv')"
      ],
      "execution_count": null,
      "outputs": []
    },
    {
      "cell_type": "code",
      "metadata": {
        "colab": {
          "base_uri": "https://localhost:8080/",
          "height": 1000
        },
        "id": "Oe_fnxWtVN_7",
        "outputId": "39f4a264-9b54-408c-c60b-d3d8b2337372"
      },
      "source": [
        "data_stat"
      ],
      "execution_count": null,
      "outputs": [
        {
          "output_type": "execute_result",
          "data": {
            "text/html": [
              "<div>\n",
              "<style scoped>\n",
              "    .dataframe tbody tr th:only-of-type {\n",
              "        vertical-align: middle;\n",
              "    }\n",
              "\n",
              "    .dataframe tbody tr th {\n",
              "        vertical-align: top;\n",
              "    }\n",
              "\n",
              "    .dataframe thead th {\n",
              "        text-align: right;\n",
              "    }\n",
              "</style>\n",
              "<table border=\"1\" class=\"dataframe\">\n",
              "  <thead>\n",
              "    <tr style=\"text-align: right;\">\n",
              "      <th></th>\n",
              "      <th>long</th>\n",
              "      <th>prediction</th>\n",
              "      <th>original</th>\n",
              "      <th>bleu</th>\n",
              "      <th>rouge_1</th>\n",
              "      <th>rouge_2</th>\n",
              "      <th>rouge_l</th>\n",
              "    </tr>\n",
              "  </thead>\n",
              "  <tbody>\n",
              "    <tr>\n",
              "      <th>0</th>\n",
              "      <td>the kerala unit of congress has supported party mp shashi tharoor's claim that the bjp will create a hindu pakistan' if it wins the 2019 lok sabha elections this comes after the congress disapprov...</td>\n",
              "      <td>congress slams cong mp for not to join its name</td>\n",
              "      <td>kerala congress supports tharoor's 'hindu pakistan' remark</td>\n",
              "      <td>0.562341</td>\n",
              "      <td>{'f': 0.11764705397923896, 'p': 0.1, 'r': 0.14285714285714285}</td>\n",
              "      <td>{'f': 0.0, 'p': 0.0, 'r': 0.0}</td>\n",
              "      <td>{'f': 0.11764705397923896, 'p': 0.1, 'r': 0.14285714285714285}</td>\n",
              "    </tr>\n",
              "    <tr>\n",
              "      <th>1</th>\n",
              "      <td>the maharashtra plastic ban will result in revenue loss of up to â¹15 000 crore and will cost nearly 3 lakh jobs the plastic bags manufacturers association of india has claimed calling the ban di...</td>\n",
              "      <td>delhi govt bans â¹2 5 crore fine on tax evasion</td>\n",
              "      <td>maha plastic ban could cost industry â¹15 000 crore 3l jobs</td>\n",
              "      <td>0.508827</td>\n",
              "      <td>{'f': 0.09523809024943337, 'p': 0.1, 'r': 0.09090909090909091}</td>\n",
              "      <td>{'f': 0.0, 'p': 0.0, 'r': 0.0}</td>\n",
              "      <td>{'f': 0.09523809024943337, 'p': 0.1, 'r': 0.09090909090909091}</td>\n",
              "    </tr>\n",
              "    <tr>\n",
              "      <th>2</th>\n",
              "      <td>cash strapped jet airways is reportedly withdrawing flight services on seven gulf routes from december 5 the naresh goyal led airline will stop operating 39 services per week to doha muscat abu dh...</td>\n",
              "      <td>jet airways pilots to get flying jet airways for jet airways</td>\n",
              "      <td>cash strapped jet airways may stop flying on 7 gulf routes</td>\n",
              "      <td>0.406380</td>\n",
              "      <td>{'f': 0.2727272677272728, 'p': 0.2727272727272727, 'r': 0.2727272727272727}</td>\n",
              "      <td>{'f': 0.09999999500000027, 'p': 0.1, 'r': 0.1}</td>\n",
              "      <td>{'f': 0.3333333285802469, 'p': 0.42857142857142855, 'r': 0.2727272727272727}</td>\n",
              "    </tr>\n",
              "    <tr>\n",
              "      <th>3</th>\n",
              "      <td>started in the garage of late co founder steve jobs in 1976 apple became the first us company to hit a 1 trillion valuation on thursday jobs sold his volkswagen minibus while co founder steve wozn...</td>\n",
              "      <td>apple becomes 1st indian to sell 100 billion in 3 yrs</td>\n",
              "      <td>apple started from garage in now a trillion dollar giant</td>\n",
              "      <td>0.652994</td>\n",
              "      <td>{'f': 0.1904761854875285, 'p': 0.18181818181818182, 'r': 0.2}</td>\n",
              "      <td>{'f': 0.0, 'p': 0.0, 'r': 0.0}</td>\n",
              "      <td>{'f': 0.1904761854875285, 'p': 0.18181818181818182, 'r': 0.2}</td>\n",
              "    </tr>\n",
              "    <tr>\n",
              "      <th>4</th>\n",
              "      <td>ahmadi a seven year old boy who met lionel messi in 2016 had to abandon his home with family in afghanistan's after being displaced by taliban in november we were living in fear because people tho...</td>\n",
              "      <td>messi kills self driving in afghanistan</td>\n",
              "      <td>7 year old boy who met messi abandons home after taliban attack</td>\n",
              "      <td>0.235054</td>\n",
              "      <td>{'f': 0.11111110666666683, 'p': 0.16666666666666666, 'r': 0.08333333333333333}</td>\n",
              "      <td>{'f': 0.0, 'p': 0.0, 'r': 0.0}</td>\n",
              "      <td>{'f': 0.11111110666666683, 'p': 0.16666666666666666, 'r': 0.08333333333333333}</td>\n",
              "    </tr>\n",
              "    <tr>\n",
              "      <th>...</th>\n",
              "      <td>...</td>\n",
              "      <td>...</td>\n",
              "      <td>...</td>\n",
              "      <td>...</td>\n",
              "      <td>...</td>\n",
              "      <td>...</td>\n",
              "      <td>...</td>\n",
              "    </tr>\n",
              "    <tr>\n",
              "      <th>4995</th>\n",
              "      <td>journalist barkha dutt while responding to censor board's decision to edit out from her name in the film 'noor' tweeted barkha without the dutt dear censor board is kinda like minus channa i am a ...</td>\n",
              "      <td>cbfc to make new film to play padmavati</td>\n",
              "      <td>barkha without dutt like barkha to cbfc</td>\n",
              "      <td>0.707107</td>\n",
              "      <td>{'f': 0.266666661688889, 'p': 0.25, 'r': 0.2857142857142857}</td>\n",
              "      <td>{'f': 0.0, 'p': 0.0, 'r': 0.0}</td>\n",
              "      <td>{'f': 0.1538461488757398, 'p': 0.14285714285714285, 'r': 0.16666666666666666}</td>\n",
              "    </tr>\n",
              "    <tr>\n",
              "      <th>4996</th>\n",
              "      <td>actor turned politician kamal haasan has said he somehow supports congress president rahul gandhi over his remark that he would have thrown the file proposing demonetisation into a dustbin if he w...</td>\n",
              "      <td>rahul gandhi is not a dig at rahul haasan</td>\n",
              "      <td>haasan supports rahul on in remark</td>\n",
              "      <td>0.686589</td>\n",
              "      <td>{'f': 0.2666666618666667, 'p': 0.2222222222222222, 'r': 0.3333333333333333}</td>\n",
              "      <td>{'f': 0.0, 'p': 0.0, 'r': 0.0}</td>\n",
              "      <td>{'f': 0.14285713795918387, 'p': 0.125, 'r': 0.16666666666666666}</td>\n",
              "    </tr>\n",
              "    <tr>\n",
              "      <th>4997</th>\n",
              "      <td>a daily worker who recently built his house with his savings in an odisha village found it infested with over 100 baby on friday the snake helpline ngo was called which said we are still looking f...</td>\n",
              "      <td>man who went to save baby in gujarat village</td>\n",
              "      <td>odisha worker finds house filled with over 100 baby</td>\n",
              "      <td>0.577350</td>\n",
              "      <td>{'f': 0.11111110611111134, 'p': 0.1111111111111111, 'r': 0.1111111111111111}</td>\n",
              "      <td>{'f': 0.0, 'p': 0.0, 'r': 0.0}</td>\n",
              "      <td>{'f': 0.11111110611111134, 'p': 0.1111111111111111, 'r': 0.1111111111111111}</td>\n",
              "    </tr>\n",
              "    <tr>\n",
              "      <th>4998</th>\n",
              "      <td>congratulating 18 year old hima das who became the first ever indian to win track gold in a world championship shah rukh khan tweeted felt a genuine wave of pride inspiration what an amazing athle...</td>\n",
              "      <td>i don't know what i am the world world cup winner</td>\n",
              "      <td>hima das kya baat hai srk on gold win at a world championship</td>\n",
              "      <td>0.457814</td>\n",
              "      <td>{'f': 0.08333332836805586, 'p': 0.09090909090909091, 'r': 0.07692307692307693}</td>\n",
              "      <td>{'f': 0.0, 'p': 0.0, 'r': 0.0}</td>\n",
              "      <td>{'f': 0.09090908607438043, 'p': 0.1111111111111111, 'r': 0.07692307692307693}</td>\n",
              "    </tr>\n",
              "    <tr>\n",
              "      <th>4999</th>\n",
              "      <td>a new resort perched on a an exposed hill surrounded by a glacier is set to open at the national park next month the sheldon has five guest rooms and an observation deck but no cell coverage or in...</td>\n",
              "      <td>new york to open its first ever hotel</td>\n",
              "      <td>new luxury hotel to open in the middle of glacier</td>\n",
              "      <td>0.402619</td>\n",
              "      <td>{'f': 0.4444444395061729, 'p': 0.5, 'r': 0.4}</td>\n",
              "      <td>{'f': 0.12499999507812519, 'p': 0.14285714285714285, 'r': 0.1111111111111111}</td>\n",
              "      <td>{'f': 0.33333332839506175, 'p': 0.375, 'r': 0.3}</td>\n",
              "    </tr>\n",
              "  </tbody>\n",
              "</table>\n",
              "<p>5000 rows × 7 columns</p>\n",
              "</div>"
            ],
            "text/plain": [
              "                                                                                                                                                                                                         long  ...                                                                         rouge_l\n",
              "0     the kerala unit of congress has supported party mp shashi tharoor's claim that the bjp will create a hindu pakistan' if it wins the 2019 lok sabha elections this comes after the congress disapprov...  ...                  {'f': 0.11764705397923896, 'p': 0.1, 'r': 0.14285714285714285}\n",
              "1     the maharashtra plastic ban will result in revenue loss of up to â¹15 000 crore and will cost nearly 3 lakh jobs the plastic bags manufacturers association of india has claimed calling the ban di...  ...                  {'f': 0.09523809024943337, 'p': 0.1, 'r': 0.09090909090909091}\n",
              "2     cash strapped jet airways is reportedly withdrawing flight services on seven gulf routes from december 5 the naresh goyal led airline will stop operating 39 services per week to doha muscat abu dh...  ...    {'f': 0.3333333285802469, 'p': 0.42857142857142855, 'r': 0.2727272727272727}\n",
              "3     started in the garage of late co founder steve jobs in 1976 apple became the first us company to hit a 1 trillion valuation on thursday jobs sold his volkswagen minibus while co founder steve wozn...  ...                   {'f': 0.1904761854875285, 'p': 0.18181818181818182, 'r': 0.2}\n",
              "4     ahmadi a seven year old boy who met lionel messi in 2016 had to abandon his home with family in afghanistan's after being displaced by taliban in november we were living in fear because people tho...  ...  {'f': 0.11111110666666683, 'p': 0.16666666666666666, 'r': 0.08333333333333333}\n",
              "...                                                                                                                                                                                                       ...  ...                                                                             ...\n",
              "4995  journalist barkha dutt while responding to censor board's decision to edit out from her name in the film 'noor' tweeted barkha without the dutt dear censor board is kinda like minus channa i am a ...  ...   {'f': 0.1538461488757398, 'p': 0.14285714285714285, 'r': 0.16666666666666666}\n",
              "4996  actor turned politician kamal haasan has said he somehow supports congress president rahul gandhi over his remark that he would have thrown the file proposing demonetisation into a dustbin if he w...  ...                {'f': 0.14285713795918387, 'p': 0.125, 'r': 0.16666666666666666}\n",
              "4997  a daily worker who recently built his house with his savings in an odisha village found it infested with over 100 baby on friday the snake helpline ngo was called which said we are still looking f...  ...    {'f': 0.11111110611111134, 'p': 0.1111111111111111, 'r': 0.1111111111111111}\n",
              "4998  congratulating 18 year old hima das who became the first ever indian to win track gold in a world championship shah rukh khan tweeted felt a genuine wave of pride inspiration what an amazing athle...  ...   {'f': 0.09090908607438043, 'p': 0.1111111111111111, 'r': 0.07692307692307693}\n",
              "4999  a new resort perched on a an exposed hill surrounded by a glacier is set to open at the national park next month the sheldon has five guest rooms and an observation deck but no cell coverage or in...  ...                                {'f': 0.33333332839506175, 'p': 0.375, 'r': 0.3}\n",
              "\n",
              "[5000 rows x 7 columns]"
            ]
          },
          "metadata": {
            "tags": []
          },
          "execution_count": 103
        }
      ]
    },
    {
      "cell_type": "code",
      "metadata": {
        "id": "XneI46JewFMG"
      },
      "source": [
        "hold_val['y']=seq2summary(y_val[i])\n",
        "hold_val"
      ],
      "execution_count": null,
      "outputs": []
    },
    {
      "cell_type": "code",
      "metadata": {
        "id": "51x_zmuQ_AO-"
      },
      "source": [
        "hold_val.to_csv('/content/gdrive/MyDrive/hold_val1.csv')"
      ],
      "execution_count": null,
      "outputs": []
    },
    {
      "cell_type": "code",
      "metadata": {
        "colab": {
          "base_uri": "https://localhost:8080/"
        },
        "id": "2xbwsrdlgZL-",
        "outputId": "82739161-7d34-4f68-b40e-5db69a1ab718"
      },
      "source": [
        "seq2summary(y_val[1]).split()"
      ],
      "execution_count": null,
      "outputs": [
        {
          "output_type": "execute_result",
          "data": {
            "text/plain": [
              "['maha',\n",
              " 'plastic',\n",
              " 'ban',\n",
              " 'could',\n",
              " 'cost',\n",
              " 'industry',\n",
              " 'â\\x82¹15',\n",
              " '000',\n",
              " 'crore',\n",
              " '3l',\n",
              " 'jobs']"
            ]
          },
          "metadata": {
            "tags": []
          },
          "execution_count": 105
        }
      ]
    },
    {
      "cell_type": "code",
      "metadata": {
        "colab": {
          "base_uri": "https://localhost:8080/"
        },
        "id": "73ERlBnEhaic",
        "outputId": "361374cd-0430-4f15-87a4-9f3cd23f3d67"
      },
      "source": [
        "!pip install rouge\n",
        "from rouge import Rouge\n",
        "rouge = Rouge()"
      ],
      "execution_count": null,
      "outputs": [
        {
          "output_type": "stream",
          "text": [
            "Collecting rouge\n",
            "  Downloading https://files.pythonhosted.org/packages/43/cc/e18e33be20971ff73a056ebdb023476b5a545e744e3fc22acd8c758f1e0d/rouge-1.0.0-py3-none-any.whl\n",
            "Requirement already satisfied: six in /usr/local/lib/python3.7/dist-packages (from rouge) (1.15.0)\n",
            "Installing collected packages: rouge\n",
            "Successfully installed rouge-1.0.0\n"
          ],
          "name": "stdout"
        }
      ]
    },
    {
      "cell_type": "code",
      "metadata": {
        "id": "EWi6ROZo94jp"
      },
      "source": [
        "tresy=rouge.get_scores(decode_sequence(x_val[1].reshape(1,200)), seq2summary(y_val[1]))"
      ],
      "execution_count": null,
      "outputs": []
    },
    {
      "cell_type": "code",
      "metadata": {
        "colab": {
          "base_uri": "https://localhost:8080/",
          "height": 710
        },
        "id": "IKRCt5QVAk5F",
        "outputId": "0ce23032-e639-414f-c820-f5bb7add842b"
      },
      "source": [
        "data_stat.tail(10)"
      ],
      "execution_count": null,
      "outputs": [
        {
          "output_type": "execute_result",
          "data": {
            "text/html": [
              "<div>\n",
              "<style scoped>\n",
              "    .dataframe tbody tr th:only-of-type {\n",
              "        vertical-align: middle;\n",
              "    }\n",
              "\n",
              "    .dataframe tbody tr th {\n",
              "        vertical-align: top;\n",
              "    }\n",
              "\n",
              "    .dataframe thead th {\n",
              "        text-align: right;\n",
              "    }\n",
              "</style>\n",
              "<table border=\"1\" class=\"dataframe\">\n",
              "  <thead>\n",
              "    <tr style=\"text-align: right;\">\n",
              "      <th></th>\n",
              "      <th>prediction</th>\n",
              "      <th>original</th>\n",
              "      <th>bleu</th>\n",
              "      <th>rouge_1</th>\n",
              "      <th>rouge_2</th>\n",
              "      <th>rouge_l</th>\n",
              "    </tr>\n",
              "  </thead>\n",
              "  <tbody>\n",
              "    <tr>\n",
              "      <th>1990</th>\n",
              "      <td>mit develops startup to raise 1 million</td>\n",
              "      <td>20 year old entrepreneur is a lie claims mit study</td>\n",
              "      <td>0.152202</td>\n",
              "      <td>{'f': 0.11764705397923896, 'p': 0.14285714285714285, 'r': 0.1}</td>\n",
              "      <td>{'f': 0.0, 'p': 0.0, 'r': 0.0}</td>\n",
              "      <td>{'f': 0.11764705397923896, 'p': 0.14285714285714285, 'r': 0.1}</td>\n",
              "    </tr>\n",
              "    <tr>\n",
              "      <th>1991</th>\n",
              "      <td>bcci to spend crore in 2016 19 year old bcci</td>\n",
              "      <td>bcci has spent â¹4 62 crore on office coa to sc</td>\n",
              "      <td>0.364872</td>\n",
              "      <td>{'f': 0.2857142807256236, 'p': 0.3, 'r': 0.2727272727272727}</td>\n",
              "      <td>{'f': 0.0, 'p': 0.0, 'r': 0.0}</td>\n",
              "      <td>{'f': 0.1999999950500001, 'p': 0.2222222222222222, 'r': 0.18181818181818182}</td>\n",
              "    </tr>\n",
              "    <tr>\n",
              "      <th>1992</th>\n",
              "      <td>up man who killed up cm on his death</td>\n",
              "      <td>declare my son a martyr mother of kasganj violence victim</td>\n",
              "      <td>0.193897</td>\n",
              "      <td>{'f': 0.0, 'p': 0.0, 'r': 0.0}</td>\n",
              "      <td>{'f': 0.0, 'p': 0.0, 'r': 0.0}</td>\n",
              "      <td>{'f': 0.0, 'p': 0.0, 'r': 0.0}</td>\n",
              "    </tr>\n",
              "    <tr>\n",
              "      <th>1993</th>\n",
              "      <td>warne named ipl as ipl 2017 2017</td>\n",
              "      <td>shane warne appointed rajasthan mentor for ipl 2018</td>\n",
              "      <td>0.270352</td>\n",
              "      <td>{'f': 0.266666661688889, 'p': 0.2857142857142857, 'r': 0.25}</td>\n",
              "      <td>{'f': 0.0, 'p': 0.0, 'r': 0.0}</td>\n",
              "      <td>{'f': 0.3076923029585799, 'p': 0.4, 'r': 0.25}</td>\n",
              "    </tr>\n",
              "    <tr>\n",
              "      <th>1994</th>\n",
              "      <td>scientists develop new brain of heart surgery</td>\n",
              "      <td>3d printed heart made that beats like human heart</td>\n",
              "      <td>0.205986</td>\n",
              "      <td>{'f': 0.12499999507812519, 'p': 0.14285714285714285, 'r': 0.1111111111111111}</td>\n",
              "      <td>{'f': 0.0, 'p': 0.0, 'r': 0.0}</td>\n",
              "      <td>{'f': 0.13333332835555575, 'p': 0.14285714285714285, 'r': 0.125}</td>\n",
              "    </tr>\n",
              "    <tr>\n",
              "      <th>1995</th>\n",
              "      <td>ex pak pm nawaz sharif killed in car crash</td>\n",
              "      <td>bhutto assassinated on this day 10 years ago</td>\n",
              "      <td>0.212541</td>\n",
              "      <td>{'f': 0.0, 'p': 0.0, 'r': 0.0}</td>\n",
              "      <td>{'f': 0.0, 'p': 0.0, 'r': 0.0}</td>\n",
              "      <td>{'f': 0.0, 'p': 0.0, 'r': 0.0}</td>\n",
              "    </tr>\n",
              "    <tr>\n",
              "      <th>1996</th>\n",
              "      <td>solar eclipse may be used by solar eclipse study</td>\n",
              "      <td>what are solar and how do they form</td>\n",
              "      <td>0.183456</td>\n",
              "      <td>{'f': 0.11764705384083066, 'p': 0.1111111111111111, 'r': 0.125}</td>\n",
              "      <td>{'f': 0.0, 'p': 0.0, 'r': 0.0}</td>\n",
              "      <td>{'f': 0.13333332835555575, 'p': 0.14285714285714285, 'r': 0.125}</td>\n",
              "    </tr>\n",
              "    <tr>\n",
              "      <th>1997</th>\n",
              "      <td>designer of daughter passes away aged 89</td>\n",
              "      <td>kate father passes away one night before her funeral</td>\n",
              "      <td>0.365196</td>\n",
              "      <td>{'f': 0.24999999507812506, 'p': 0.2857142857142857, 'r': 0.2222222222222222}</td>\n",
              "      <td>{'f': 0.14285713795918387, 'p': 0.16666666666666666, 'r': 0.125}</td>\n",
              "      <td>{'f': 0.24999999507812506, 'p': 0.2857142857142857, 'r': 0.2222222222222222}</td>\n",
              "    </tr>\n",
              "    <tr>\n",
              "      <th>1998</th>\n",
              "      <td>serena williams is not a player of fixing ex aus player</td>\n",
              "      <td>father threatens with legal action</td>\n",
              "      <td>0.225754</td>\n",
              "      <td>{'f': 0.0, 'p': 0.0, 'r': 0.0}</td>\n",
              "      <td>{'f': 0.0, 'p': 0.0, 'r': 0.0}</td>\n",
              "      <td>{'f': 0.0, 'p': 0.0, 'r': 0.0}</td>\n",
              "    </tr>\n",
              "    <tr>\n",
              "      <th>1999</th>\n",
              "      <td>man tries to stop smoking at airport</td>\n",
              "      <td>man stopped from taking wine bottles drinks them at airport</td>\n",
              "      <td>0.334186</td>\n",
              "      <td>{'f': 0.3529411716262976, 'p': 0.42857142857142855, 'r': 0.3}</td>\n",
              "      <td>{'f': 0.1333333285333335, 'p': 0.16666666666666666, 'r': 0.1111111111111111}</td>\n",
              "      <td>{'f': 0.3529411716262976, 'p': 0.42857142857142855, 'r': 0.3}</td>\n",
              "    </tr>\n",
              "  </tbody>\n",
              "</table>\n",
              "</div>"
            ],
            "text/plain": [
              "                                                    prediction  ...                                                                       rouge_l\n",
              "1990                   mit develops startup to raise 1 million  ...                {'f': 0.11764705397923896, 'p': 0.14285714285714285, 'r': 0.1}\n",
              "1991              bcci to spend crore in 2016 19 year old bcci  ...  {'f': 0.1999999950500001, 'p': 0.2222222222222222, 'r': 0.18181818181818182}\n",
              "1992                      up man who killed up cm on his death  ...                                                {'f': 0.0, 'p': 0.0, 'r': 0.0}\n",
              "1993                          warne named ipl as ipl 2017 2017  ...                                {'f': 0.3076923029585799, 'p': 0.4, 'r': 0.25}\n",
              "1994             scientists develop new brain of heart surgery  ...              {'f': 0.13333332835555575, 'p': 0.14285714285714285, 'r': 0.125}\n",
              "1995                ex pak pm nawaz sharif killed in car crash  ...                                                {'f': 0.0, 'p': 0.0, 'r': 0.0}\n",
              "1996          solar eclipse may be used by solar eclipse study  ...              {'f': 0.13333332835555575, 'p': 0.14285714285714285, 'r': 0.125}\n",
              "1997                  designer of daughter passes away aged 89  ...  {'f': 0.24999999507812506, 'p': 0.2857142857142857, 'r': 0.2222222222222222}\n",
              "1998   serena williams is not a player of fixing ex aus player  ...                                                {'f': 0.0, 'p': 0.0, 'r': 0.0}\n",
              "1999                      man tries to stop smoking at airport  ...                 {'f': 0.3529411716262976, 'p': 0.42857142857142855, 'r': 0.3}\n",
              "\n",
              "[10 rows x 6 columns]"
            ]
          },
          "metadata": {
            "tags": []
          },
          "execution_count": 94
        }
      ]
    },
    {
      "cell_type": "code",
      "metadata": {
        "id": "aHe87ROvsNYd"
      },
      "source": [
        "data=pd.read_csv('seq2seq_eng_att_stats.csv')"
      ],
      "execution_count": null,
      "outputs": []
    },
    {
      "cell_type": "code",
      "metadata": {
        "id": "8XXztIBlspPt",
        "colab": {
          "base_uri": "https://localhost:8080/",
          "height": 35
        },
        "outputId": "1c348567-2f2c-4264-e6e3-184bb2a3def8"
      },
      "source": [
        "data['original'][4990]"
      ],
      "execution_count": null,
      "outputs": [
        {
          "output_type": "execute_result",
          "data": {
            "application/vnd.google.colaboratory.intrinsic+json": {
              "type": "string"
            },
            "text/plain": [
              "\"bulls t on kangana's claim of directing 70 of manikarnika \""
            ]
          },
          "metadata": {
            "tags": []
          },
          "execution_count": 111
        }
      ]
    },
    {
      "cell_type": "code",
      "metadata": {
        "colab": {
          "base_uri": "https://localhost:8080/",
          "height": 1000
        },
        "id": "sK4fJK52sVOp",
        "outputId": "6285d989-356d-4b14-a431-7840702b1b5d"
      },
      "source": [
        "data.tail(10)"
      ],
      "execution_count": null,
      "outputs": [
        {
          "output_type": "execute_result",
          "data": {
            "text/html": [
              "<div>\n",
              "<style scoped>\n",
              "    .dataframe tbody tr th:only-of-type {\n",
              "        vertical-align: middle;\n",
              "    }\n",
              "\n",
              "    .dataframe tbody tr th {\n",
              "        vertical-align: top;\n",
              "    }\n",
              "\n",
              "    .dataframe thead th {\n",
              "        text-align: right;\n",
              "    }\n",
              "</style>\n",
              "<table border=\"1\" class=\"dataframe\">\n",
              "  <thead>\n",
              "    <tr style=\"text-align: right;\">\n",
              "      <th></th>\n",
              "      <th>Unnamed: 0</th>\n",
              "      <th>long</th>\n",
              "      <th>prediction</th>\n",
              "      <th>original</th>\n",
              "      <th>bleu</th>\n",
              "      <th>rouge_1</th>\n",
              "      <th>rouge_2</th>\n",
              "      <th>rouge_l</th>\n",
              "    </tr>\n",
              "  </thead>\n",
              "  <tbody>\n",
              "    <tr>\n",
              "      <th>4990</th>\n",
              "      <td>4990</td>\n",
              "      <td>'manikarnika the queen of jhansi' co director krish while speaking about kangana ranaut's claim that she directed 70 of the film said it's bulls t in the first half of manikarnika 20 25 film has b...</td>\n",
              "      <td>kangana is the of the director of kangana</td>\n",
              "      <td>bulls t on kangana's claim of directing 70 of manikarnika</td>\n",
              "      <td>0.550695</td>\n",
              "      <td>{'f': 0.22222221728395072, 'p': 0.25, 'r': 0.2}</td>\n",
              "      <td>{'f': 0.0, 'p': 0.0, 'r': 0.0}</td>\n",
              "      <td>{'f': 0.14285713826530627, 'p': 0.2, 'r': 0.1111111111111111}</td>\n",
              "    </tr>\n",
              "    <tr>\n",
              "      <th>4991</th>\n",
              "      <td>4991</td>\n",
              "      <td>anushka sharma retweeted a picture shared by former australian cricketer brett lee featuring herself lee and her 'sui dhaaga' co star varun dhawan alongside the picture anushka shared a dialogue f...</td>\n",
              "      <td>anushka shares pic of his birthday</td>\n",
              "      <td>anushka sharma tweets dialogue to brett lee</td>\n",
              "      <td>0.540854</td>\n",
              "      <td>{'f': 0.1538461488757398, 'p': 0.16666666666666666, 'r': 0.14285714285714285}</td>\n",
              "      <td>{'f': 0.0, 'p': 0.0, 'r': 0.0}</td>\n",
              "      <td>{'f': 0.1538461488757398, 'p': 0.16666666666666666, 'r': 0.14285714285714285}</td>\n",
              "    </tr>\n",
              "    <tr>\n",
              "      <th>4992</th>\n",
              "      <td>4992</td>\n",
              "      <td>a 13 year old german boy handed out 11 000 over â¹7 lakh to his peers in an effort to make friends according to reports police in received a call saying a young boy was giving away suspiciously l...</td>\n",
              "      <td>man spends â¹2 5 lakh for not paying for money to get</td>\n",
              "      <td>13 year old german boy distributes â¹7 lakh to make friends</td>\n",
              "      <td>0.638943</td>\n",
              "      <td>{'f': 0.1739130384877128, 'p': 0.16666666666666666, 'r': 0.18181818181818182}</td>\n",
              "      <td>{'f': 0.0, 'p': 0.0, 'r': 0.0}</td>\n",
              "      <td>{'f': 0.18181817681818196, 'p': 0.18181818181818182, 'r': 0.18181818181818182}</td>\n",
              "    </tr>\n",
              "    <tr>\n",
              "      <th>4993</th>\n",
              "      <td>4993</td>\n",
              "      <td>a local congress leader was shot dead and his son critically injured outside their home by nearly a dozen armed assailants at a village madhya pradesh a police official said on monday the police h...</td>\n",
              "      <td>congress leader shot dead by mob in madhya pradesh</td>\n",
              "      <td>congress leader shot dead in mp sarpanch among 12 booked</td>\n",
              "      <td>0.282410</td>\n",
              "      <td>{'f': 0.5263157844875347, 'p': 0.5555555555555556, 'r': 0.5}</td>\n",
              "      <td>{'f': 0.35294117148788934, 'p': 0.375, 'r': 0.3333333333333333}</td>\n",
              "      <td>{'f': 0.5263157844875347, 'p': 0.5555555555555556, 'r': 0.5}</td>\n",
              "    </tr>\n",
              "    <tr>\n",
              "      <th>4994</th>\n",
              "      <td>4994</td>\n",
              "      <td>a court in mumbai has convicted gangster chhota rajan and nine others for the murder of journalist dey in 2011 two others accused in the case including journalist vora have been acquitted rajan wa...</td>\n",
              "      <td>mumbai court gets life term for murder of journalist</td>\n",
              "      <td>gangster chhota rajan convicted in 2011 journo murder case</td>\n",
              "      <td>0.577350</td>\n",
              "      <td>{'f': 0.11111110611111134, 'p': 0.1111111111111111, 'r': 0.1111111111111111}</td>\n",
              "      <td>{'f': 0.0, 'p': 0.0, 'r': 0.0}</td>\n",
              "      <td>{'f': 0.11111110611111134, 'p': 0.1111111111111111, 'r': 0.1111111111111111}</td>\n",
              "    </tr>\n",
              "    <tr>\n",
              "      <th>4995</th>\n",
              "      <td>4995</td>\n",
              "      <td>journalist barkha dutt while responding to censor board's decision to edit out from her name in the film 'noor' tweeted barkha without the dutt dear censor board is kinda like minus channa i am a ...</td>\n",
              "      <td>cbfc to make new film to play padmavati</td>\n",
              "      <td>barkha without dutt like barkha to cbfc</td>\n",
              "      <td>0.707107</td>\n",
              "      <td>{'f': 0.266666661688889, 'p': 0.25, 'r': 0.2857142857142857}</td>\n",
              "      <td>{'f': 0.0, 'p': 0.0, 'r': 0.0}</td>\n",
              "      <td>{'f': 0.1538461488757398, 'p': 0.14285714285714285, 'r': 0.16666666666666666}</td>\n",
              "    </tr>\n",
              "    <tr>\n",
              "      <th>4996</th>\n",
              "      <td>4996</td>\n",
              "      <td>actor turned politician kamal haasan has said he somehow supports congress president rahul gandhi over his remark that he would have thrown the file proposing demonetisation into a dustbin if he w...</td>\n",
              "      <td>rahul gandhi is not a dig at rahul haasan</td>\n",
              "      <td>haasan supports rahul on in remark</td>\n",
              "      <td>0.686589</td>\n",
              "      <td>{'f': 0.2666666618666667, 'p': 0.2222222222222222, 'r': 0.3333333333333333}</td>\n",
              "      <td>{'f': 0.0, 'p': 0.0, 'r': 0.0}</td>\n",
              "      <td>{'f': 0.14285713795918387, 'p': 0.125, 'r': 0.16666666666666666}</td>\n",
              "    </tr>\n",
              "    <tr>\n",
              "      <th>4997</th>\n",
              "      <td>4997</td>\n",
              "      <td>a daily worker who recently built his house with his savings in an odisha village found it infested with over 100 baby on friday the snake helpline ngo was called which said we are still looking f...</td>\n",
              "      <td>man who went to save baby in gujarat village</td>\n",
              "      <td>odisha worker finds house filled with over 100 baby</td>\n",
              "      <td>0.577350</td>\n",
              "      <td>{'f': 0.11111110611111134, 'p': 0.1111111111111111, 'r': 0.1111111111111111}</td>\n",
              "      <td>{'f': 0.0, 'p': 0.0, 'r': 0.0}</td>\n",
              "      <td>{'f': 0.11111110611111134, 'p': 0.1111111111111111, 'r': 0.1111111111111111}</td>\n",
              "    </tr>\n",
              "    <tr>\n",
              "      <th>4998</th>\n",
              "      <td>4998</td>\n",
              "      <td>congratulating 18 year old hima das who became the first ever indian to win track gold in a world championship shah rukh khan tweeted felt a genuine wave of pride inspiration what an amazing athle...</td>\n",
              "      <td>i don't know what i am the world world cup winner</td>\n",
              "      <td>hima das kya baat hai srk on gold win at a world championship</td>\n",
              "      <td>0.457814</td>\n",
              "      <td>{'f': 0.08333332836805586, 'p': 0.09090909090909091, 'r': 0.07692307692307693}</td>\n",
              "      <td>{'f': 0.0, 'p': 0.0, 'r': 0.0}</td>\n",
              "      <td>{'f': 0.09090908607438043, 'p': 0.1111111111111111, 'r': 0.07692307692307693}</td>\n",
              "    </tr>\n",
              "    <tr>\n",
              "      <th>4999</th>\n",
              "      <td>4999</td>\n",
              "      <td>a new resort perched on a an exposed hill surrounded by a glacier is set to open at the national park next month the sheldon has five guest rooms and an observation deck but no cell coverage or in...</td>\n",
              "      <td>new york to open its first ever hotel</td>\n",
              "      <td>new luxury hotel to open in the middle of glacier</td>\n",
              "      <td>0.402619</td>\n",
              "      <td>{'f': 0.4444444395061729, 'p': 0.5, 'r': 0.4}</td>\n",
              "      <td>{'f': 0.12499999507812519, 'p': 0.14285714285714285, 'r': 0.1111111111111111}</td>\n",
              "      <td>{'f': 0.33333332839506175, 'p': 0.375, 'r': 0.3}</td>\n",
              "    </tr>\n",
              "  </tbody>\n",
              "</table>\n",
              "</div>"
            ],
            "text/plain": [
              "      Unnamed: 0  ...                                                                         rouge_l\n",
              "4990        4990  ...                   {'f': 0.14285713826530627, 'p': 0.2, 'r': 0.1111111111111111}\n",
              "4991        4991  ...   {'f': 0.1538461488757398, 'p': 0.16666666666666666, 'r': 0.14285714285714285}\n",
              "4992        4992  ...  {'f': 0.18181817681818196, 'p': 0.18181818181818182, 'r': 0.18181818181818182}\n",
              "4993        4993  ...                    {'f': 0.5263157844875347, 'p': 0.5555555555555556, 'r': 0.5}\n",
              "4994        4994  ...    {'f': 0.11111110611111134, 'p': 0.1111111111111111, 'r': 0.1111111111111111}\n",
              "4995        4995  ...   {'f': 0.1538461488757398, 'p': 0.14285714285714285, 'r': 0.16666666666666666}\n",
              "4996        4996  ...                {'f': 0.14285713795918387, 'p': 0.125, 'r': 0.16666666666666666}\n",
              "4997        4997  ...    {'f': 0.11111110611111134, 'p': 0.1111111111111111, 'r': 0.1111111111111111}\n",
              "4998        4998  ...   {'f': 0.09090908607438043, 'p': 0.1111111111111111, 'r': 0.07692307692307693}\n",
              "4999        4999  ...                                {'f': 0.33333332839506175, 'p': 0.375, 'r': 0.3}\n",
              "\n",
              "[10 rows x 8 columns]"
            ]
          },
          "metadata": {
            "tags": []
          },
          "execution_count": 110
        }
      ]
    },
    {
      "cell_type": "code",
      "metadata": {
        "colab": {
          "base_uri": "https://localhost:8080/",
          "height": 1000
        },
        "id": "6yzl6Moo_bpb",
        "outputId": "38cc4842-89a1-49d3-9c0d-ffd1871d236e"
      },
      "source": [
        "data_stat.tail(10)"
      ],
      "execution_count": null,
      "outputs": [
        {
          "output_type": "execute_result",
          "data": {
            "text/html": [
              "<div>\n",
              "<style scoped>\n",
              "    .dataframe tbody tr th:only-of-type {\n",
              "        vertical-align: middle;\n",
              "    }\n",
              "\n",
              "    .dataframe tbody tr th {\n",
              "        vertical-align: top;\n",
              "    }\n",
              "\n",
              "    .dataframe thead th {\n",
              "        text-align: right;\n",
              "    }\n",
              "</style>\n",
              "<table border=\"1\" class=\"dataframe\">\n",
              "  <thead>\n",
              "    <tr style=\"text-align: right;\">\n",
              "      <th></th>\n",
              "      <th>long</th>\n",
              "      <th>prediction</th>\n",
              "      <th>original</th>\n",
              "      <th>bleu</th>\n",
              "      <th>rouge_1</th>\n",
              "      <th>rouge_2</th>\n",
              "      <th>rouge_l</th>\n",
              "    </tr>\n",
              "  </thead>\n",
              "  <tbody>\n",
              "    <tr>\n",
              "      <th>4990</th>\n",
              "      <td>'manikarnika the queen of jhansi' co director krish while speaking about kangana ranaut's claim that she directed 70 of the film said it's bulls t in the first half of manikarnika 20 25 film has b...</td>\n",
              "      <td>kangana is the of the director of kangana</td>\n",
              "      <td>bulls t on kangana's claim of directing 70 of manikarnika</td>\n",
              "      <td>0.550695</td>\n",
              "      <td>{'f': 0.22222221728395072, 'p': 0.25, 'r': 0.2}</td>\n",
              "      <td>{'f': 0.0, 'p': 0.0, 'r': 0.0}</td>\n",
              "      <td>{'f': 0.14285713826530627, 'p': 0.2, 'r': 0.1111111111111111}</td>\n",
              "    </tr>\n",
              "    <tr>\n",
              "      <th>4991</th>\n",
              "      <td>anushka sharma retweeted a picture shared by former australian cricketer brett lee featuring herself lee and her 'sui dhaaga' co star varun dhawan alongside the picture anushka shared a dialogue f...</td>\n",
              "      <td>anushka shares pic of his birthday</td>\n",
              "      <td>anushka sharma tweets dialogue to brett lee</td>\n",
              "      <td>0.540854</td>\n",
              "      <td>{'f': 0.1538461488757398, 'p': 0.16666666666666666, 'r': 0.14285714285714285}</td>\n",
              "      <td>{'f': 0.0, 'p': 0.0, 'r': 0.0}</td>\n",
              "      <td>{'f': 0.1538461488757398, 'p': 0.16666666666666666, 'r': 0.14285714285714285}</td>\n",
              "    </tr>\n",
              "    <tr>\n",
              "      <th>4992</th>\n",
              "      <td>a 13 year old german boy handed out 11 000 over â¹7 lakh to his peers in an effort to make friends according to reports police in received a call saying a young boy was giving away suspiciously l...</td>\n",
              "      <td>man spends â¹2 5 lakh for not paying for money to get</td>\n",
              "      <td>13 year old german boy distributes â¹7 lakh to make friends</td>\n",
              "      <td>0.638943</td>\n",
              "      <td>{'f': 0.1739130384877128, 'p': 0.16666666666666666, 'r': 0.18181818181818182}</td>\n",
              "      <td>{'f': 0.0, 'p': 0.0, 'r': 0.0}</td>\n",
              "      <td>{'f': 0.18181817681818196, 'p': 0.18181818181818182, 'r': 0.18181818181818182}</td>\n",
              "    </tr>\n",
              "    <tr>\n",
              "      <th>4993</th>\n",
              "      <td>a local congress leader was shot dead and his son critically injured outside their home by nearly a dozen armed assailants at a village madhya pradesh a police official said on monday the police h...</td>\n",
              "      <td>congress leader shot dead by mob in madhya pradesh</td>\n",
              "      <td>congress leader shot dead in mp sarpanch among 12 booked</td>\n",
              "      <td>0.282410</td>\n",
              "      <td>{'f': 0.5263157844875347, 'p': 0.5555555555555556, 'r': 0.5}</td>\n",
              "      <td>{'f': 0.35294117148788934, 'p': 0.375, 'r': 0.3333333333333333}</td>\n",
              "      <td>{'f': 0.5263157844875347, 'p': 0.5555555555555556, 'r': 0.5}</td>\n",
              "    </tr>\n",
              "    <tr>\n",
              "      <th>4994</th>\n",
              "      <td>a court in mumbai has convicted gangster chhota rajan and nine others for the murder of journalist dey in 2011 two others accused in the case including journalist vora have been acquitted rajan wa...</td>\n",
              "      <td>mumbai court gets life term for murder of journalist</td>\n",
              "      <td>gangster chhota rajan convicted in 2011 journo murder case</td>\n",
              "      <td>0.577350</td>\n",
              "      <td>{'f': 0.11111110611111134, 'p': 0.1111111111111111, 'r': 0.1111111111111111}</td>\n",
              "      <td>{'f': 0.0, 'p': 0.0, 'r': 0.0}</td>\n",
              "      <td>{'f': 0.11111110611111134, 'p': 0.1111111111111111, 'r': 0.1111111111111111}</td>\n",
              "    </tr>\n",
              "    <tr>\n",
              "      <th>4995</th>\n",
              "      <td>journalist barkha dutt while responding to censor board's decision to edit out from her name in the film 'noor' tweeted barkha without the dutt dear censor board is kinda like minus channa i am a ...</td>\n",
              "      <td>cbfc to make new film to play padmavati</td>\n",
              "      <td>barkha without dutt like barkha to cbfc</td>\n",
              "      <td>0.707107</td>\n",
              "      <td>{'f': 0.266666661688889, 'p': 0.25, 'r': 0.2857142857142857}</td>\n",
              "      <td>{'f': 0.0, 'p': 0.0, 'r': 0.0}</td>\n",
              "      <td>{'f': 0.1538461488757398, 'p': 0.14285714285714285, 'r': 0.16666666666666666}</td>\n",
              "    </tr>\n",
              "    <tr>\n",
              "      <th>4996</th>\n",
              "      <td>actor turned politician kamal haasan has said he somehow supports congress president rahul gandhi over his remark that he would have thrown the file proposing demonetisation into a dustbin if he w...</td>\n",
              "      <td>rahul gandhi is not a dig at rahul haasan</td>\n",
              "      <td>haasan supports rahul on in remark</td>\n",
              "      <td>0.686589</td>\n",
              "      <td>{'f': 0.2666666618666667, 'p': 0.2222222222222222, 'r': 0.3333333333333333}</td>\n",
              "      <td>{'f': 0.0, 'p': 0.0, 'r': 0.0}</td>\n",
              "      <td>{'f': 0.14285713795918387, 'p': 0.125, 'r': 0.16666666666666666}</td>\n",
              "    </tr>\n",
              "    <tr>\n",
              "      <th>4997</th>\n",
              "      <td>a daily worker who recently built his house with his savings in an odisha village found it infested with over 100 baby on friday the snake helpline ngo was called which said we are still looking f...</td>\n",
              "      <td>man who went to save baby in gujarat village</td>\n",
              "      <td>odisha worker finds house filled with over 100 baby</td>\n",
              "      <td>0.577350</td>\n",
              "      <td>{'f': 0.11111110611111134, 'p': 0.1111111111111111, 'r': 0.1111111111111111}</td>\n",
              "      <td>{'f': 0.0, 'p': 0.0, 'r': 0.0}</td>\n",
              "      <td>{'f': 0.11111110611111134, 'p': 0.1111111111111111, 'r': 0.1111111111111111}</td>\n",
              "    </tr>\n",
              "    <tr>\n",
              "      <th>4998</th>\n",
              "      <td>congratulating 18 year old hima das who became the first ever indian to win track gold in a world championship shah rukh khan tweeted felt a genuine wave of pride inspiration what an amazing athle...</td>\n",
              "      <td>i don't know what i am the world world cup winner</td>\n",
              "      <td>hima das kya baat hai srk on gold win at a world championship</td>\n",
              "      <td>0.457814</td>\n",
              "      <td>{'f': 0.08333332836805586, 'p': 0.09090909090909091, 'r': 0.07692307692307693}</td>\n",
              "      <td>{'f': 0.0, 'p': 0.0, 'r': 0.0}</td>\n",
              "      <td>{'f': 0.09090908607438043, 'p': 0.1111111111111111, 'r': 0.07692307692307693}</td>\n",
              "    </tr>\n",
              "    <tr>\n",
              "      <th>4999</th>\n",
              "      <td>a new resort perched on a an exposed hill surrounded by a glacier is set to open at the national park next month the sheldon has five guest rooms and an observation deck but no cell coverage or in...</td>\n",
              "      <td>new york to open its first ever hotel</td>\n",
              "      <td>new luxury hotel to open in the middle of glacier</td>\n",
              "      <td>0.402619</td>\n",
              "      <td>{'f': 0.4444444395061729, 'p': 0.5, 'r': 0.4}</td>\n",
              "      <td>{'f': 0.12499999507812519, 'p': 0.14285714285714285, 'r': 0.1111111111111111}</td>\n",
              "      <td>{'f': 0.33333332839506175, 'p': 0.375, 'r': 0.3}</td>\n",
              "    </tr>\n",
              "  </tbody>\n",
              "</table>\n",
              "</div>"
            ],
            "text/plain": [
              "                                                                                                                                                                                                         long  ...                                                                         rouge_l\n",
              "4990  'manikarnika the queen of jhansi' co director krish while speaking about kangana ranaut's claim that she directed 70 of the film said it's bulls t in the first half of manikarnika 20 25 film has b...  ...                   {'f': 0.14285713826530627, 'p': 0.2, 'r': 0.1111111111111111}\n",
              "4991  anushka sharma retweeted a picture shared by former australian cricketer brett lee featuring herself lee and her 'sui dhaaga' co star varun dhawan alongside the picture anushka shared a dialogue f...  ...   {'f': 0.1538461488757398, 'p': 0.16666666666666666, 'r': 0.14285714285714285}\n",
              "4992  a 13 year old german boy handed out 11 000 over â¹7 lakh to his peers in an effort to make friends according to reports police in received a call saying a young boy was giving away suspiciously l...  ...  {'f': 0.18181817681818196, 'p': 0.18181818181818182, 'r': 0.18181818181818182}\n",
              "4993  a local congress leader was shot dead and his son critically injured outside their home by nearly a dozen armed assailants at a village madhya pradesh a police official said on monday the police h...  ...                    {'f': 0.5263157844875347, 'p': 0.5555555555555556, 'r': 0.5}\n",
              "4994  a court in mumbai has convicted gangster chhota rajan and nine others for the murder of journalist dey in 2011 two others accused in the case including journalist vora have been acquitted rajan wa...  ...    {'f': 0.11111110611111134, 'p': 0.1111111111111111, 'r': 0.1111111111111111}\n",
              "4995  journalist barkha dutt while responding to censor board's decision to edit out from her name in the film 'noor' tweeted barkha without the dutt dear censor board is kinda like minus channa i am a ...  ...   {'f': 0.1538461488757398, 'p': 0.14285714285714285, 'r': 0.16666666666666666}\n",
              "4996  actor turned politician kamal haasan has said he somehow supports congress president rahul gandhi over his remark that he would have thrown the file proposing demonetisation into a dustbin if he w...  ...                {'f': 0.14285713795918387, 'p': 0.125, 'r': 0.16666666666666666}\n",
              "4997  a daily worker who recently built his house with his savings in an odisha village found it infested with over 100 baby on friday the snake helpline ngo was called which said we are still looking f...  ...    {'f': 0.11111110611111134, 'p': 0.1111111111111111, 'r': 0.1111111111111111}\n",
              "4998  congratulating 18 year old hima das who became the first ever indian to win track gold in a world championship shah rukh khan tweeted felt a genuine wave of pride inspiration what an amazing athle...  ...   {'f': 0.09090908607438043, 'p': 0.1111111111111111, 'r': 0.07692307692307693}\n",
              "4999  a new resort perched on a an exposed hill surrounded by a glacier is set to open at the national park next month the sheldon has five guest rooms and an observation deck but no cell coverage or in...  ...                                {'f': 0.33333332839506175, 'p': 0.375, 'r': 0.3}\n",
              "\n",
              "[10 rows x 7 columns]"
            ]
          },
          "metadata": {
            "tags": []
          },
          "execution_count": 104
        }
      ]
    },
    {
      "cell_type": "code",
      "metadata": {
        "id": "5vnyp2qjwpK7",
        "colab": {
          "base_uri": "https://localhost:8080/"
        },
        "outputId": "e0027f0b-a214-42a2-a406-4a5fa98d55e0"
      },
      "source": [
        "\n",
        "for i in range(4990,5000):\n",
        "    print(\"Review:\",seq2text(x_val[i]))\n",
        "    print(\"Original summary:\",seq2summary(y_val[i]))\n",
        "    print(\"Predicted summary:\",decode_sequence(x_val[i].reshape(1,200)))\n",
        "    print('BLEU score -> {}'.format(sentence_bleu([seq2summary(y_val[i]).split()], decode_sequence(x_val[i].reshape(1,200)).split())))\n",
        "    print(rouge.get_scores(decode_sequence(x_val[i].reshape(1,200)), seq2summary(y_val[i])))\n",
        "    print(type(rouge.get_scores(decode_sequence(x_val[i].reshape(1,200)), seq2summary(y_val[i]))))\n",
        "    print(\"\\n\")"
      ],
      "execution_count": null,
      "outputs": [
        {
          "output_type": "stream",
          "text": [
            "Review: 'manikarnika the queen of jhansi' co director krish while speaking about kangana ranaut's claim that she directed 70 of the film said it's bulls t in the first half of manikarnika 20 25 film has been shot by kangana while in the second half only 10 is shot by her he claimed krish further said he is hurt by the controversy \n",
            "Original summary: bulls t on kangana's claim of directing 70 of manikarnika \n",
            "Predicted summary:  kangana is the of the director of kangana\n",
            "BLEU score -> 0.5506953149031838\n",
            "[{'rouge-1': {'f': 0.22222221728395072, 'p': 0.25, 'r': 0.2}, 'rouge-2': {'f': 0.0, 'p': 0.0, 'r': 0.0}, 'rouge-l': {'f': 0.14285713826530627, 'p': 0.2, 'r': 0.1111111111111111}}]\n",
            "<class 'list'>\n",
            "\n",
            "\n",
            "Review: anushka sharma retweeted a picture shared by former australian cricketer brett lee featuring herself lee and her 'sui dhaaga' co star varun dhawan alongside the picture anushka shared a dialogue from 'lagaan' writing brett lee always remember ki bhi moti ho zaroor hai ' the phrase translates to however thick a sole is it wears out \n",
            "Original summary: anushka sharma tweets dialogue to brett lee \n",
            "Predicted summary:  anushka shares pic of his birthday\n",
            "BLEU score -> 0.5408536609893481\n",
            "[{'rouge-1': {'f': 0.1538461488757398, 'p': 0.16666666666666666, 'r': 0.14285714285714285}, 'rouge-2': {'f': 0.0, 'p': 0.0, 'r': 0.0}, 'rouge-l': {'f': 0.1538461488757398, 'p': 0.16666666666666666, 'r': 0.14285714285714285}}]\n",
            "<class 'list'>\n",
            "\n",
            "\n",
            "Review: a 13 year old german boy handed out 11 000 over â¹7 lakh to his peers in an effort to make friends according to reports police in received a call saying a young boy was giving away suspiciously large amounts of money up to 2 each to children his age the boy said he secretly stole the money from his house \n",
            "Original summary: 13 year old german boy distributes â¹7 lakh to make friends \n",
            "Predicted summary:  man spends â¹2 5 lakh for not paying for money to get\n",
            "BLEU score -> 0.6389431042462724\n",
            "[{'rouge-1': {'f': 0.1739130384877128, 'p': 0.16666666666666666, 'r': 0.18181818181818182}, 'rouge-2': {'f': 0.0, 'p': 0.0, 'r': 0.0}, 'rouge-l': {'f': 0.18181817681818196, 'p': 0.18181818181818182, 'r': 0.18181818181818182}}]\n",
            "<class 'list'>\n",
            "\n",
            "\n",
            "Review: a local congress leader was shot dead and his son critically injured outside their home by nearly a dozen armed assailants at a village madhya pradesh a police official said on monday the police have booked 12 people including village sarpanch singh for the attack and charged them with murder and attempt to murder \n",
            "Original summary: congress leader shot dead in mp sarpanch among 12 booked \n",
            "Predicted summary:  congress leader shot dead by mob in madhya pradesh\n",
            "BLEU score -> 0.2824099048856541\n",
            "[{'rouge-1': {'f': 0.5263157844875347, 'p': 0.5555555555555556, 'r': 0.5}, 'rouge-2': {'f': 0.35294117148788934, 'p': 0.375, 'r': 0.3333333333333333}, 'rouge-l': {'f': 0.5263157844875347, 'p': 0.5555555555555556, 'r': 0.5}}]\n",
            "<class 'list'>\n",
            "\n",
            "\n",
            "Review: a court in mumbai has convicted gangster chhota rajan and nine others for the murder of journalist dey in 2011 two others accused in the case including journalist vora have been acquitted rajan was reportedly angry with dey over some articles he had written about rajan and for planning a book portraying the gangster as a petty criminal \n",
            "Original summary: gangster chhota rajan convicted in 2011 journo murder case \n",
            "Predicted summary:  mumbai court gets life term for murder of journalist\n",
            "BLEU score -> 0.5773502691896257\n",
            "[{'rouge-1': {'f': 0.11111110611111134, 'p': 0.1111111111111111, 'r': 0.1111111111111111}, 'rouge-2': {'f': 0.0, 'p': 0.0, 'r': 0.0}, 'rouge-l': {'f': 0.11111110611111134, 'p': 0.1111111111111111, 'r': 0.1111111111111111}}]\n",
            "<class 'list'>\n",
            "\n",
            "\n",
            "Review: journalist barkha dutt while responding to censor board's decision to edit out from her name in the film 'noor' tweeted barkha without the dutt dear censor board is kinda like minus channa i am a public person after all rather whimsical i think to now make my name a subject of censorship she added \n",
            "Original summary: barkha without dutt like barkha to cbfc \n",
            "Predicted summary:  cbfc to make new film to play padmavati\n",
            "BLEU score -> 0.7071067811865476\n",
            "[{'rouge-1': {'f': 0.266666661688889, 'p': 0.25, 'r': 0.2857142857142857}, 'rouge-2': {'f': 0.0, 'p': 0.0, 'r': 0.0}, 'rouge-l': {'f': 0.1538461488757398, 'p': 0.14285714285714285, 'r': 0.16666666666666666}}]\n",
            "<class 'list'>\n",
            "\n",
            "\n",
            "Review: actor turned politician kamal haasan has said he somehow supports congress president rahul gandhi over his remark that he would have thrown the file proposing demonetisation into a dustbin if he was the prime minister haasan also denied rumours that he was funded by christian missionaries saying that he can only laugh about it as it is not even a sensible argument \n",
            "Original summary: haasan supports rahul on in remark \n",
            "Predicted summary:  rahul gandhi is not a dig at rahul haasan\n",
            "BLEU score -> 0.6865890479690392\n",
            "[{'rouge-1': {'f': 0.2666666618666667, 'p': 0.2222222222222222, 'r': 0.3333333333333333}, 'rouge-2': {'f': 0.0, 'p': 0.0, 'r': 0.0}, 'rouge-l': {'f': 0.14285713795918387, 'p': 0.125, 'r': 0.16666666666666666}}]\n",
            "<class 'list'>\n",
            "\n",
            "\n",
            "Review: a daily worker who recently built his house with his savings in an odisha village found it infested with over 100 baby on friday the snake helpline ngo was called which said we are still looking for the mother cobra notably deaths account for about 37 of the total number of disaster deaths in odisha \n",
            "Original summary: odisha worker finds house filled with over 100 baby \n",
            "Predicted summary:  man who went to save baby in gujarat village\n",
            "BLEU score -> 0.5773502691896257\n",
            "[{'rouge-1': {'f': 0.11111110611111134, 'p': 0.1111111111111111, 'r': 0.1111111111111111}, 'rouge-2': {'f': 0.0, 'p': 0.0, 'r': 0.0}, 'rouge-l': {'f': 0.11111110611111134, 'p': 0.1111111111111111, 'r': 0.1111111111111111}}]\n",
            "<class 'list'>\n",
            "\n",
            "\n",
            "Review: congratulating 18 year old hima das who became the first ever indian to win track gold in a world championship shah rukh khan tweeted felt a genuine wave of pride inspiration what an amazing athlete you are kya baat hai meanwhile amitabh bachchan tweeted india is proud of you you have given us reason to hold up our heads high jai hind \n",
            "Original summary: hima das kya baat hai srk on gold win at a world championship \n",
            "Predicted summary:  i don't know what i am the world world cup winner\n",
            "BLEU score -> 0.4578141331660858\n",
            "[{'rouge-1': {'f': 0.08333332836805586, 'p': 0.09090909090909091, 'r': 0.07692307692307693}, 'rouge-2': {'f': 0.0, 'p': 0.0, 'r': 0.0}, 'rouge-l': {'f': 0.09090908607438043, 'p': 0.1111111111111111, 'r': 0.07692307692307693}}]\n",
            "<class 'list'>\n",
            "\n",
            "\n",
            "Review: a new resort perched on a an exposed hill surrounded by a glacier is set to open at the national park next month the sheldon has five guest rooms and an observation deck but no cell coverage or internet service guests will be served locally sourced meals like alaska king crab and copper river salmon \n",
            "Original summary: new luxury hotel to open in the middle of glacier \n",
            "Predicted summary:  new york to open its first ever hotel\n",
            "BLEU score -> 0.4026190971287384\n",
            "[{'rouge-1': {'f': 0.4444444395061729, 'p': 0.5, 'r': 0.4}, 'rouge-2': {'f': 0.12499999507812519, 'p': 0.14285714285714285, 'r': 0.1111111111111111}, 'rouge-l': {'f': 0.33333332839506175, 'p': 0.375, 'r': 0.3}}]\n",
            "<class 'list'>\n",
            "\n",
            "\n"
          ],
          "name": "stdout"
        }
      ]
    }
  ]
}