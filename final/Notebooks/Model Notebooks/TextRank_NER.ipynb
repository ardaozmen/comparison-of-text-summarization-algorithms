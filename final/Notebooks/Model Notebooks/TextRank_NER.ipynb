{
  "nbformat": 4,
  "nbformat_minor": 0,
  "metadata": {
    "colab": {
      "name": "TextRank_NER.ipynb",
      "provenance": [],
      "collapsed_sections": []
    },
    "kernelspec": {
      "name": "python3",
      "display_name": "Python 3"
    },
    "language_info": {
      "name": "python"
    }
  },
  "cells": [
    {
      "cell_type": "markdown",
      "metadata": {
        "id": "pEbe4Iaqptpv"
      },
      "source": [
        "# **TextRank NER Implementation**\n",
        "\n",
        "Reference Source: https://spacy.io/usage/linguistic-features#named-entities"
      ]
    },
    {
      "cell_type": "code",
      "metadata": {
        "id": "gumB3RdczRpa"
      },
      "source": [
        "#Textrank Algorithm\n",
        "import networkx as nx\n",
        "import numpy as np\n",
        "from nltk.tokenize.punkt import PunktSentenceTokenizer\n",
        "from sklearn.feature_extraction.text import TfidfTransformer, CountVectorizer\n",
        "\n",
        "def textrank(document):\n",
        "\n",
        "    sentence_tokenizer = PunktSentenceTokenizer()\n",
        "    sentences = sentence_tokenizer.tokenize(document)\n",
        " \n",
        "    bow_matrix = CountVectorizer().fit_transform(sentences)\n",
        "    normalized = TfidfTransformer().fit_transform(bow_matrix)\n",
        " \n",
        "    similarity_graph = normalized * normalized.T\n",
        " \n",
        "    nx_graph = nx.from_scipy_sparse_matrix(similarity_graph)\n",
        "    scores = nx.pagerank(nx_graph)\n",
        "    ranked = sorted(((scores[i],s) for i,s in enumerate(sentences)), reverse=True)\n",
        "    temp = dict(ranked)\n",
        "    select_rank = [a_tuple[0] for a_tuple in ranked] \n",
        "    \n",
        "    if len(ranked) == 1:\n",
        "      res = [temp.get(t, 0) for t in select_rank[:1]]\n",
        "      summary = ' '.join([str(elem) for elem in res])\n",
        "    \n",
        "    elif len(ranked) <= 5:\n",
        "      res = [temp.get(t, 0) for t in select_rank[:int(len(select_rank)/2)]]\n",
        "      summary = ' '.join([str(elem) for elem in res])\n",
        "    \n",
        "    else:\n",
        "      \n",
        "      res = [temp.get(t, 0) for t in select_rank[:5]]\n",
        "      summary = ' '.join([str(elem) for elem in res])\n",
        "       \n",
        "    return summary"
      ],
      "execution_count": null,
      "outputs": []
    },
    {
      "cell_type": "code",
      "metadata": {
        "id": "CPWW6TW53js6"
      },
      "source": [
        "txt = \"\"\"\n",
        "After the sound and the fury, weeks of demonstrations and anguished calls for racial justice, the man whose death gave rise to an international movement, and whose last words — “I can’t breathe” — have been a rallying cry, will be laid to rest on Tuesday at a private funeral in Houston.George Floyd, who was 46, will then be buried in a grave next to his mother’s.The service, scheduled to begin at 11 a.m. at the Fountain of Praise church, comes after five days of public memorials in Minneapolis, North Carolina and Houston and two weeks after a Minneapolis police officer was caught on video pressing his knee into Mr. Floyd’s neck for nearly nine minutes before Mr. Floyd died. That officer, Derek Chauvin, has been charged with second-degree murder and second-degree manslaughter. His bail was set at $1.25 million in a court appearance on Monday. The outpouring of anger and outrage after Mr. Floyd’s death — and the speed at which protests spread from tense, chaotic demonstrations in the city where he died to an international movement from Rome to Rio de Janeiro — has reflected the depth of frustration borne of years of watching black people die at the hands of the police or vigilantes while calls for change went unmet.\n",
        "\"\"\""
      ],
      "execution_count": null,
      "outputs": []
    },
    {
      "cell_type": "code",
      "metadata": {
        "colab": {
          "base_uri": "https://localhost:8080/",
          "height": 121
        },
        "id": "BIwIBRWX3ecC",
        "outputId": "856b09e5-32b5-47b0-d045-be1b2494227d"
      },
      "source": [
        "textrank(txt)"
      ],
      "execution_count": null,
      "outputs": [
        {
          "output_type": "execute_result",
          "data": {
            "application/vnd.google.colaboratory.intrinsic+json": {
              "type": "string"
            },
            "text/plain": [
              "'Floyd’s death — and the speed at which protests spread from tense, chaotic demonstrations in the city where he died to an international movement from Rome to Rio de Janeiro — has reflected the depth of frustration borne of years of watching black people die at the hands of the police or vigilantes while calls for change went unmet. \\nAfter the sound and the fury, weeks of demonstrations and anguished calls for racial justice, the man whose death gave rise to an international movement, and whose last words — “I can’t breathe” — have been a rallying cry, will be laid to rest on Tuesday at a private funeral in Houston.George Floyd, who was 46, will then be buried in a grave next to his mother’s.The service, scheduled to begin at 11 a.m. at the Fountain of Praise church, comes after five days of public memorials in Minneapolis, North Carolina and Houston and two weeks after a Minneapolis police officer was caught on video pressing his knee into Mr. The outpouring of anger and outrage after Mr. Floyd’s neck for nearly nine minutes before Mr.'"
            ]
          },
          "metadata": {
            "tags": []
          },
          "execution_count": 3
        }
      ]
    },
    {
      "cell_type": "markdown",
      "metadata": {
        "id": "0ABJMcl_2tvR"
      },
      "source": [
        "# **Applying Spacy for summaries in English**"
      ]
    },
    {
      "cell_type": "code",
      "metadata": {
        "id": "Vawcd9ha15in"
      },
      "source": [
        "import spacy\n",
        "\n",
        "nlp = spacy.load(\"en\")\n",
        "# POS Tagging\n",
        "def pos(sent):\n",
        "    se=nlp(sent)\n",
        "    for word in se:\n",
        "        print(word,word.pos_)"
      ],
      "execution_count": null,
      "outputs": []
    },
    {
      "cell_type": "code",
      "metadata": {
        "id": "S6XpduDN2oEn"
      },
      "source": [
        "from spacy.lang.en import English\n",
        "\n",
        "# Load English tokenizer, tagger, parser, NER and word vectors\n",
        "nlp = English()\n",
        "\n",
        "text = textrank(txt)\n",
        "\n",
        "my_doc = nlp(text)"
      ],
      "execution_count": null,
      "outputs": []
    },
    {
      "cell_type": "code",
      "metadata": {
        "colab": {
          "base_uri": "https://localhost:8080/"
        },
        "id": "iNAUz4rr3vTw",
        "outputId": "33b07d90-9851-4c16-a5a1-b2ea13ab23d4"
      },
      "source": [
        "# Create list of word tokens\n",
        "token_list = []\n",
        "for token in my_doc:\n",
        "    token_list.append(token.text)\n",
        "print(token_list)"
      ],
      "execution_count": null,
      "outputs": [
        {
          "output_type": "stream",
          "text": [
            "['Floyd', '’s', 'death', '—', 'and', 'the', 'speed', 'at', 'which', 'protests', 'spread', 'from', 'tense', ',', 'chaotic', 'demonstrations', 'in', 'the', 'city', 'where', 'he', 'died', 'to', 'an', 'international', 'movement', 'from', 'Rome', 'to', 'Rio', 'de', 'Janeiro', '—', 'has', 'reflected', 'the', 'depth', 'of', 'frustration', 'borne', 'of', 'years', 'of', 'watching', 'black', 'people', 'die', 'at', 'the', 'hands', 'of', 'the', 'police', 'or', 'vigilantes', 'while', 'calls', 'for', 'change', 'went', 'unmet', '.', '\\n', 'After', 'the', 'sound', 'and', 'the', 'fury', ',', 'weeks', 'of', 'demonstrations', 'and', 'anguished', 'calls', 'for', 'racial', 'justice', ',', 'the', 'man', 'whose', 'death', 'gave', 'rise', 'to', 'an', 'international', 'movement', ',', 'and', 'whose', 'last', 'words', '—', '“', 'I', 'ca', 'n’t', 'breathe', '”', '—', 'have', 'been', 'a', 'rallying', 'cry', ',', 'will', 'be', 'laid', 'to', 'rest', 'on', 'Tuesday', 'at', 'a', 'private', 'funeral', 'in', 'Houston', '.', 'George', 'Floyd', ',', 'who', 'was', '46', ',', 'will', 'then', 'be', 'buried', 'in', 'a', 'grave', 'next', 'to', 'his', 'mother’s', '.', 'The', 'service', ',', 'scheduled', 'to', 'begin', 'at', '11', 'a.m.', 'at', 'the', 'Fountain', 'of', 'Praise', 'church', ',', 'comes', 'after', 'five', 'days', 'of', 'public', 'memorials', 'in', 'Minneapolis', ',', 'North', 'Carolina', 'and', 'Houston', 'and', 'two', 'weeks', 'after', 'a', 'Minneapolis', 'police', 'officer', 'was', 'caught', 'on', 'video', 'pressing', 'his', 'knee', 'into', 'Mr.', 'The', 'outpouring', 'of', 'anger', 'and', 'outrage', 'after', 'Mr.', 'Floyd', '’s', 'neck', 'for', 'nearly', 'nine', 'minutes', 'before', 'Mr.']\n"
          ],
          "name": "stdout"
        }
      ]
    },
    {
      "cell_type": "code",
      "metadata": {
        "id": "2hZxxi6p4EGg"
      },
      "source": [
        "import en_core_web_sm\n",
        "\n",
        "# load en_core_web_sm of English for vocabulary, syntax & entities\n",
        "nlp = en_core_web_sm.load()\n",
        "\n",
        "#  \"nlp\" Objectis used to create documents with linguistic annotations.\n",
        "docs = nlp(text)"
      ],
      "execution_count": null,
      "outputs": []
    },
    {
      "cell_type": "code",
      "metadata": {
        "colab": {
          "base_uri": "https://localhost:8080/"
        },
        "id": "5HsutMGs4NNy",
        "outputId": "79651fc0-3d18-416e-9ede-eb2673acdbc2"
      },
      "source": [
        "# See the Pos tagging words\n",
        "for word in docs:\n",
        "    print(word.text,word.pos_)"
      ],
      "execution_count": null,
      "outputs": [
        {
          "output_type": "stream",
          "text": [
            "Floyd PROPN\n",
            "’s PART\n",
            "death NOUN\n",
            "— PUNCT\n",
            "and CCONJ\n",
            "the DET\n",
            "speed NOUN\n",
            "at ADP\n",
            "which DET\n",
            "protests NOUN\n",
            "spread VERB\n",
            "from ADP\n",
            "tense ADJ\n",
            ", PUNCT\n",
            "chaotic ADJ\n",
            "demonstrations NOUN\n",
            "in ADP\n",
            "the DET\n",
            "city NOUN\n",
            "where ADV\n",
            "he PRON\n",
            "died VERB\n",
            "to ADP\n",
            "an DET\n",
            "international ADJ\n",
            "movement NOUN\n",
            "from ADP\n",
            "Rome PROPN\n",
            "to ADP\n",
            "Rio PROPN\n",
            "de PROPN\n",
            "Janeiro PROPN\n",
            "— PUNCT\n",
            "has AUX\n",
            "reflected VERB\n",
            "the DET\n",
            "depth NOUN\n",
            "of ADP\n",
            "frustration NOUN\n",
            "borne NOUN\n",
            "of ADP\n",
            "years NOUN\n",
            "of ADP\n",
            "watching VERB\n",
            "black ADJ\n",
            "people NOUN\n",
            "die VERB\n",
            "at ADP\n",
            "the DET\n",
            "hands NOUN\n",
            "of ADP\n",
            "the DET\n",
            "police NOUN\n",
            "or CCONJ\n",
            "vigilantes VERB\n",
            "while SCONJ\n",
            "calls NOUN\n",
            "for ADP\n",
            "change NOUN\n",
            "went VERB\n",
            "unmet ADJ\n",
            ". PUNCT\n",
            "\n",
            " SPACE\n",
            "After ADP\n",
            "the DET\n",
            "sound NOUN\n",
            "and CCONJ\n",
            "the DET\n",
            "fury NOUN\n",
            ", PUNCT\n",
            "weeks NOUN\n",
            "of ADP\n",
            "demonstrations NOUN\n",
            "and CCONJ\n",
            "anguished VERB\n",
            "calls NOUN\n",
            "for ADP\n",
            "racial ADJ\n",
            "justice NOUN\n",
            ", PUNCT\n",
            "the DET\n",
            "man NOUN\n",
            "whose DET\n",
            "death NOUN\n",
            "gave VERB\n",
            "rise NOUN\n",
            "to ADP\n",
            "an DET\n",
            "international ADJ\n",
            "movement NOUN\n",
            ", PUNCT\n",
            "and CCONJ\n",
            "whose DET\n",
            "last ADJ\n",
            "words NOUN\n",
            "— PUNCT\n",
            "“ PUNCT\n",
            "I PRON\n",
            "ca VERB\n",
            "n’t PART\n",
            "breathe VERB\n",
            "” PUNCT\n",
            "— PUNCT\n",
            "have AUX\n",
            "been AUX\n",
            "a DET\n",
            "rallying NOUN\n",
            "cry NOUN\n",
            ", PUNCT\n",
            "will VERB\n",
            "be AUX\n",
            "laid VERB\n",
            "to ADP\n",
            "rest NOUN\n",
            "on ADP\n",
            "Tuesday PROPN\n",
            "at ADP\n",
            "a DET\n",
            "private ADJ\n",
            "funeral NOUN\n",
            "in ADP\n",
            "Houston PROPN\n",
            ". PUNCT\n",
            "George PROPN\n",
            "Floyd PROPN\n",
            ", PUNCT\n",
            "who PRON\n",
            "was AUX\n",
            "46 NUM\n",
            ", PUNCT\n",
            "will VERB\n",
            "then ADV\n",
            "be AUX\n",
            "buried VERB\n",
            "in ADP\n",
            "a DET\n",
            "grave NOUN\n",
            "next ADV\n",
            "to ADP\n",
            "his DET\n",
            "mother’s NOUN\n",
            ". PUNCT\n",
            "The DET\n",
            "service NOUN\n",
            ", PUNCT\n",
            "scheduled VERB\n",
            "to PART\n",
            "begin VERB\n",
            "at ADP\n",
            "11 NUM\n",
            "a.m. NOUN\n",
            "at ADP\n",
            "the DET\n",
            "Fountain PROPN\n",
            "of ADP\n",
            "Praise PROPN\n",
            "church NOUN\n",
            ", PUNCT\n",
            "comes VERB\n",
            "after ADP\n",
            "five NUM\n",
            "days NOUN\n",
            "of ADP\n",
            "public ADJ\n",
            "memorials NOUN\n",
            "in ADP\n",
            "Minneapolis PROPN\n",
            ", PUNCT\n",
            "North PROPN\n",
            "Carolina PROPN\n",
            "and CCONJ\n",
            "Houston PROPN\n",
            "and CCONJ\n",
            "two NUM\n",
            "weeks NOUN\n",
            "after ADP\n",
            "a DET\n",
            "Minneapolis PROPN\n",
            "police NOUN\n",
            "officer NOUN\n",
            "was AUX\n",
            "caught VERB\n",
            "on ADP\n",
            "video NOUN\n",
            "pressing VERB\n",
            "his DET\n",
            "knee NOUN\n",
            "into ADP\n",
            "Mr. PROPN\n",
            "The DET\n",
            "outpouring NOUN\n",
            "of ADP\n",
            "anger NOUN\n",
            "and CCONJ\n",
            "outrage NOUN\n",
            "after ADP\n",
            "Mr. PROPN\n",
            "Floyd PROPN\n",
            "’s PART\n",
            "neck NOUN\n",
            "for ADP\n",
            "nearly ADV\n",
            "nine NUM\n",
            "minutes NOUN\n",
            "before ADP\n",
            "Mr. PROPN\n"
          ],
          "name": "stdout"
        }
      ]
    },
    {
      "cell_type": "code",
      "metadata": {
        "colab": {
          "base_uri": "https://localhost:8080/"
        },
        "id": "WupTzSHo4QjJ",
        "outputId": "4a9af0b3-91a2-4b9b-efe8-ca0d7374cc4e"
      },
      "source": [
        "from spacy import displacy\n",
        "#Accessing entity identifiers\n",
        "nytimes= nlp(text)\n",
        "\n",
        "entities=[(i, i.label_, i.label) for i in nytimes.ents]\n",
        "entities"
      ],
      "execution_count": null,
      "outputs": [
        {
          "output_type": "execute_result",
          "data": {
            "text/plain": [
              "[(Floyd, 'PERSON', 380),\n",
              " (Rome, 'GPE', 384),\n",
              " (Rio de Janeiro, 'GPE', 384),\n",
              " (weeks, 'DATE', 391),\n",
              " (Tuesday, 'DATE', 391),\n",
              " (Houston, 'GPE', 384),\n",
              " (George Floyd, 'PERSON', 380),\n",
              " (46, 'DATE', 391),\n",
              " (11 a.m., 'TIME', 392),\n",
              " (the Fountain of Praise, 'FAC', 9191306739292312949),\n",
              " (five days, 'DATE', 391),\n",
              " (Minneapolis, 'GPE', 384),\n",
              " (North Carolina, 'GPE', 384),\n",
              " (Houston, 'GPE', 384),\n",
              " (two weeks, 'DATE', 391),\n",
              " (Minneapolis, 'GPE', 384),\n",
              " (The, 'PERSON', 380),\n",
              " (Floyd, 'PERSON', 380),\n",
              " (nearly nine minutes, 'TIME', 392)]"
            ]
          },
          "metadata": {
            "tags": []
          },
          "execution_count": 11
        }
      ]
    },
    {
      "cell_type": "code",
      "metadata": {
        "colab": {
          "base_uri": "https://localhost:8080/",
          "height": 280
        },
        "id": "u9B_Sx9M4jZd",
        "outputId": "faa3aef9-67e7-46d4-f2b3-9b182dc3256f"
      },
      "source": [
        "# Since this is an interactive Jupyter environment, we can use displacy.render here\n",
        "displacy.render(nytimes, style = \"ent\",jupyter = True)"
      ],
      "execution_count": null,
      "outputs": [
        {
          "output_type": "display_data",
          "data": {
            "text/html": [
              "<span class=\"tex2jax_ignore\"><div class=\"entities\" style=\"line-height: 2.5; direction: ltr\">\n",
              "<mark class=\"entity\" style=\"background: #aa9cfc; padding: 0.45em 0.6em; margin: 0 0.25em; line-height: 1; border-radius: 0.35em;\">\n",
              "    Floyd\n",
              "    <span style=\"font-size: 0.8em; font-weight: bold; line-height: 1; border-radius: 0.35em; text-transform: uppercase; vertical-align: middle; margin-left: 0.5rem\">PERSON</span>\n",
              "</mark>\n",
              "’s death — and the speed at which protests spread from tense, chaotic demonstrations in the city where he died to an international movement from \n",
              "<mark class=\"entity\" style=\"background: #feca74; padding: 0.45em 0.6em; margin: 0 0.25em; line-height: 1; border-radius: 0.35em;\">\n",
              "    Rome\n",
              "    <span style=\"font-size: 0.8em; font-weight: bold; line-height: 1; border-radius: 0.35em; text-transform: uppercase; vertical-align: middle; margin-left: 0.5rem\">GPE</span>\n",
              "</mark>\n",
              " to \n",
              "<mark class=\"entity\" style=\"background: #feca74; padding: 0.45em 0.6em; margin: 0 0.25em; line-height: 1; border-radius: 0.35em;\">\n",
              "    Rio de Janeiro\n",
              "    <span style=\"font-size: 0.8em; font-weight: bold; line-height: 1; border-radius: 0.35em; text-transform: uppercase; vertical-align: middle; margin-left: 0.5rem\">GPE</span>\n",
              "</mark>\n",
              " — has reflected the depth of frustration borne of years of watching black people die at the hands of the police or vigilantes while calls for change went unmet. </br>After the sound and the fury, \n",
              "<mark class=\"entity\" style=\"background: #bfe1d9; padding: 0.45em 0.6em; margin: 0 0.25em; line-height: 1; border-radius: 0.35em;\">\n",
              "    weeks\n",
              "    <span style=\"font-size: 0.8em; font-weight: bold; line-height: 1; border-radius: 0.35em; text-transform: uppercase; vertical-align: middle; margin-left: 0.5rem\">DATE</span>\n",
              "</mark>\n",
              " of demonstrations and anguished calls for racial justice, the man whose death gave rise to an international movement, and whose last words — “I can’t breathe” — have been a rallying cry, will be laid to rest on \n",
              "<mark class=\"entity\" style=\"background: #bfe1d9; padding: 0.45em 0.6em; margin: 0 0.25em; line-height: 1; border-radius: 0.35em;\">\n",
              "    Tuesday\n",
              "    <span style=\"font-size: 0.8em; font-weight: bold; line-height: 1; border-radius: 0.35em; text-transform: uppercase; vertical-align: middle; margin-left: 0.5rem\">DATE</span>\n",
              "</mark>\n",
              " at a private funeral in \n",
              "<mark class=\"entity\" style=\"background: #feca74; padding: 0.45em 0.6em; margin: 0 0.25em; line-height: 1; border-radius: 0.35em;\">\n",
              "    Houston\n",
              "    <span style=\"font-size: 0.8em; font-weight: bold; line-height: 1; border-radius: 0.35em; text-transform: uppercase; vertical-align: middle; margin-left: 0.5rem\">GPE</span>\n",
              "</mark>\n",
              ".\n",
              "<mark class=\"entity\" style=\"background: #aa9cfc; padding: 0.45em 0.6em; margin: 0 0.25em; line-height: 1; border-radius: 0.35em;\">\n",
              "    George Floyd\n",
              "    <span style=\"font-size: 0.8em; font-weight: bold; line-height: 1; border-radius: 0.35em; text-transform: uppercase; vertical-align: middle; margin-left: 0.5rem\">PERSON</span>\n",
              "</mark>\n",
              ", who was \n",
              "<mark class=\"entity\" style=\"background: #bfe1d9; padding: 0.45em 0.6em; margin: 0 0.25em; line-height: 1; border-radius: 0.35em;\">\n",
              "    46\n",
              "    <span style=\"font-size: 0.8em; font-weight: bold; line-height: 1; border-radius: 0.35em; text-transform: uppercase; vertical-align: middle; margin-left: 0.5rem\">DATE</span>\n",
              "</mark>\n",
              ", will then be buried in a grave next to his mother’s.The service, scheduled to begin at \n",
              "<mark class=\"entity\" style=\"background: #bfe1d9; padding: 0.45em 0.6em; margin: 0 0.25em; line-height: 1; border-radius: 0.35em;\">\n",
              "    11 a.m.\n",
              "    <span style=\"font-size: 0.8em; font-weight: bold; line-height: 1; border-radius: 0.35em; text-transform: uppercase; vertical-align: middle; margin-left: 0.5rem\">TIME</span>\n",
              "</mark>\n",
              " at \n",
              "<mark class=\"entity\" style=\"background: #ddd; padding: 0.45em 0.6em; margin: 0 0.25em; line-height: 1; border-radius: 0.35em;\">\n",
              "    the Fountain of Praise\n",
              "    <span style=\"font-size: 0.8em; font-weight: bold; line-height: 1; border-radius: 0.35em; text-transform: uppercase; vertical-align: middle; margin-left: 0.5rem\">FAC</span>\n",
              "</mark>\n",
              " church, comes after \n",
              "<mark class=\"entity\" style=\"background: #bfe1d9; padding: 0.45em 0.6em; margin: 0 0.25em; line-height: 1; border-radius: 0.35em;\">\n",
              "    five days\n",
              "    <span style=\"font-size: 0.8em; font-weight: bold; line-height: 1; border-radius: 0.35em; text-transform: uppercase; vertical-align: middle; margin-left: 0.5rem\">DATE</span>\n",
              "</mark>\n",
              " of public memorials in \n",
              "<mark class=\"entity\" style=\"background: #feca74; padding: 0.45em 0.6em; margin: 0 0.25em; line-height: 1; border-radius: 0.35em;\">\n",
              "    Minneapolis\n",
              "    <span style=\"font-size: 0.8em; font-weight: bold; line-height: 1; border-radius: 0.35em; text-transform: uppercase; vertical-align: middle; margin-left: 0.5rem\">GPE</span>\n",
              "</mark>\n",
              ", \n",
              "<mark class=\"entity\" style=\"background: #feca74; padding: 0.45em 0.6em; margin: 0 0.25em; line-height: 1; border-radius: 0.35em;\">\n",
              "    North Carolina\n",
              "    <span style=\"font-size: 0.8em; font-weight: bold; line-height: 1; border-radius: 0.35em; text-transform: uppercase; vertical-align: middle; margin-left: 0.5rem\">GPE</span>\n",
              "</mark>\n",
              " and \n",
              "<mark class=\"entity\" style=\"background: #feca74; padding: 0.45em 0.6em; margin: 0 0.25em; line-height: 1; border-radius: 0.35em;\">\n",
              "    Houston\n",
              "    <span style=\"font-size: 0.8em; font-weight: bold; line-height: 1; border-radius: 0.35em; text-transform: uppercase; vertical-align: middle; margin-left: 0.5rem\">GPE</span>\n",
              "</mark>\n",
              " and \n",
              "<mark class=\"entity\" style=\"background: #bfe1d9; padding: 0.45em 0.6em; margin: 0 0.25em; line-height: 1; border-radius: 0.35em;\">\n",
              "    two weeks\n",
              "    <span style=\"font-size: 0.8em; font-weight: bold; line-height: 1; border-radius: 0.35em; text-transform: uppercase; vertical-align: middle; margin-left: 0.5rem\">DATE</span>\n",
              "</mark>\n",
              " after a \n",
              "<mark class=\"entity\" style=\"background: #feca74; padding: 0.45em 0.6em; margin: 0 0.25em; line-height: 1; border-radius: 0.35em;\">\n",
              "    Minneapolis\n",
              "    <span style=\"font-size: 0.8em; font-weight: bold; line-height: 1; border-radius: 0.35em; text-transform: uppercase; vertical-align: middle; margin-left: 0.5rem\">GPE</span>\n",
              "</mark>\n",
              " police officer was caught on video pressing his knee into Mr. \n",
              "<mark class=\"entity\" style=\"background: #aa9cfc; padding: 0.45em 0.6em; margin: 0 0.25em; line-height: 1; border-radius: 0.35em;\">\n",
              "    The\n",
              "    <span style=\"font-size: 0.8em; font-weight: bold; line-height: 1; border-radius: 0.35em; text-transform: uppercase; vertical-align: middle; margin-left: 0.5rem\">PERSON</span>\n",
              "</mark>\n",
              " outpouring of anger and outrage after Mr. \n",
              "<mark class=\"entity\" style=\"background: #aa9cfc; padding: 0.45em 0.6em; margin: 0 0.25em; line-height: 1; border-radius: 0.35em;\">\n",
              "    Floyd\n",
              "    <span style=\"font-size: 0.8em; font-weight: bold; line-height: 1; border-radius: 0.35em; text-transform: uppercase; vertical-align: middle; margin-left: 0.5rem\">PERSON</span>\n",
              "</mark>\n",
              "’s neck for \n",
              "<mark class=\"entity\" style=\"background: #bfe1d9; padding: 0.45em 0.6em; margin: 0 0.25em; line-height: 1; border-radius: 0.35em;\">\n",
              "    nearly nine minutes\n",
              "    <span style=\"font-size: 0.8em; font-weight: bold; line-height: 1; border-radius: 0.35em; text-transform: uppercase; vertical-align: middle; margin-left: 0.5rem\">TIME</span>\n",
              "</mark>\n",
              " before Mr.</div></span>"
            ],
            "text/plain": [
              "<IPython.core.display.HTML object>"
            ]
          },
          "metadata": {
            "tags": []
          }
        }
      ]
    },
    {
      "cell_type": "code",
      "metadata": {
        "id": "yvyWzstn4tY8"
      },
      "source": [
        ""
      ],
      "execution_count": null,
      "outputs": []
    }
  ]
}