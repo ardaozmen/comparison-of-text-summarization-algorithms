{
 "cells": [
  {
   "cell_type": "code",
   "execution_count": 10,
   "metadata": {},
   "outputs": [
    {
     "name": "stdout",
     "output_type": "stream",
     "text": [
      "Loaded Stories 92579\n"
     ]
    }
   ],
   "source": [
    "from os import listdir\n",
    "import string\n",
    "\n",
    "# load doc into memory\n",
    "def load_doc(filename):\n",
    "\t# open the file as read only\n",
    "\tfile = open(filename, encoding='utf-8')\n",
    "\t# read all text\n",
    "\ttext = file.read()\n",
    "\t# close the file\n",
    "\tfile.close()\n",
    "\treturn text\n",
    "\n",
    "# split a document into news story and highlights\n",
    "def split_story(doc):\n",
    "\t# find first highlight\n",
    "\tindex = doc.find('@highlight')\n",
    "\t# split into story and highlights\n",
    "\tstory, highlights = doc[:index], doc[index:].split('@highlight')\n",
    "\t# strip extra white space around each highlight\n",
    "\thighlights = [h.strip() for h in highlights if len(h) > 0]\n",
    "\treturn story, highlights\n",
    "\n",
    "# load all stories in a directory\n",
    "def load_stories(directory):\n",
    "\tstories = list()\n",
    "\tfor name in listdir(directory):\n",
    "\t\tfilename = directory + '/' + name\n",
    "\t\t# load document\n",
    "\t\tdoc = load_doc(filename)\n",
    "\t\t# split into story and highlights\n",
    "\t\tstory, highlights = split_story(doc)\n",
    "\t\t# store\n",
    "\t\tstories.append({'story':story, 'highlights':highlights})\n",
    "\treturn stories\n",
    "\n",
    "# clean a list of lines\n",
    "def clean_lines(lines):\n",
    "\tcleaned = list()\n",
    "\t# prepare a translation table to remove punctuation\n",
    "\ttable = str.maketrans('', '', string.punctuation)\n",
    "\tfor line in lines:\n",
    "\t\t# strip source cnn office if it exists\n",
    "\t\tindex = line.find('(CNN) -- ')\n",
    "\t\tif index > -1:\n",
    "\t\t\tline = line[index+len('(CNN)'):]\n",
    "\t\t# tokenize on white space\n",
    "\t\tline = line.split()\n",
    "\t\t# convert to lower case\n",
    "\t\tline = [word.lower() for word in line]\n",
    "\t\t# remove punctuation from each token\n",
    "\t\tline = [w.translate(table) for w in line]\n",
    "\t\t# remove tokens with numbers in them\n",
    "\t\tline = [word for word in line if word.isalpha()]\n",
    "\t\t# store as string\n",
    "\t\tcleaned.append(' '.join(line))\n",
    "\t# remove empty strings\n",
    "\tcleaned = [c for c in cleaned if len(c) > 0]\n",
    "\treturn cleaned\n",
    "\n",
    "# load stories\n",
    "directory = 'cnn/stories/'\n",
    "stories = load_stories(directory)\n",
    "print('Loaded Stories %d' % len(stories))\n",
    "\n",
    "# clean stories\n",
    "for example in stories:\n",
    "\texample['story'] = clean_lines(example['story'].split('\\n'))\n",
    "\texample['highlights'] = clean_lines(example['highlights'])"
   ]
  },
  {
   "cell_type": "code",
   "execution_count": 11,
   "metadata": {},
   "outputs": [
    {
     "name": "stdout",
     "output_type": "stream",
     "text": [
      "['louisiana gov bobby jindal decried nogo zones where sovereign governments cede authority to muslims', 'a fox news commentator sparked controversy when he mentioned the idea last week which has been debunked', 'jindal stuck to his speech however and drew praise from conservatives']\n"
     ]
    }
   ],
   "source": [
    "print(stories[4]['highlights'])"
   ]
  },
  {
   "cell_type": "code",
   "execution_count": 12,
   "metadata": {
    "tags": []
   },
   "outputs": [
    {
     "name": "stdout",
     "output_type": "stream",
     "text": [
      "['cnnlouisiana gov bobby jindal on monday stood by his criticism of socalled nogo zones in europe where sovereign nations allegedly cede authority to muslim immigrants a controversial idea that many critics say is overblown', 'and the potential republican presidential candidate decried what he called immigrants insistence on nonassimilation the fact that youve got people who want to come to our country but not adopt our values which he called dangerous', 'jindal has the reputation of policy wonk among republicans and boldly told gop officials during a address to the republican national committee that they must stop being the stupid party and needed to stop insulting the intelligence of voters', 'asked by cnns wolf blitzer whether he would walk back his comments on nogo zones made in a speech to the henry jackson society in london earlier that day jindal said not at all', 'msnbc guest wont apologize for jindal remark', 'and im also making a bigger and maybe even more controversial point that radical islam is a grave threat we need muslim leaders to denounce the individuals not just the acts of violence he said adding that it is absolutely correct to insist on assimilation of immigrants in the united states', 'but pressed for specific examples of such nogo zones jindal demurred saying he had met with elected officials and others to discuss them and noted a report in uk tabloid the daily mail that purported to highlight the challenges facing law enforcement in such areas', 'i knew by speaking the truth we were gonna make people upset jindal told blitzer', 'jindal was also unable to offer examples during an earlier interview with cnns max foster saying that hes heard from folks here that there are neighborhoods where women dont feel comfortable going in without veils we all know that there are neighborhoods where police are less likely to go into', 'i think that the radical left absolutely wants to pretend like this problem is not here pretending its not here wont make it go away he told foster', 'pressed for details jindal said only i think your viewers know absolutely there are places where the police are less likely to go', 'and asked whether that feeling may be caused by high crime rates rather than the muslim population in the area jindal said this isnt a question', 'i know the left wants to make this into an attack on religion and thats not what this is what we are saying its absolutely an issue for the uk absolutely is an issue for america and other european and western nations he said', 'during his london speech jindal said in the west nonassimilationist muslims establish enclaves and carry out as much of sharia law as they can without regard for the laws of the democratic countries which provided them a new home according to prepared remarks', 'it is startling to think that any country would allow even unofficially for a socalled nogo zone the idea that a free country would allow for specific areas of its country to operate in an autonomous way that is not free and is in direct opposition to its laws is hard to fathom he said', 'jindal also suggested the rise of such nogo zones has contributed to growing antisemitism throughout europe which has prompted many jews to emigrate from their home countries', 'how does such evil rise again in democratic countries jindal asked i believe it is because radical islamists have been given too wide a berth to establish their own nation within a nation he said', 'muslim leaders need to condemn anyone who commits these acts of violence and clearly state that these people are evil and are enemies of islam he added', 'the idea of nogo zones sparked controversy last week when a fox news commentator raised the prospect of areas in france britain sweden and germany where those countries governments dont exercise any sovereignty and which instead are run largely by muslim immigrants', 'the commentator also mentioned whole cities where nonmuslims simply dont go in in particular the city of birmingham in the united kingdom', 'british prime minister david cameron later pushed back on the idea calling the commentator a complete idiot', 'when i heard this frankly i choked on my porridge and i thought it must be april fools day this guy is clearly a complete idiot he said', 'the fox commentator later apologized to birmingham for labeling it a nogo zone but stood by the idea that such areas exist fox news however issued a formal apology for the remarks with host julie banderas retracting the comments as regrettable errors and saying the network deeply regrets the errors and apologizes to any and all who may have taken offense', 'cnnmoney fox news apologizes times for inaccurate comments about muslims in europe', 'but a jindal aide said the governor stuck largely to the text as prepared which included the criticism of the zones and the remarks have drawn praise from conservatives and attacted national media attention at a time when the potential presidential contender is looking to raise his profile in time for a white house bid', 'national review columnist larry kudlow called it a brilliant take on radical islam', 'it is the toughest speech i have read on the whole issue of islamic radicalism and its destructive murdering barbarous ways which are upsetting the entire world kudlow wrote in an oped', 'democrats though knocked jindal', 'its no surprise that bobby jindal would go abroad and butcher the facts in an effort to divide people this is exactly what weve come to expect from jindal here at home democratic national committee spokeswoman rebecca chalif told cnn jindal is just embarrassing himself he is abroad while louisiana is facing a budget crisis of his own making he cant even govern his state he is the last person we want wading into foreign policy', 'opinion bobby jindal doesnt know what hes talking about']\n"
     ]
    }
   ],
   "source": [
    "print(stories[4]['story'])"
   ]
  },
  {
   "cell_type": "code",
   "execution_count": 13,
   "metadata": {},
   "outputs": [
    {
     "data": {
      "text/plain": [
       "['usbased scientists say their data points toward the existence of the higgs boson',\n",
       " 'finding the higgs boson would help explain the origin of mass',\n",
       " 'but the research at the tevatron collider doesnt provide a conclusive answer',\n",
       " 'attention now turns to a seminar wednesday on data from the large hadron collider']"
      ]
     },
     "execution_count": 13,
     "metadata": {},
     "output_type": "execute_result"
    }
   ],
   "source": [
    "stories[0]['highlights']"
   ]
  },
  {
   "cell_type": "code",
   "execution_count": 14,
   "metadata": {},
   "outputs": [],
   "source": [
    "# save to file\n",
    "from pickle import dump\n",
    "dump(stories, open('cnn_dataset.pkl', 'wb'))"
   ]
  },
  {
   "cell_type": "code",
   "execution_count": 15,
   "metadata": {},
   "outputs": [
    {
     "ename": "NameError",
     "evalue": "name 'load' is not defined",
     "output_type": "error",
     "traceback": [
      "\u001b[0;31m---------------------------------------------------------------------------\u001b[0m",
      "\u001b[0;31mNameError\u001b[0m                                 Traceback (most recent call last)",
      "\u001b[0;32m<ipython-input-15-4fb6377b9341>\u001b[0m in \u001b[0;36m<module>\u001b[0;34m\u001b[0m\n\u001b[1;32m      1\u001b[0m \u001b[0;31m# load from file\u001b[0m\u001b[0;34m\u001b[0m\u001b[0;34m\u001b[0m\u001b[0;34m\u001b[0m\u001b[0m\n\u001b[0;32m----> 2\u001b[0;31m \u001b[0mstories\u001b[0m \u001b[0;34m=\u001b[0m \u001b[0mload\u001b[0m\u001b[0;34m(\u001b[0m\u001b[0mopen\u001b[0m\u001b[0;34m(\u001b[0m\u001b[0;34m'cnn_dataset.pkl'\u001b[0m\u001b[0;34m,\u001b[0m \u001b[0;34m'rb'\u001b[0m\u001b[0;34m)\u001b[0m\u001b[0;34m)\u001b[0m\u001b[0;34m\u001b[0m\u001b[0;34m\u001b[0m\u001b[0m\n\u001b[0m\u001b[1;32m      3\u001b[0m \u001b[0mprint\u001b[0m\u001b[0;34m(\u001b[0m\u001b[0;34m'Loaded Stories %d'\u001b[0m \u001b[0;34m%\u001b[0m \u001b[0mlen\u001b[0m\u001b[0;34m(\u001b[0m\u001b[0mstories\u001b[0m\u001b[0;34m)\u001b[0m\u001b[0;34m)\u001b[0m\u001b[0;34m\u001b[0m\u001b[0;34m\u001b[0m\u001b[0m\n",
      "\u001b[0;31mNameError\u001b[0m: name 'load' is not defined"
     ]
    }
   ],
   "source": [
    "# load from file\n",
    "stories = load(open('cnn_dataset.pkl', 'rb'))\n",
    "print('Loaded Stories %d' % len(stories))"
   ]
  },
  {
   "cell_type": "code",
   "execution_count": null,
   "metadata": {},
   "outputs": [],
   "source": []
  }
 ],
 "metadata": {
  "kernelspec": {
   "display_name": "Python 3",
   "language": "python",
   "name": "python3"
  },
  "language_info": {
   "codemirror_mode": {
    "name": "ipython",
    "version": 3
   },
   "file_extension": ".py",
   "mimetype": "text/x-python",
   "name": "python",
   "nbconvert_exporter": "python",
   "pygments_lexer": "ipython3",
   "version": "3.7.7"
  }
 },
 "nbformat": 4,
 "nbformat_minor": 4
}
