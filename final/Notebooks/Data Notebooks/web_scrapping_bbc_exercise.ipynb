{
  "nbformat": 4,
  "nbformat_minor": 0,
  "metadata": {
    "kernelspec": {
      "display_name": "Python 3",
      "language": "python",
      "name": "python3"
    },
    "language_info": {
      "codemirror_mode": {
        "name": "ipython",
        "version": 3
      },
      "file_extension": ".py",
      "mimetype": "text/x-python",
      "name": "python",
      "nbconvert_exporter": "python",
      "pygments_lexer": "ipython3",
      "version": "3.8.3"
    },
    "colab": {
      "name": "web_scrapping_bbc_exercise.ipynb",
      "provenance": [],
      "collapsed_sections": []
    }
  },
  "cells": [
    {
      "cell_type": "markdown",
      "metadata": {
        "id": "id67-LtR3cTl"
      },
      "source": [
        "# **Scraping English Data for Testing**"
      ]
    },
    {
      "cell_type": "code",
      "metadata": {
        "id": "tfbspzuo3Zin"
      },
      "source": [
        "import requests\n",
        "from bs4 import BeautifulSoup\n",
        "import re"
      ],
      "execution_count": null,
      "outputs": []
    },
    {
      "cell_type": "code",
      "metadata": {
        "id": "mcMBc9zt3Zit"
      },
      "source": [
        "r = requests.get('https://www.bbc.com/news/world-us-canada-55933848')\n",
        "page = r.content\n",
        "soup = BeautifulSoup(page, 'html.parser')\n"
      ],
      "execution_count": null,
      "outputs": []
    },
    {
      "cell_type": "code",
      "metadata": {
        "id": "Nx8xco3H3Ziu"
      },
      "source": [
        "for s in soup.select('li'):\n",
        "    s.extract()"
      ],
      "execution_count": null,
      "outputs": []
    },
    {
      "cell_type": "code",
      "metadata": {
        "id": "FwbjlGJZ3Ziu",
        "outputId": "68ea7ea2-7136-4ae3-c001-02bb4e9ae0d7"
      },
      "source": [
        "text=[]\n",
        "title=soup.title.text\n",
        "title=title.split('-')[0]\n",
        "print(title)\n",
        "print('')\n",
        "for s in soup.find_all('div',{'class' : 'ssrcss-3z08n3-RichTextContainer e5tfeyi2'}):\n",
        "    if s.text!=\"\":\n",
        "        text.append(s.text)\n",
        "        print(s.text)"
      ],
      "execution_count": null,
      "outputs": [
        {
          "output_type": "stream",
          "text": [
            "Doctors hail first face and double hand transplant \n",
            "\n",
            "Doctors in New York have performed the world's first successful face and double hand transplant. \n",
            "Joe DiMeo, 22, underwent the 23-hour surgery, performed by a team of more than 140 healthcare workers last August. \n",
            "A car crash in 2018 left Mr DiMeo with third-degree burns over 80% of his body. His fingertips were amputated and he lost his lips and eyelids. \n",
            "He said the operation had given him a \"second chance at life\".\n",
            "Mr DiMeo was on his way home from a night shift when he fell asleep at the wheel. His car crashed, bursting into flames. \n",
            "He spent four months in a burns unit, which included time in an induced coma. Mr DiMeo then had more than 20 reconstructive surgeries but only regained limited use of his hands and face. \n",
            "In 2019, he was referred to an academic medical centre in New York, NYU Langone, where he underwent transplant surgery last August. \n",
            "Eduardo Rodriguez, director of the Face Transplant Program, said: \"We wanted to give him not only an operation that made him look better, but it ultimately had to work ideally, especially with the hands.\"\n",
            "Mr DiMeo spent 45 days in intensive care after the surgery and a further two months in hospital, where he had to learn how to open his eyelids and use his new hands. \n",
            "Two face and double hand transplants have taken place before but both were unsuccessful. One patient died from complications and the other had their hands removed after they failed to thrive, the hospital said. \n",
            "Doctors at the hospital waited to make sure the transplants were not rejected before labelling it as a success. \n",
            "Mr Rodriguez says Mr DiMeo, who does up to five hours of rehab a day, is the \"most highly motivated patient\" he has ever met. \n",
            "\"He wants to work on sports, he loves to play golf, and he wants to get back to the course. I'm always impressed by the amount of weight that he can lift and the quality of his grip strength,\" he added. \n",
            "Mr DiMeo says he can now workout by himself and make breakfast. \n",
            "\"This is a once-in-a-lifetime gift, and I hope the family can take some comfort knowing that part of the donor lives on with me,\" he said. \"My parents and I are very grateful that I've been given this second chance.\"\n"
          ],
          "name": "stdout"
        }
      ]
    },
    {
      "cell_type": "code",
      "metadata": {
        "id": "FxQ9V3T03Ziv"
      },
      "source": [
        "holder=[] # two dim: title of the text and text itself\n",
        "def bbc_scrapper(link,holder):\n",
        "    r = requests.get(link)\n",
        "    page = r.content\n",
        "    soup = BeautifulSoup(page, 'html.parser')\n",
        "    for s in soup.select('li'):\n",
        "        s.extract()\n",
        "    text=\"\"\n",
        "    title=soup.title.text\n",
        "    for s in soup.find_all('div',{'class' : 'ssrcss-3z08n3-RichTextContainer e5tfeyi2'}):\n",
        "        if s.text!=\"\":\n",
        "            text=text+s.text\n",
        "            print(s.text)\n",
        "    holder.append((title,text))  "
      ],
      "execution_count": null,
      "outputs": []
    },
    {
      "cell_type": "code",
      "metadata": {
        "id": "Y1i-OIXv3Ziw",
        "outputId": "79865220-2390-44d0-a8e2-9f7f9ef3cbcc"
      },
      "source": [
        "bbc_scrapper('https://www.bbc.com/news/world-africa-55872485',holder)"
      ],
      "execution_count": null,
      "outputs": [
        {
          "output_type": "stream",
          "text": [
            "The situation in the Central African Republic's (CAR) capital of Bangui is \"apocalyptic\" as rebels encircle the city, a former prime minister says.\n",
            "Martin Ziguélé said there was daily fighting across the country and that he couldn't leave Bangui without an armed escort.\n",
            "The UN says more than 200,000 people have fled their homes since the conflict erupted last month.\n",
            "Rebel forces now control two-thirds of the country.\n",
            "The CAR is one of Africa's poorest and most unstable countries, even though it is rich in resources such as diamonds and uranium. The UN estimates that about half the population is dependent on humanitarian aid.\n",
            "Rebel forces now surrounding Bangui dispute the validity of President Faustin Archange Touadéra's re-election in December and want to see him ousted.\n",
            "The city is being defended by government forces backed by UN, Russian and Rwandan troops. A state of emergency was declared earlier this month.\n",
            "Mr Ziguélé, who came third in the poll, said everyone's focus was on keeping the main supply route between Bangui and eastern Cameroon open.\n",
            "\"I cannot leave Bangui... without a heavily armed army escort,\" he told Reuters news agency by phone.\n",
            "\"Imagine, then, the population. Add the curfew and the state of emergency - it is really an apocalyptic situation,\" he added.\n",
            "Mr Ziguélé welcomed a UN request for more peacekeeping troops but said talks between all parties were urgently needed.\n",
            "\"A military surge is not the only solution to tackle the security, humanitarian and economic crisis that is threatening to put one of the world's least developed countries into a complete coma,\" he said.\n",
            "At least 12,000 peacekeepers are already on the ground in the CAR.\n",
            "The UN refugee agency (UNHCR) said about 92,000 refugees had fled to the Democratic Republic of Congo and more than 13,000 had crossed into Cameroon, Chad and the Republic of Congo. It said the rest were displaced within the CAR.\n",
            "Speaking in Geneva, a spokesman for the UN refugee agency, UNHCR, told reporters that rebel attacks had hampered humanitarian access to Bangui and that many people were now facing \"dire conditions\".\n",
            "Disease was growing and some of those displaced were so desperate they were exchanging sex for food, spokesman Boris Cheshirkov added. \n",
            "Meanwhile, a regional body of 12 member states has called for a ceasefire and urged armed groups to \"disengage from the encirclement of Bangui\".\n",
            "The International Conference on the Great Lakes Region has warned that the crisis poses a serious threat to neighbouring countries. \n"
          ],
          "name": "stdout"
        }
      ]
    },
    {
      "cell_type": "code",
      "metadata": {
        "id": "N4SlCBYj3Ziw",
        "outputId": "d85890c8-6b1f-4ff3-b31c-77427094d744"
      },
      "source": [
        "print(holder[0][1])"
      ],
      "execution_count": null,
      "outputs": [
        {
          "output_type": "stream",
          "text": [
            "The situation in the Central African Republic's (CAR) capital of Bangui is \"apocalyptic\" as rebels encircle the city, a former prime minister says.Martin Ziguélé said there was daily fighting across the country and that he couldn't leave Bangui without an armed escort.The UN says more than 200,000 people have fled their homes since the conflict erupted last month.Rebel forces now control two-thirds of the country.The CAR is one of Africa's poorest and most unstable countries, even though it is rich in resources such as diamonds and uranium. The UN estimates that about half the population is dependent on humanitarian aid.Rebel forces now surrounding Bangui dispute the validity of President Faustin Archange Touadéra's re-election in December and want to see him ousted.The city is being defended by government forces backed by UN, Russian and Rwandan troops. A state of emergency was declared earlier this month.Mr Ziguélé, who came third in the poll, said everyone's focus was on keeping the main supply route between Bangui and eastern Cameroon open.\"I cannot leave Bangui... without a heavily armed army escort,\" he told Reuters news agency by phone.\"Imagine, then, the population. Add the curfew and the state of emergency - it is really an apocalyptic situation,\" he added.Mr Ziguélé welcomed a UN request for more peacekeeping troops but said talks between all parties were urgently needed.\"A military surge is not the only solution to tackle the security, humanitarian and economic crisis that is threatening to put one of the world's least developed countries into a complete coma,\" he said.At least 12,000 peacekeepers are already on the ground in the CAR.The UN refugee agency (UNHCR) said about 92,000 refugees had fled to the Democratic Republic of Congo and more than 13,000 had crossed into Cameroon, Chad and the Republic of Congo. It said the rest were displaced within the CAR.Speaking in Geneva, a spokesman for the UN refugee agency, UNHCR, told reporters that rebel attacks had hampered humanitarian access to Bangui and that many people were now facing \"dire conditions\".Disease was growing and some of those displaced were so desperate they were exchanging sex for food, spokesman Boris Cheshirkov added. Meanwhile, a regional body of 12 member states has called for a ceasefire and urged armed groups to \"disengage from the encirclement of Bangui\".The International Conference on the Great Lakes Region has warned that the crisis poses a serious threat to neighbouring countries. \n"
          ],
          "name": "stdout"
        }
      ]
    },
    {
      "cell_type": "code",
      "metadata": {
        "id": "9Y8LqsH93Zix"
      },
      "source": [
        "data_links=['https://www.bbc.com/news/world-africa-55921421','https://www.bbc.com/news/business-55929414',\n",
        "          'https://www.bbc.com/news/world-us-canada-55933848','https://www.bbc.com/news/entertainment-arts-55932164',\n",
        "          'https://www.bbc.com/news/uk-england-dorset-55916630','https://www.bbc.com/sport/football/55928980',\n",
        "          'https://www.bbc.com/sport/football/55913523','https://www.bbc.com/news/business-55929385',\n",
        "          'https://www.bbc.com/news/uk-england-northamptonshire-55927568','https://www.bbc.com/news/world-australia-55699581',\n",
        "          'https://www.bbc.com/news/health-55734257','https://www.bbc.com/news/world-us-canada-55750884'\n",
        "          'https://www.bbc.com/news/world-europe-55747623','https://www.bbc.com/news/stories-55864799',\n",
        "          'https://www.bbc.com/news/entertainment-arts-55931544']"
      ],
      "execution_count": null,
      "outputs": []
    },
    {
      "cell_type": "code",
      "metadata": {
        "id": "-Yd1Qb6p3Zix",
        "outputId": "88f60cd3-0630-4f55-e26a-93e4b8b80990"
      },
      "source": [
        "for i in data_links:\n",
        "    bbc_scrapper(i,holder)\n"
      ],
      "execution_count": null,
      "outputs": [
        {
          "output_type": "stream",
          "text": [
            "Ex-Ugandan rebel commander Dominic Ongwen has been convicted of war crimes at the International Criminal Court.\n",
            "Ongwen, a feared commander of the Lord's Resistance Army (LRA), is the first member of the LRA to appear before the court.\n",
            "He was convicted on 61 of the 70 counts of crimes against humanity and war crimes he faced. \n",
            "The charges relate to attacks on four camps for internally displaced people in Uganda in 2004.\n",
            "Ongwen's sentence is to be handed down at a later date. He could face life imprisonment.\n",
            "This case presented a dilemma to the court as he appeared to be both the victim and the alleged perpetrator.\n",
            "He said he was abducted by the LRA and forced to be a child soldier, before going on to rise up the ranks to become the deputy to LRA commander Joseph Kony.\n",
            "But reading out his verdict, presiding judge Bertram Schmitt said: \"His guilt has been established beyond any reasonable doubt.\n",
            "\"The chamber did not find evidence that supported the claim by the defence that Dominic Ongwen suffered from any mental disease or disorder during the period relevant to the charges, or that he committed these crimes under duress.\"\n",
            "He was convicted of counts including war crimes, crimes against humanity, torture, sexual enslavement and pillaging.\n",
            "The ICC issued a warrant for his arrest in 2005 and US and African forces had been searching for him since 2011.\n",
            "In 2014 he gave himself up in the Central African Republic (CAR) and his three-and-a-half year trial in the Hague ended in March.\n",
            "His lawyers had asked for his acquittal and are quoted by Reuters news agency as saying in the closing argument: \"When Ongwen was abducted he had no option, he was made a slave. That slavery continued until he left the bush.\"              \n",
            "But prosecutors reportedly insisted he was an adult at the time of the alleged offences so cannot be excused of responsibility.\n",
            "Who is Dominic Ongwen?\n",
            "The LRA was formed in Uganda where it said its goal was to install a government based on the biblical 10 commandments.\n",
            "Led by Joseph Kony, it became notorious for abducting thousands of children to use as soldiers or sex slaves.\n",
            "From the 1990s, LRA attacks became infamous. Rebel fighters would hack off their victims' limbs or parts of their faces.\n",
            "In 2005, the LRA was forced out of Uganda by the army and the rebels went into what was is now South Sudan and eventually set up camp in the border area with the Democratic Republic of Congo.\n",
            "They later moved to CAR where they acted more like a criminal outfit engaging in poaching and illegal mining.\n",
            "Who is Joseph Kony?\n",
            "Sales of Australian wine to the UK have surged almost 30% in the last year as producers try to overcome crippling taxes on exports to China.\n",
            "Wine producers have ramped up exports to Europe to a 10-year high, with the UK now the number one destination.\n",
            "China increased taxes by a massive 212% in November following a trade spat with Australia which has also affected goods including lobsters and coal.\n",
            "Wine Australia said the UK sales surge was helped by lockdowns and Brexit.\n",
            "The value of wine exports to Europe climbed 22% last year, while \"standout performer\" the UK saw shipments jump 29% according to government figures.\n",
            "Wine Australia, a government organisation set up to promote and regulate the wine industry, said demand increased at the start of the coronavirus pandemic and was boosted in the months leading up to Brexit.\n",
            "The sharp rise in sales to Europe helped offset a big slump in exports to China in the last two months of 2020.\n",
            "Wine exports to China fell just 1% in value last year, given that the high tariffs imposed by Beijing were only imposed in November. \n",
            "For the first nine months of last year, China was the biggest destination for Australia's wine exports, accounting for 39%.\n",
            "The UK is now the biggest destination for Australian wine exports by volume, with Brits buying up 266 million litres (29.6 million cases) in 2020.\n",
            "The most popular varieties were shiraz/syrah which accounted for 29% of UK sales last year, followed by chardonnay (25%) and cabernet sauvignon (10%).\n",
            "\"Due to the Covid lockdown they are not drinking wines in restaurants and cafes… but instead buying retail.  Australian wines have sold extremely well in UK retail for decades,\" a Wine Australia spokesman told the BBC.\n",
            "China's tensions with Australia started out as a political spat that spilled over into trade.\n",
            "Officials in China have argued that some Australian wine is being sold cheaper there (dumped) than in its home market through the use of subsidies. Australia has rejected this claim.\n",
            "China's commerce ministry said the tariffs, ranging from 107% to 212%, were temporary anti-dumping measures while it carried out a year-long investigation.\n",
            "\"The Australian government categorically rejects any allegation that our wine producers are dumping product into China,\" Australia's agriculture minister David Littleproud said in November.\n",
            "\"Australian wine is hugely popular both in China and across the globe due to its high quality and we are confident that a full and thorough investigation will confirm this.\"\n",
            "Wine merchants in the UK have warned that drinkers could pay more per bottle on many European wines while choosing from a reduced range as the burden of post-Brexit paperwork takes effect.\n",
            "Doctors in New York have performed the world's first successful face and double hand transplant. \n",
            "Joe DiMeo, 22, underwent the 23-hour surgery, performed by a team of more than 140 healthcare workers last August. \n",
            "A car crash in 2018 left Mr DiMeo with third-degree burns over 80% of his body. His fingertips were amputated and he lost his lips and eyelids. \n",
            "He said the operation had given him a \"second chance at life\".\n",
            "Mr DiMeo was on his way home from a night shift when he fell asleep at the wheel. His car crashed, bursting into flames. \n",
            "He spent four months in a burns unit, which included time in an induced coma. Mr DiMeo then had more than 20 reconstructive surgeries but only regained limited use of his hands and face. \n",
            "In 2019, he was referred to an academic medical centre in New York, NYU Langone, where he underwent transplant surgery last August. \n",
            "Eduardo Rodriguez, director of the Face Transplant Program, said: \"We wanted to give him not only an operation that made him look better, but it ultimately had to work ideally, especially with the hands.\"\n",
            "Mr DiMeo spent 45 days in intensive care after the surgery and a further two months in hospital, where he had to learn how to open his eyelids and use his new hands. \n",
            "Two face and double hand transplants have taken place before but both were unsuccessful. One patient died from complications and the other had their hands removed after they failed to thrive, the hospital said. \n",
            "Doctors at the hospital waited to make sure the transplants were not rejected before labelling it as a success. \n",
            "Mr Rodriguez says Mr DiMeo, who does up to five hours of rehab a day, is the \"most highly motivated patient\" he has ever met. \n",
            "\"He wants to work on sports, he loves to play golf, and he wants to get back to the course. I'm always impressed by the amount of weight that he can lift and the quality of his grip strength,\" he added. \n",
            "Mr DiMeo says he can now workout by himself and make breakfast. \n",
            "\"This is a once-in-a-lifetime gift, and I hope the family can take some comfort knowing that part of the donor lives on with me,\" he said. \"My parents and I are very grateful that I've been given this second chance.\"\n",
            "Taylor Swift is being sued by a US theme park called Evermore, which says the star's latest album has infringed its trademark by using the same name.\n",
            "The theme park's owners said Swift's Evermore release had caused confusion about whether the two were linked. \n",
            "The Utah venue said there was a \"dramatic departure from typical levels\" of traffic on its website in the week after the album's release.\n",
            "Swift's lawyers responded that \"there is no basis\" for the claim.\n",
            "They wrote in a letter filed in court: \"Moreover, your client has suffered no damages whatsoever and, in fact, has openly stated that Ms Swift's album release creates a 'marketing opportunity' for your client's troubled theme park.\"\n",
            "The letter added that the claim was \"frivolous and irresponsible\".\n",
            "But the theme park owners, who are seeking millions of dollars in damages, have said the trademark for the name belongs to them, and that Swift violated it when she started selling album-related merchandise.\n",
            "In the case, filed in a US District Court in Utah, the owners said they had spent millions of dollars on the attraction, which opened in 2018.\n",
            "In December, the owners wrote to Swift's legal team to say they were \"open to discussing reasonable terms for your discontinuation\" of the trademark.\n",
            "Evermore, which was released on 10 December, was Swift's second surprise album of 2020 and was described as a \"sister album\" to Folklore, which came out in July.\n",
            "Both albums were critical and commercial successes, topping charts around the world, including in the UK and the US.\n",
            "Follow us on Facebook or on Twitter @BBCNewsEnts. If you have a story suggestion email entertainment.news@bbc.co.uk.\n"
          ],
          "name": "stdout"
        },
        {
          "output_type": "stream",
          "text": [
            "Hollywood actor Russell Crowe has sent a surprise birthday message to a sailor in a round-the world yacht race.\n",
            "Pip Hare, from Poole, Dorset, is competing in the gruelling Vendee Globe and was tweeted by Crowe after she said she was a big fan in a BBC interview.\n",
            "In a video message, he urged her to \"keep going\". \n",
            "Hare celebrates her 47th birthday on Sunday. She is in the Atlantic Ocean, with more than 2,000 nautical miles to the finish line remaining.\n",
            "During an interview from her yacht, she told BBC Radio Solent presenter Steve Harris that she was a big fan of the Master and Commander actor.\n",
            "The presenter speculatively tweeted Crowe asking for a birthday message for the sailor - and he obliged.\n",
            "Crowe, who is currently in Australia, responded with a video saying: \"Happy birthday Pip. What an amazing feeling you're going to have when you can say you've claimed the globe.\"\n",
            "The three-month, solo, non-stop, round-the-world race is known as the \"Everest of the Seas\".\n",
            "Mr Harris described Hare as a \"force of nature\".\n",
            "\"I have enjoyed sharing her story with my listeners over the last three months, and with her birthday coming up, I started approaching people to record messages for her - I never expected Russell to work out,\" he said.\n",
            "Hare has been a professional sailor for 25 years but only started solo sailing 10 years ago. She is currently in 20th place in the race.\n",
            "Yannick Bestaven was declared the winner of the race on 28 January, after being handed a time bonus for his role in rescuing a fellow competitor.\n",
            "He crossed the finish line in 80 days, 13 hours, 59 minutes and 46 seconds.\n",
            "Follow BBC South on Facebook, Twitter, or Instagram. Send your story ideas to south.newsonline@bbc.co.uk.\n",
            "The board of self-styled \"free speech-driven\" social media platform Parler has fired its chief executive John Matze, he said on Wednesday. \n",
            "Parler was favoured by many US conservatives who objected to content rules on Facebook and Twitter.\n",
            "It has far fewer users than either of its rivals, but grew rapidly the wake of the US presidential election.  \n",
            "The platform has been largely offline since the 6 January riot in Washington DC. \n",
            "\"On January 29, 2021, the Parler board controlled by Rebekah Mercer decided to immediately terminate my position as CEO of Parler. I did not participate in this decision,\" Mr Matze said in a memo sent to Parler staff, originally reported by Fox News.\n",
            "Mr Matze didn't give a reason for his termination. \n",
            "\"Over the past few months, I've met constant resistance to my product vision, my strong belief in free speech and my view of how the Parler site should be managed,\" the memo said. \n",
            "Mr Matze appeared to confirm the story, posting it to his LinkedIn account, saying \"this is not a goodbye. Just a so long for now\". \n",
            "Parler first launched in 2018, but its user base surged after the 2020 US election, when it was the most downloaded app in the US.  \n",
            "But Parler's user base of 12 million is just a fraction of its rival Twitter, which has more than 300 million.  \n",
            "The tech companies that provided the infrastructure it needed to operate dropped Parler after supporters of the former President Donald Trump stormed the Capitol building in Washington. \n",
            "Amazon's cloud-hosting division as well as Google and Apple's app stores said they removed Parler because it was unable or unwilling to police content that encouraged or incited violence against others.  \n",
            "Parler is suing Amazon Web Services (AWS), accusing it of breaking anti-trust laws by removing it. \n",
            "The platform said AWS's decision to terminate Parler's account was motivated by \"political animus\" and was deigned to reduce competition among microblogging services, thereby helping its competitor Twitter. \n",
            "Although Parler hasn't released a full list of its financial supporters, heiress and Republican Party donor Rebekah Mercer and conservative commentator Dan Bongino are among the companies known backers. \n",
            " The woman accused of killing Harry Dunn was \"employed by an intelligence agency in the US\" at the time of the crash, a court has heard.\n",
            "Mr Dunn, 19, died when his motorbike was in a crash with a car near RAF Croughton in Northamptonshire in 2019.\n",
            "Suspect Anne Sacoolas returned to the US, claiming diplomatic immunity, and an extradition request was blocked.\n",
            "A court in Virginia has heard her work was \"especially a factor\" in her leaving the UK.\n",
            "Her barrister told the court she fled the UK for \"security issues\" and feared she would \"not get a fair trial\" if she returned.\n",
            "The comments about her role were made at a court in the state, where an application to dismiss a civil claim for damages submitted by Mr Dunn's family is being heard.\n",
            "When asked by the judge why Mrs Sacoolas had \"fled\" the UK, her barrister John McGavin said he could not respond \"completely candidly\".\n",
            "\"I know the answer but I cannot disclose it,\" he said.\n",
            "Speaking after the hearing, family spokesman Radd Seiger called on the UK government to \"urgently reinvestigate\" whether Mrs Sacoolas had diplomatic immunity, given \"the admission in open court by Mrs Sacoolas's counsel that she was employed by US intelligence services at the time of the crash\".\n",
            "Under the agreements at RAF Croughton dating back to 1995, anyone working at the base from the US as part of the \"administrative and technical staff\" would have their immunity pre-waived, meaning they would not be immune from criminal jurisdiction.\n",
            "The Dunn's barrister Agnieszka Fryszman had earlier told the court the British government had endorsed the civil claim and called on the judge not to dismiss it.\n",
            "Mrs Sacoolas, whose husband was based at RAF Croughton, was charged with causing death by dangerous driving after the crash.\n",
            "A Home Office extradition request was refused by Donald Trump's secretary of state Mike Pompeo in January 2020 and last week the new Biden administration said the decision was final.\n",
            "The judge said he would decide on the application ahead of a further hearing at the same court on 17 February.\n",
            "Find BBC News: East of England on Facebook, Instagram and Twitter. If you have a story suggestion email eastofenglandnews@bbc.co.uk\n",
            "Australia is unlikely to fully open its borders in 2021 even if most of its population gets vaccinated this year as planned, says a senior health official.\n",
            "The comments dampen hopes raised by airlines that travel to and from the country could resume as early as July.\n",
            "Department of Health Secretary Brendan Murphy made the prediction after being asked about the coronavirus' escalation in other nations.\n",
            "Dr Murphy spearheaded Australia's early action to close its borders last March.\n",
            "\"I think that we'll go most of this year with still substantial border restrictions,\" he told the Australian Broadcasting Corporation on Monday.\n",
            "\"Even if we have a lot of the population vaccinated, we don't know whether that will prevent transmission of the virus,\" he said, adding that he believed quarantine requirements for travellers would continue \"for some time\".\n",
            "Citizens, permanent residents and those with exemptions are allowed to enter Australia if they complete a 14-day hotel quarantine at their own expense.\n",
            "Qantas - Australia's national carrier - reopened bookings earlier this month, after saying it expected international travel to \"begin to restart from July 2021.\"\n",
            "However, it added this depended on the Australian government's deciding to reopen borders.\n",
            "The country opened a travel bubble with neighbouring New Zealand late last year, but currently it only operates one-way with inbound flights to Australia.\n",
            "Australia has also discussed the option of travel bubbles with other low-risk places such as Taiwan, Japan and Singapore.\n",
            "A vaccination scheme is due to begin in Australia in late February. Local authorities have resisted calls to speed up the process, giving more time for regulatory approvals.\n",
            "Australia has so far reported 909 deaths and about 22,000 cases, far fewer than many nations. It reported zero locally transmitted infections on Monday.\n",
            "Experts have attributed much of Australia's success to its swift border lockdown - which affected travellers from China as early as February - and a hotel quarantine system for people entering the country.\n",
            "Local outbreaks have been caused by hotel quarantine breaches, including a second wave in Melbourne. The city's residents endured a stringent four-month lockdown last year to successfully suppress the virus.\n",
            "Other outbreaks - including one in Sydney which has infected about 200 people - prompted internal border closures between states, and other restrictions around Christmas time. \n",
            "The state of Victoria said on Monday it would again allow entry to Sydney residents outside of designated \"hotspots\", following a decline in cases.\n",
            "While the measures have been praised, many have also criticised them for separating families across state borders and damaging businesses.\n",
            "Dr Murphy said overall Australia's virus response had been \"pretty good\" but he believed the nation could have introduced face masks earlier and improved its protections in aged care homes.\n",
            "In recent days, Australia has granted entry to about 1,200 tennis players, staff and officials for the Australian Open. The contingent - which has recorded at least nine infections - is under quarantine.\n"
          ],
          "name": "stdout"
        },
        {
          "output_type": "stream",
          "text": [
            "Israel, one of the top countries when it comes to vaccinating against Covid-19, bought large stocks of the jab in exchange for acting as the world's guinea pig.\n",
            "And scientists are watching data shared by the country keenly, for signs of how effective the vaccine is when given to a whole population.\n",
            "So there was understandable concern when the man coordinating Israel's Covid response reportedly suggested a single dose of the Pfizer vaccine might not be as effective as reported.\n",
            "Thousands of people have tested positive after being jabbed. But are worries premature?\n",
            "Addressing Prof Nachman Ash's quotes, the Israeli Ministry of Health said: \"The comments of the Israeli Covid-19 commissioner regarding the effect of the first dose of the vaccine were out of context and, therefore, inaccurate.\n",
            "\"The commissioner said we have yet to see a decrease in the number of severely ill patients.\"\n",
            "The \"full protective impact of the vaccine\" was expected to be seen soon, a spokesperson added.\n",
            "After vaccination, the body needs time to recognise the virus's genetic material and mount an immune response -  producing the antibodies and T-cells that block the virus from entering cells and killing off those cells that do become infected. \n",
            "And it takes a minimum of two weeks - but probably more - to really take effect, immunologists including Prof Danny Altmann at Imperial College London, say.\n",
            "Some of the people who were hospitalised in recent weeks will have received a first dose of the vaccine. But that's not necessarily a sign it hasn't been effective.\n",
            "Given the time it takes for immunity to build and unvaccinated people to become exposed to the virus, incubate it and develop symptoms, the national data would not be expected to reflect the impact of vaccination for at least a month.\n",
            "Clalit, Israel's largest healthcare provider, covering most of the population, compared the medical records of 200,000 vaccinated over-60s with the same number belonging to unvaccinated people. \n",
            "For two weeks after the first dose, both groups tested positive for the virus at roughly the same rate.\n",
            "But then those vaccinated started to show 33% fewer new infections than the others.\n",
            "\"This is very early protection,\" said Clalit chief innovation officer, Ran Balicher, who is also a public health professor advising the government.\n",
            "And \"already there is a 33% fall\".\n",
            "Infections continued to decline after that.\n",
            "But there were too few for Prof Balicher to calculate by what percentage.\n",
            "The London School of Hygiene and Tropical Medicine's Prof Stephen Evans said: \"It is not sensible to compare efficacy derived from an observational study of this type, which is subject to many biases, with the efficacy derived from randomised trials [such as those performed to test the vaccine in the first place].\"\n",
            "But the early evidence does follow roughly the same trend seen in Pfizer's clinical trials, which involved tens of thousands of people. \n",
            "In those trials, the rate of new infections in the vaccinated and control groups also diverged after two weeks.\n",
            "And that gap kept widening for more than 100 days after the first dose. \n",
            "Israel began vaccinating on 19 December, reaching 10% of its population by the end of 2020.\n",
            "And now, about half a million of its nine million population have received two doses.\n",
            "Prof Balicher suggests some impact on severe Covid illness across Israel could be expected to be seen later this week.\n",
            "Pfizer hopes two doses of the vaccine will give up to 95% protection.\n",
            "But even a much less effective vaccine could make the difference between a survivable illness and a fatal one. \n",
            "The annual flu vaccine is about 40-60% effective.\n",
            "And it stops hundreds of thousands of people from dying every year. \n",
            "\"Efficacy against detected Covid-19 may be less important... than efficacy against hospitalisation and death,\" Prof Evans said.\n",
            "And more people were likely to be protected from a severity of illness requiring admission to hospital than infection rates alone suggested. \n",
            "The Clalit data, for example, does not distinguish between mild or symptomless infections and more severe or even fatal disease.\n",
            "The judgement made in the UK was more lives could be saved by giving a larger group one dose quicker than giving a smaller group the maximum protection conferred by two doses.  \n",
            "And Prof Evans said: \"The reports that have come from Israel are insufficient to provide any evidence that the current UK policy in regard to delaying the second dose of vaccines is in any way incorrect.\"\n",
            "New rules have been introduced to make gambling on online slot machines safer. The BBC's Melanie Abbott tells the story of one woman who found out how dangerous they can be.\n",
            "Five years ago, Michelle Singlehurst decided not to tell her partner their house sale had gone through - she had her own ideas about how to spend the money. \n",
            "It was the culmination of months of lies to cover up what had become a devastating gambling addiction.\n",
            "It had started innocuously with playing the lottery online, because it was easier than filling out a slip, then a few flutters on scratch cards. Michelle, aged 53, had always found games calming - she had consoles including a Nintendo Wii and a GameCube when she was younger. \"If I felt a little bit overwhelmed when I was trying to do a piece of work, I would go off and play Super Mario or my GameCube,\" she says. \"I think it was a way of escaping from reality.\"\n",
            "When she discovered betting games online she was easily hooked.\n",
            "At the time she was under a lot of stress, as she says her mother was being neglected in her care home.\n",
            "\"She nearly died from dehydration,\" says Michelle. \"I stepped in and got her to hospital.  Luckily she got better, but it was touch-and-go.\"\n",
            "Like the computer games had been, gambling became an escape. She was particularly attracted to bingo games, which offered bonuses.\n",
            "Before Michelle knew it, she was gambling in every spare moment between working and looking after her elderly mother and young daughter. She sleeps alone because she wakes up at the slightest noise, so a lot of the gambling happened at night - she would stay up until two or three in the morning.\n",
            "At the beginning she got excited when she won, but she quickly started to feel quite numb.  \"I would say it almost became like a sleeping pill,\" says Michelle. \"In the morning I would wake up and I wouldn't have the foggiest idea whether I had still got money in my account or it had all gone. It was quite horrible because you have to log back in to see.\" Then, having logged in, she would just automatically carry on. \n",
            "Michelle opened accounts with nine different companies. Many of them gave her VIP status, which comes with special perks and free gifts. She was invited to sports events and given vouchers to spend on shopping, as well as gambling. \"A message would pop up on your account offering more money to gamble with. Looking back, I just feel like I had my eyes shut.\" \n",
            "Michelle worked as an independent financial adviser, earning up to £25,000 a year.  She sees the irony in that now.   \n",
            "When she had gambled all she had in the bank, she took out a loan without telling her partner, Chris, and borrowed tens of thousands from friends, saying it was for tax bills. \n",
            "Then she and Chris, a lorry driver, decided to sell the family home in Ash Vale, Surrey.  \n",
            "They were renting a larger house with a granny annexe for Michelle's mother, whom Michelle had taken out of the care home. Initially they rented out their old home, but then decided to move permanently. \n",
            "Chris, who says he \"isn't technically minded\", trusted Michelle to look after all the finances and their bank accounts, and she also dealt with the solicitor and estate agent. In 2016 the house sold for £440,000 - and it was when the sale completed that she made the fateful decision to say nothing about it.\n",
            "\"We found a buyer very quickly, but I kept lying about it and making excuses,\" says Michelle. \"And of course he trusted me - we've been together 30 years.\" \n",
            "Then, over the next five months, she gambled away every penny - most of it on online slots.\n",
            "Her mother died during that time and Michelle says that for that reason, or perhaps because of her addiction, her mind was in a fog.\n",
            "\"I can't even remember my thought processes now,\" she says. \"I do remember feeling very panicky, and ashamed about lying. I think these online products mess with your brain really badly. They are designed to suck you in.\" \n",
            "Chris only found out the house had been sold when a friend told him she had spotted new people living in it. Then Michelle had to confess.\n",
            "\"I started shouting. I felt betrayed and then really livid,\" says Chris. \"I asked what made her do it? I didn't even know that you could gamble online. I've never used a computer in my life, so I had no idea it was so easy to lose money like that very quickly.\"\n",
            "Chris was so angry he left, taking their nine-year-old daughter with him.\n",
            "\"He said, 'I'm not coming back,'\" remembers Michelle. \"And then I just fell apart. I began drinking heavily. It was a breakdown.\" \n",
            "After spending a dismal Christmas apart from her family, she hit rock bottom, and in January 2017 she took an overdose. She was taken to hospital very ill with hepatitis - her liver had been damaged both by her drinking and by the pills. \n",
            "\"Unbelievably now, even from my hospital bed I managed to gamble,\" says Michelle.\n",
            "\"It wasn't until I was told I had a one-in-three chance of survival that I finally had a rude awakening. I couldn't believe how ill I was and how close to being homeless.\n",
            "\"In some ways, going to hospital was actually a godsend. Slowly all my feelings came back. I think I'd become very numb.\" \n",
            "She spent three weeks there. During that time Chris brought their daughter to visit, and slowly began to forgive her. Soon after she came out of hospital he moved back home.\n",
            "\"We had our daughter too and I thought we should keep ourselves together,\" says Chris. \"I didn't want to split the family up just for the sake of a house. I still loved Michelle. It took a while to get over it, but now I have forgiven her. It's done and dusted.\"  \n",
            "But it will have an impact on their future together. Michelle has had to give up her job as a financial adviser, and she and Chris won't be able to get another mortgage, she says.\n",
            "\"We've got absolutely no chance of ever owning a property again. Unless I get some magical job or somehow save up the money, we'll be renting for the rest of our lives.\"\n",
            "When Michelle gathered all the data, she found she had lost just short of £550,000 in less than three years.\n",
            "She has now stopped gambling but says she's not the person she was. \"It's about the turmoil and the way it changed you more than the money - even the house. It's about the harm to oneself and others. I recovered from a gambling disorder, yes, but not from the chaos left behind.\"\n",
            "While she was gambling the proceeds of the house sale away, Michelle says only one of the nine companies she had signed up with offered her self-exclusion - which involves reporting yourself as a problem gambler, after which your account must be closed and any money in it returned. \n",
            "But she thinks that, when you are in the grip of a gambling addiction, self-policing may not work anyway. \"The problem is a lot of the time you feel partially shut down, so you can't think straight.\"  \n",
            "The government is currently reviewing gambling laws. New restrictions have just been announced to make casino games safer, including an obligation on operators to clearly display the player's total losses or wins during any online slots session.\n",
            "The time taken for the slots to spin must also be at least 2.5 seconds, and sounds or imagery giving the illusion of a win when the player has actually lost are now banned.\n",
            "At the same time, the Gambling Commission has banned \"reverse withdrawals\" which allowed players to change their mind and gamble with money they had previously decided to save.\n",
            "Labour MP Carolyn Harris, who co-leads the all-party Parliamentary group on gambling-related harm, says the new measures are a step in the right direction - but more needs to be done.\n",
            "\"The Gambling Commission must immediately look at stakes, or the amount you can wager, as there are no restrictions here and people are getting into very serious difficulties, particularly on online slot games which are highly addictive. We have recommended that a sensible limit would be £2, which is the same as land-based venues,\" she says.\n",
            "Brigid Simmons, chairwoman of the Betting and Gambling Council which represents the industry, told the BBC: \"We have already implemented a number of policies, from restrictions on advertising to a ban on credit cards. Every single company will be sending out, to their customers, safer gambling tools. Thirty million people gamble in this country and the vast majority of them do it safely and it is something that they enjoy doing.\"\n",
            "Although the industry introduced a voluntary ban on TV and radio ads - though not online ads - in the first nationwide lockdown, that ban is no longer in force. \n",
            "MPs called in June for all advertising to be banned, after hearing from women that daytime ads focusing on fun and friendship appeared to be aimed directly at them. \n",
            "Michelle would also like to see advertising banned, or at least not allowed before 10pm. \"Adverts have absolutely saturated TV,\" she says. \"It's awful that you cannot escape it.\"\n",
            "Listen to a discussion about women and gambling on Radio 4's Woman's Hour\n",
            "GamCare operates the National Gambling Helpline, providing information, advice and support for anyone affected by gambling problems - advisers are available 24 hours a day on Freephone 0808 8020 133 or via web chat \n",
            "Gordon Moody Association provides advice, education and therapeutic support to problem gamblers, as well as an intensive residential treatment programme - for more information visit the website or call 01384 241292\n",
            "Gamstop is a free service that lets you put controls in place to help restrict your gambling\n",
            "Further sources of support can be found on the BBC Action Line\n",
            "At its worst, Kelly's gambling addiction cost her £500 a day. In recovery now, she fears that online ads could be enough to cause people like her to relapse. \n",
            "'I'm being bombarded by gambling ads'\n"
          ],
          "name": "stdout"
        },
        {
          "output_type": "stream",
          "text": [
            "Australian pop star Sia has apologised for casting a neurotypical actor as a nonverbal autistic girl in her film Music, and for scenes depicting the use of restraints on autistic people.\n",
            "Her directorial debut Music attracted controversy online on Wednesday after it was nominated for two Golden Globes.\n",
            "It was criticised for the casting of dancer Maddie Ziegler in an autistic role, as well as for restraint scenes.\n",
            "Sia has now said a restraint warning would be added to the film's start.\n",
            "Variety said the singer had also tweeted that all restraint scenes will be removed from public screenings of the film. \n",
            "\"I plan to remove the restraint scenes from all future printings. I listened to the wrong people and that is my responsibility, my research was clearly not thorough enough, not wide enough,\" she tweeted, shortly before deleting her account which had about 6m followers.\n",
            "\"I promise, have been listening. The motion picture Music will, moving forward, have this warning at the head of the movie,\" she said. \n",
            "She added: \"Music in no way condones or recommends the use of restraint on autistic people. There are autistic occupational therapists that specialise in sensory processing who can be consulted to explain safe ways to provide proprioceptive, deep-pressure feedback to help w[ith] meltdown safety.\"\n",
            "On Wednesday, actress Ruth Madeley, who has spina bifida, expressed solidarity with \"every #ActuallyAutistic person who is rightly devastated to see #Sia\"s Music nominated\".\n",
            "\"Disabled people are needed in the industry now more than ever to help change the narrative we're all so sick of,\" tweeted the actress, who was in 2019 BBC drama Years and Years and has featured in BBC One's Celebrity Best Home Cook. \n",
            "A tweet from GhillieGuide, an \"austistic self-advocate\", said the use of restraint in the film brought back \"traumatic memories\". \n",
            "The film, written and directed by Sia, also stars Kate Hudson and Leslie Odom Jr, and will be released in certain cinemas around the world for one night only next week.\n",
            "It received a Golden Globe nomination for best picture in the musical or comedy category, along with Kate Hudson, who got a nod for best actress. \n",
            "In November a petition to cancel the film, which Sia described as \"a love letter to caregivers and to the autism community,\" went up online.\n",
            "Speaking recently on the Grounded with Louis Theroux podcast, Sia agreed with him that the challenges and experiences for people with autism are varied, and said she wanted that to be reflected on screen.\n",
            "\"Sometimes it's coupled with savant capabilities and other times it is not,\" she said. \"If you went and met everybody in the world who is on the autism spectrum you would never find two the same.\"\n",
            "Follow us on Facebook or on Twitter @BBCNewsEnts. If you have a story suggestion email entertainment.news@bbc.co.uk.\n"
          ],
          "name": "stdout"
        }
      ]
    },
    {
      "cell_type": "code",
      "metadata": {
        "id": "WyqMc9d03Ziy",
        "outputId": "e0b139ed-28ff-451b-b08c-7333c3cae1df"
      },
      "source": [
        "print(holder)"
      ],
      "execution_count": null,
      "outputs": [
        {
          "output_type": "stream",
          "text": [
            "[(\"Central African Republic's capital in 'apocalyptic situation' as rebels close in - BBC News\", 'The situation in the Central African Republic\\'s (CAR) capital of Bangui is \"apocalyptic\" as rebels encircle the city, a former prime minister says.Martin Ziguélé said there was daily fighting across the country and that he couldn\\'t leave Bangui without an armed escort.The UN says more than 200,000 people have fled their homes since the conflict erupted last month.Rebel forces now control two-thirds of the country.The CAR is one of Africa\\'s poorest and most unstable countries, even though it is rich in resources such as diamonds and uranium. The UN estimates that about half the population is dependent on humanitarian aid.Rebel forces now surrounding Bangui dispute the validity of President Faustin Archange Touadéra\\'s re-election in December and want to see him ousted.The city is being defended by government forces backed by UN, Russian and Rwandan troops. A state of emergency was declared earlier this month.Mr Ziguélé, who came third in the poll, said everyone\\'s focus was on keeping the main supply route between Bangui and eastern Cameroon open.\"I cannot leave Bangui... without a heavily armed army escort,\" he told Reuters news agency by phone.\"Imagine, then, the population. Add the curfew and the state of emergency - it is really an apocalyptic situation,\" he added.Mr Ziguélé welcomed a UN request for more peacekeeping troops but said talks between all parties were urgently needed.\"A military surge is not the only solution to tackle the security, humanitarian and economic crisis that is threatening to put one of the world\\'s least developed countries into a complete coma,\" he said.At least 12,000 peacekeepers are already on the ground in the CAR.The UN refugee agency (UNHCR) said about 92,000 refugees had fled to the Democratic Republic of Congo and more than 13,000 had crossed into Cameroon, Chad and the Republic of Congo. It said the rest were displaced within the CAR.Speaking in Geneva, a spokesman for the UN refugee agency, UNHCR, told reporters that rebel attacks had hampered humanitarian access to Bangui and that many people were now facing \"dire conditions\".Disease was growing and some of those displaced were so desperate they were exchanging sex for food, spokesman Boris Cheshirkov added. Meanwhile, a regional body of 12 member states has called for a ceasefire and urged armed groups to \"disengage from the encirclement of Bangui\".The International Conference on the Great Lakes Region has warned that the crisis poses a serious threat to neighbouring countries. '), (\"Dominic Ongwen convicted of war crimes for Uganda's LRA rebels - BBC News\", 'Ex-Ugandan rebel commander Dominic Ongwen has been convicted of war crimes at the International Criminal Court.Ongwen, a feared commander of the Lord\\'s Resistance Army (LRA), is the first member of the LRA to appear before the court.He was convicted on 61 of the 70 counts of crimes against humanity and war crimes he faced. The charges relate to attacks on four camps for internally displaced people in Uganda in 2004.Ongwen\\'s sentence is to be handed down at a later date. He could face life imprisonment.This case presented a dilemma to the court as he appeared to be both the victim and the alleged perpetrator.He said he was abducted by the LRA and forced to be a child soldier, before going on to rise up the ranks to become the deputy to LRA commander Joseph Kony.But reading out his verdict, presiding judge Bertram Schmitt said: \"His guilt has been established beyond any reasonable doubt.\"The chamber did not find evidence that supported the claim by the defence that Dominic Ongwen suffered from any mental disease or disorder during the period relevant to the charges, or that he committed these crimes under duress.\"He was convicted of counts including war crimes, crimes against humanity, torture, sexual enslavement and pillaging.The ICC issued a warrant for his arrest in 2005 and US and African forces had been searching for him since 2011.In 2014 he gave himself up in the Central African Republic (CAR) and his three-and-a-half year trial in the Hague ended in March.His lawyers had asked for his acquittal and are quoted by Reuters news agency as saying in the closing argument: \"When Ongwen was abducted he had no option, he was made a slave. That slavery continued until he left the bush.\"              But prosecutors reportedly insisted he was an adult at the time of the alleged offences so cannot be excused of responsibility.Who is Dominic Ongwen?The LRA was formed in Uganda where it said its goal was to install a government based on the biblical 10 commandments.Led by Joseph Kony, it became notorious for abducting thousands of children to use as soldiers or sex slaves.From the 1990s, LRA attacks became infamous. Rebel fighters would hack off their victims\\' limbs or parts of their faces.In 2005, the LRA was forced out of Uganda by the army and the rebels went into what was is now South Sudan and eventually set up camp in the border area with the Democratic Republic of Congo.They later moved to CAR where they acted more like a criminal outfit engaging in poaching and illegal mining.Who is Joseph Kony?'), (\"Brits snap up Australian wine that didn't go to China - BBC News\", 'Sales of Australian wine to the UK have surged almost 30% in the last year as producers try to overcome crippling taxes on exports to China.Wine producers have ramped up exports to Europe to a 10-year high, with the UK now the number one destination.China increased taxes by a massive 212% in November following a trade spat with Australia which has also affected goods including lobsters and coal.Wine Australia said the UK sales surge was helped by lockdowns and Brexit.The value of wine exports to Europe climbed 22% last year, while \"standout performer\" the UK saw shipments jump 29% according to government figures.Wine Australia, a government organisation set up to promote and regulate the wine industry, said demand increased at the start of the coronavirus pandemic and was boosted in the months leading up to Brexit.The sharp rise in sales to Europe helped offset a big slump in exports to China in the last two months of 2020.Wine exports to China fell just 1% in value last year, given that the high tariffs imposed by Beijing were only imposed in November. For the first nine months of last year, China was the biggest destination for Australia\\'s wine exports, accounting for 39%.The UK is now the biggest destination for Australian wine exports by volume, with Brits buying up 266 million litres (29.6 million cases) in 2020.The most popular varieties were shiraz/syrah which accounted for 29% of UK sales last year, followed by chardonnay (25%) and cabernet sauvignon (10%).\"Due to the Covid lockdown they are not drinking wines in restaurants and cafes… but instead buying retail.  Australian wines have sold extremely well in UK retail for decades,\" a Wine Australia spokesman told the BBC.China\\'s tensions with Australia started out as a political spat that spilled over into trade.Officials in China have argued that some Australian wine is being sold cheaper there (dumped) than in its home market through the use of subsidies. Australia has rejected this claim.China\\'s commerce ministry said the tariffs, ranging from 107% to 212%, were temporary anti-dumping measures while it carried out a year-long investigation.\"The Australian government categorically rejects any allegation that our wine producers are dumping product into China,\" Australia\\'s agriculture minister David Littleproud said in November.\"Australian wine is hugely popular both in China and across the globe due to its high quality and we are confident that a full and thorough investigation will confirm this.\"Wine merchants in the UK have warned that drinkers could pay more per bottle on many European wines while choosing from a reduced range as the burden of post-Brexit paperwork takes effect.'), ('Doctors hail first face and double hand transplant - BBC News', 'Doctors in New York have performed the world\\'s first successful face and double hand transplant. Joe DiMeo, 22, underwent the 23-hour surgery, performed by a team of more than 140 healthcare workers last August. A car crash in 2018 left Mr DiMeo with third-degree burns over 80% of his body. His fingertips were amputated and he lost his lips and eyelids. He said the operation had given him a \"second chance at life\".Mr DiMeo was on his way home from a night shift when he fell asleep at the wheel. His car crashed, bursting into flames. He spent four months in a burns unit, which included time in an induced coma. Mr DiMeo then had more than 20 reconstructive surgeries but only regained limited use of his hands and face. In 2019, he was referred to an academic medical centre in New York, NYU Langone, where he underwent transplant surgery last August. Eduardo Rodriguez, director of the Face Transplant Program, said: \"We wanted to give him not only an operation that made him look better, but it ultimately had to work ideally, especially with the hands.\"Mr DiMeo spent 45 days in intensive care after the surgery and a further two months in hospital, where he had to learn how to open his eyelids and use his new hands. Two face and double hand transplants have taken place before but both were unsuccessful. One patient died from complications and the other had their hands removed after they failed to thrive, the hospital said. Doctors at the hospital waited to make sure the transplants were not rejected before labelling it as a success. Mr Rodriguez says Mr DiMeo, who does up to five hours of rehab a day, is the \"most highly motivated patient\" he has ever met. \"He wants to work on sports, he loves to play golf, and he wants to get back to the course. I\\'m always impressed by the amount of weight that he can lift and the quality of his grip strength,\" he added. Mr DiMeo says he can now workout by himself and make breakfast. \"This is a once-in-a-lifetime gift, and I hope the family can take some comfort knowing that part of the donor lives on with me,\" he said. \"My parents and I are very grateful that I\\'ve been given this second chance.\"'), ('Taylor Swift: Theme park sues singer over Evermore album name - BBC News', 'Taylor Swift is being sued by a US theme park called Evermore, which says the star\\'s latest album has infringed its trademark by using the same name.The theme park\\'s owners said Swift\\'s Evermore release had caused confusion about whether the two were linked. The Utah venue said there was a \"dramatic departure from typical levels\" of traffic on its website in the week after the album\\'s release.Swift\\'s lawyers responded that \"there is no basis\" for the claim.They wrote in a letter filed in court: \"Moreover, your client has suffered no damages whatsoever and, in fact, has openly stated that Ms Swift\\'s album release creates a \\'marketing opportunity\\' for your client\\'s troubled theme park.\"The letter added that the claim was \"frivolous and irresponsible\".But the theme park owners, who are seeking millions of dollars in damages, have said the trademark for the name belongs to them, and that Swift violated it when she started selling album-related merchandise.In the case, filed in a US District Court in Utah, the owners said they had spent millions of dollars on the attraction, which opened in 2018.In December, the owners wrote to Swift\\'s legal team to say they were \"open to discussing reasonable terms for your discontinuation\" of the trademark.Evermore, which was released on 10 December, was Swift\\'s second surprise album of 2020 and was described as a \"sister album\" to Folklore, which came out in July.Both albums were critical and commercial successes, topping charts around the world, including in the UK and the US.Follow us on Facebook or on Twitter @BBCNewsEnts. If you have a story suggestion email entertainment.news@bbc.co.uk.'), ('Russell Crowe backs round-the-world sailor Pip Hare - BBC News', 'Hollywood actor Russell Crowe has sent a surprise birthday message to a sailor in a round-the world yacht race.Pip Hare, from Poole, Dorset, is competing in the gruelling Vendee Globe and was tweeted by Crowe after she said she was a big fan in a BBC interview.In a video message, he urged her to \"keep going\". Hare celebrates her 47th birthday on Sunday. She is in the Atlantic Ocean, with more than 2,000 nautical miles to the finish line remaining.During an interview from her yacht, she told BBC Radio Solent presenter Steve Harris that she was a big fan of the Master and Commander actor.The presenter speculatively tweeted Crowe asking for a birthday message for the sailor - and he obliged.Crowe, who is currently in Australia, responded with a video saying: \"Happy birthday Pip. What an amazing feeling you\\'re going to have when you can say you\\'ve claimed the globe.\"The three-month, solo, non-stop, round-the-world race is known as the \"Everest of the Seas\".Mr Harris described Hare as a \"force of nature\".\"I have enjoyed sharing her story with my listeners over the last three months, and with her birthday coming up, I started approaching people to record messages for her - I never expected Russell to work out,\" he said.Hare has been a professional sailor for 25 years but only started solo sailing 10 years ago. She is currently in 20th place in the race.Yannick Bestaven was declared the winner of the race on 28 January, after being handed a time bonus for his role in rescuing a fellow competitor.He crossed the finish line in 80 days, 13 hours, 59 minutes and 46 seconds.Follow BBC South on Facebook, Twitter, or Instagram. Send your story ideas to south.newsonline@bbc.co.uk.'), (\"Jurgen Klopp: Liverpool manager says team 'not fresh mentally and physically' - BBC Sport\", ''), (\"Man Utd 9-0 Southampton: How do Ralph Hasenhuttl's side recover again? - BBC Sport\", ''), ('Capitol riots: Parler boss says he has been fired by the board - BBC News', 'The board of self-styled \"free speech-driven\" social media platform Parler has fired its chief executive John Matze, he said on Wednesday. Parler was favoured by many US conservatives who objected to content rules on Facebook and Twitter.It has far fewer users than either of its rivals, but grew rapidly the wake of the US presidential election.  The platform has been largely offline since the 6 January riot in Washington DC. \"On January 29, 2021, the Parler board controlled by Rebekah Mercer decided to immediately terminate my position as CEO of Parler. I did not participate in this decision,\" Mr Matze said in a memo sent to Parler staff, originally reported by Fox News.Mr Matze didn\\'t give a reason for his termination. \"Over the past few months, I\\'ve met constant resistance to my product vision, my strong belief in free speech and my view of how the Parler site should be managed,\" the memo said. Mr Matze appeared to confirm the story, posting it to his LinkedIn account, saying \"this is not a goodbye. Just a so long for now\". Parler first launched in 2018, but its user base surged after the 2020 US election, when it was the most downloaded app in the US.  But Parler\\'s user base of 12 million is just a fraction of its rival Twitter, which has more than 300 million.  The tech companies that provided the infrastructure it needed to operate dropped Parler after supporters of the former President Donald Trump stormed the Capitol building in Washington. Amazon\\'s cloud-hosting division as well as Google and Apple\\'s app stores said they removed Parler because it was unable or unwilling to police content that encouraged or incited violence against others.  Parler is suing Amazon Web Services (AWS), accusing it of breaking anti-trust laws by removing it. The platform said AWS\\'s decision to terminate Parler\\'s account was motivated by \"political animus\" and was deigned to reduce competition among microblogging services, thereby helping its competitor Twitter. Although Parler hasn\\'t released a full list of its financial supporters, heiress and Republican Party donor Rebekah Mercer and conservative commentator Dan Bongino are among the companies known backers. '), (\"Harry Dunn: Suspect Anne Sacoolas 'worked for US intelligence' - BBC News\", ' The woman accused of killing Harry Dunn was \"employed by an intelligence agency in the US\" at the time of the crash, a court has heard.Mr Dunn, 19, died when his motorbike was in a crash with a car near RAF Croughton in Northamptonshire in 2019.Suspect Anne Sacoolas returned to the US, claiming diplomatic immunity, and an extradition request was blocked.A court in Virginia has heard her work was \"especially a factor\" in her leaving the UK.Her barrister told the court she fled the UK for \"security issues\" and feared she would \"not get a fair trial\" if she returned.The comments about her role were made at a court in the state, where an application to dismiss a civil claim for damages submitted by Mr Dunn\\'s family is being heard.When asked by the judge why Mrs Sacoolas had \"fled\" the UK, her barrister John McGavin said he could not respond \"completely candidly\".\"I know the answer but I cannot disclose it,\" he said.Speaking after the hearing, family spokesman Radd Seiger called on the UK government to \"urgently reinvestigate\" whether Mrs Sacoolas had diplomatic immunity, given \"the admission in open court by Mrs Sacoolas\\'s counsel that she was employed by US intelligence services at the time of the crash\".Under the agreements at RAF Croughton dating back to 1995, anyone working at the base from the US as part of the \"administrative and technical staff\" would have their immunity pre-waived, meaning they would not be immune from criminal jurisdiction.The Dunn\\'s barrister Agnieszka Fryszman had earlier told the court the British government had endorsed the civil claim and called on the judge not to dismiss it.Mrs Sacoolas, whose husband was based at RAF Croughton, was charged with causing death by dangerous driving after the crash.A Home Office extradition request was refused by Donald Trump\\'s secretary of state Mike Pompeo in January 2020 and last week the new Biden administration said the decision was final.The judge said he would decide on the application ahead of a further hearing at the same court on 17 February.Find BBC News: East of England on Facebook, Instagram and Twitter. If you have a story suggestion email eastofenglandnews@bbc.co.uk'), ('Australia unlikely to fully reopen border in 2021, says top official - BBC News', 'Australia is unlikely to fully open its borders in 2021 even if most of its population gets vaccinated this year as planned, says a senior health official.The comments dampen hopes raised by airlines that travel to and from the country could resume as early as July.Department of Health Secretary Brendan Murphy made the prediction after being asked about the coronavirus\\' escalation in other nations.Dr Murphy spearheaded Australia\\'s early action to close its borders last March.\"I think that we\\'ll go most of this year with still substantial border restrictions,\" he told the Australian Broadcasting Corporation on Monday.\"Even if we have a lot of the population vaccinated, we don\\'t know whether that will prevent transmission of the virus,\" he said, adding that he believed quarantine requirements for travellers would continue \"for some time\".Citizens, permanent residents and those with exemptions are allowed to enter Australia if they complete a 14-day hotel quarantine at their own expense.Qantas - Australia\\'s national carrier - reopened bookings earlier this month, after saying it expected international travel to \"begin to restart from July 2021.\"However, it added this depended on the Australian government\\'s deciding to reopen borders.The country opened a travel bubble with neighbouring New Zealand late last year, but currently it only operates one-way with inbound flights to Australia.Australia has also discussed the option of travel bubbles with other low-risk places such as Taiwan, Japan and Singapore.A vaccination scheme is due to begin in Australia in late February. Local authorities have resisted calls to speed up the process, giving more time for regulatory approvals.Australia has so far reported 909 deaths and about 22,000 cases, far fewer than many nations. It reported zero locally transmitted infections on Monday.Experts have attributed much of Australia\\'s success to its swift border lockdown - which affected travellers from China as early as February - and a hotel quarantine system for people entering the country.Local outbreaks have been caused by hotel quarantine breaches, including a second wave in Melbourne. The city\\'s residents endured a stringent four-month lockdown last year to successfully suppress the virus.Other outbreaks - including one in Sydney which has infected about 200 people - prompted internal border closures between states, and other restrictions around Christmas time. The state of Victoria said on Monday it would again allow entry to Sydney residents outside of designated \"hotspots\", following a decline in cases.While the measures have been praised, many have also criticised them for separating families across state borders and damaging businesses.Dr Murphy said overall Australia\\'s virus response had been \"pretty good\" but he believed the nation could have introduced face masks earlier and improved its protections in aged care homes.In recent days, Australia has granted entry to about 1,200 tennis players, staff and officials for the Australian Open. The contingent - which has recorded at least nine infections - is under quarantine.'), (\"Covid: Israel vaccine fears 'out of context and inaccurate' - BBC News\", 'Israel, one of the top countries when it comes to vaccinating against Covid-19, bought large stocks of the jab in exchange for acting as the world\\'s guinea pig.And scientists are watching data shared by the country keenly, for signs of how effective the vaccine is when given to a whole population.So there was understandable concern when the man coordinating Israel\\'s Covid response reportedly suggested a single dose of the Pfizer vaccine might not be as effective as reported.Thousands of people have tested positive after being jabbed. But are worries premature?Addressing Prof Nachman Ash\\'s quotes, the Israeli Ministry of Health said: \"The comments of the Israeli Covid-19 commissioner regarding the effect of the first dose of the vaccine were out of context and, therefore, inaccurate.\"The commissioner said we have yet to see a decrease in the number of severely ill patients.\"The \"full protective impact of the vaccine\" was expected to be seen soon, a spokesperson added.After vaccination, the body needs time to recognise the virus\\'s genetic material and mount an immune response -  producing the antibodies and T-cells that block the virus from entering cells and killing off those cells that do become infected. And it takes a minimum of two weeks - but probably more - to really take effect, immunologists including Prof Danny Altmann at Imperial College London, say.Some of the people who were hospitalised in recent weeks will have received a first dose of the vaccine. But that\\'s not necessarily a sign it hasn\\'t been effective.Given the time it takes for immunity to build and unvaccinated people to become exposed to the virus, incubate it and develop symptoms, the national data would not be expected to reflect the impact of vaccination for at least a month.Clalit, Israel\\'s largest healthcare provider, covering most of the population, compared the medical records of 200,000 vaccinated over-60s with the same number belonging to unvaccinated people. For two weeks after the first dose, both groups tested positive for the virus at roughly the same rate.But then those vaccinated started to show 33% fewer new infections than the others.\"This is very early protection,\" said Clalit chief innovation officer, Ran Balicher, who is also a public health professor advising the government.And \"already there is a 33% fall\".Infections continued to decline after that.But there were too few for Prof Balicher to calculate by what percentage.The London School of Hygiene and Tropical Medicine\\'s Prof Stephen Evans said: \"It is not sensible to compare efficacy derived from an observational study of this type, which is subject to many biases, with the efficacy derived from randomised trials [such as those performed to test the vaccine in the first place].\"But the early evidence does follow roughly the same trend seen in Pfizer\\'s clinical trials, which involved tens of thousands of people. In those trials, the rate of new infections in the vaccinated and control groups also diverged after two weeks.And that gap kept widening for more than 100 days after the first dose. Israel began vaccinating on 19 December, reaching 10% of its population by the end of 2020.And now, about half a million of its nine million population have received two doses.Prof Balicher suggests some impact on severe Covid illness across Israel could be expected to be seen later this week.Pfizer hopes two doses of the vaccine will give up to 95% protection.But even a much less effective vaccine could make the difference between a survivable illness and a fatal one. The annual flu vaccine is about 40-60% effective.And it stops hundreds of thousands of people from dying every year. \"Efficacy against detected Covid-19 may be less important... than efficacy against hospitalisation and death,\" Prof Evans said.And more people were likely to be protected from a severity of illness requiring admission to hospital than infection rates alone suggested. The Clalit data, for example, does not distinguish between mild or symptomless infections and more severe or even fatal disease.The judgement made in the UK was more lives could be saved by giving a larger group one dose quicker than giving a smaller group the maximum protection conferred by two doses.  And Prof Evans said: \"The reports that have come from Israel are insufficient to provide any evidence that the current UK policy in regard to delaying the second dose of vaccines is in any way incorrect.\"'), ('Page cannot be found - BBC News', ''), ('‘I gambled our house away without telling my partner’ - BBC News', 'New rules have been introduced to make gambling on online slot machines safer. The BBC\\'s Melanie Abbott tells the story of one woman who found out how dangerous they can be.Five years ago, Michelle Singlehurst decided not to tell her partner their house sale had gone through - she had her own ideas about how to spend the money. It was the culmination of months of lies to cover up what had become a devastating gambling addiction.It had started innocuously with playing the lottery online, because it was easier than filling out a slip, then a few flutters on scratch cards. Michelle, aged 53, had always found games calming - she had consoles including a Nintendo Wii and a GameCube when she was younger. \"If I felt a little bit overwhelmed when I was trying to do a piece of work, I would go off and play Super Mario or my GameCube,\" she says. \"I think it was a way of escaping from reality.\"When she discovered betting games online she was easily hooked.At the time she was under a lot of stress, as she says her mother was being neglected in her care home.\"She nearly died from dehydration,\" says Michelle. \"I stepped in and got her to hospital.  Luckily she got better, but it was touch-and-go.\"Like the computer games had been, gambling became an escape. She was particularly attracted to bingo games, which offered bonuses.Before Michelle knew it, she was gambling in every spare moment between working and looking after her elderly mother and young daughter. She sleeps alone because she wakes up at the slightest noise, so a lot of the gambling happened at night - she would stay up until two or three in the morning.At the beginning she got excited when she won, but she quickly started to feel quite numb.  \"I would say it almost became like a sleeping pill,\" says Michelle. \"In the morning I would wake up and I wouldn\\'t have the foggiest idea whether I had still got money in my account or it had all gone. It was quite horrible because you have to log back in to see.\" Then, having logged in, she would just automatically carry on. Michelle opened accounts with nine different companies. Many of them gave her VIP status, which comes with special perks and free gifts. She was invited to sports events and given vouchers to spend on shopping, as well as gambling. \"A message would pop up on your account offering more money to gamble with. Looking back, I just feel like I had my eyes shut.\" Michelle worked as an independent financial adviser, earning up to £25,000 a year.  She sees the irony in that now.   When she had gambled all she had in the bank, she took out a loan without telling her partner, Chris, and borrowed tens of thousands from friends, saying it was for tax bills. Then she and Chris, a lorry driver, decided to sell the family home in Ash Vale, Surrey.  They were renting a larger house with a granny annexe for Michelle\\'s mother, whom Michelle had taken out of the care home. Initially they rented out their old home, but then decided to move permanently. Chris, who says he \"isn\\'t technically minded\", trusted Michelle to look after all the finances and their bank accounts, and she also dealt with the solicitor and estate agent. In 2016 the house sold for £440,000 - and it was when the sale completed that she made the fateful decision to say nothing about it.\"We found a buyer very quickly, but I kept lying about it and making excuses,\" says Michelle. \"And of course he trusted me - we\\'ve been together 30 years.\" Then, over the next five months, she gambled away every penny - most of it on online slots.Her mother died during that time and Michelle says that for that reason, or perhaps because of her addiction, her mind was in a fog.\"I can\\'t even remember my thought processes now,\" she says. \"I do remember feeling very panicky, and ashamed about lying. I think these online products mess with your brain really badly. They are designed to suck you in.\" Chris only found out the house had been sold when a friend told him she had spotted new people living in it. Then Michelle had to confess.\"I started shouting. I felt betrayed and then really livid,\" says Chris. \"I asked what made her do it? I didn\\'t even know that you could gamble online. I\\'ve never used a computer in my life, so I had no idea it was so easy to lose money like that very quickly.\"Chris was so angry he left, taking their nine-year-old daughter with him.\"He said, \\'I\\'m not coming back,\\'\" remembers Michelle. \"And then I just fell apart. I began drinking heavily. It was a breakdown.\" After spending a dismal Christmas apart from her family, she hit rock bottom, and in January 2017 she took an overdose. She was taken to hospital very ill with hepatitis - her liver had been damaged both by her drinking and by the pills. \"Unbelievably now, even from my hospital bed I managed to gamble,\" says Michelle.\"It wasn\\'t until I was told I had a one-in-three chance of survival that I finally had a rude awakening. I couldn\\'t believe how ill I was and how close to being homeless.\"In some ways, going to hospital was actually a godsend. Slowly all my feelings came back. I think I\\'d become very numb.\" She spent three weeks there. During that time Chris brought their daughter to visit, and slowly began to forgive her. Soon after she came out of hospital he moved back home.\"We had our daughter too and I thought we should keep ourselves together,\" says Chris. \"I didn\\'t want to split the family up just for the sake of a house. I still loved Michelle. It took a while to get over it, but now I have forgiven her. It\\'s done and dusted.\"  But it will have an impact on their future together. Michelle has had to give up her job as a financial adviser, and she and Chris won\\'t be able to get another mortgage, she says.\"We\\'ve got absolutely no chance of ever owning a property again. Unless I get some magical job or somehow save up the money, we\\'ll be renting for the rest of our lives.\"When Michelle gathered all the data, she found she had lost just short of £550,000 in less than three years.She has now stopped gambling but says she\\'s not the person she was. \"It\\'s about the turmoil and the way it changed you more than the money - even the house. It\\'s about the harm to oneself and others. I recovered from a gambling disorder, yes, but not from the chaos left behind.\"While she was gambling the proceeds of the house sale away, Michelle says only one of the nine companies she had signed up with offered her self-exclusion - which involves reporting yourself as a problem gambler, after which your account must be closed and any money in it returned. But she thinks that, when you are in the grip of a gambling addiction, self-policing may not work anyway. \"The problem is a lot of the time you feel partially shut down, so you can\\'t think straight.\"  The government is currently reviewing gambling laws. New restrictions have just been announced to make casino games safer, including an obligation on operators to clearly display the player\\'s total losses or wins during any online slots session.The time taken for the slots to spin must also be at least 2.5 seconds, and sounds or imagery giving the illusion of a win when the player has actually lost are now banned.At the same time, the Gambling Commission has banned \"reverse withdrawals\" which allowed players to change their mind and gamble with money they had previously decided to save.Labour MP Carolyn Harris, who co-leads the all-party Parliamentary group on gambling-related harm, says the new measures are a step in the right direction - but more needs to be done.\"The Gambling Commission must immediately look at stakes, or the amount you can wager, as there are no restrictions here and people are getting into very serious difficulties, particularly on online slot games which are highly addictive. We have recommended that a sensible limit would be £2, which is the same as land-based venues,\" she says.Brigid Simmons, chairwoman of the Betting and Gambling Council which represents the industry, told the BBC: \"We have already implemented a number of policies, from restrictions on advertising to a ban on credit cards. Every single company will be sending out, to their customers, safer gambling tools. Thirty million people gamble in this country and the vast majority of them do it safely and it is something that they enjoy doing.\"Although the industry introduced a voluntary ban on TV and radio ads - though not online ads - in the first nationwide lockdown, that ban is no longer in force. MPs called in June for all advertising to be banned, after hearing from women that daytime ads focusing on fun and friendship appeared to be aimed directly at them. Michelle would also like to see advertising banned, or at least not allowed before 10pm. \"Adverts have absolutely saturated TV,\" she says. \"It\\'s awful that you cannot escape it.\"Listen to a discussion about women and gambling on Radio 4\\'s Woman\\'s HourGamCare operates the National Gambling Helpline, providing information, advice and support for anyone affected by gambling problems - advisers are available 24 hours a day on Freephone 0808 8020 133 or via web chat Gordon Moody Association provides advice, education and therapeutic support to problem gamblers, as well as an intensive residential treatment programme - for more information visit the website or call 01384 241292Gamstop is a free service that lets you put controls in place to help restrict your gamblingFurther sources of support can be found on the BBC Action LineAt its worst, Kelly\\'s gambling addiction cost her £500 a day. In recovery now, she fears that online ads could be enough to cause people like her to relapse. \\'I\\'m being bombarded by gambling ads\\''), ('Sia says sorry to autism community for controversial film Music - BBC News', 'Australian pop star Sia has apologised for casting a neurotypical actor as a nonverbal autistic girl in her film Music, and for scenes depicting the use of restraints on autistic people.Her directorial debut Music attracted controversy online on Wednesday after it was nominated for two Golden Globes.It was criticised for the casting of dancer Maddie Ziegler in an autistic role, as well as for restraint scenes.Sia has now said a restraint warning would be added to the film\\'s start.Variety said the singer had also tweeted that all restraint scenes will be removed from public screenings of the film. \"I plan to remove the restraint scenes from all future printings. I listened to the wrong people and that is my responsibility, my research was clearly not thorough enough, not wide enough,\" she tweeted, shortly before deleting her account which had about 6m followers.\"I promise, have been listening. The motion picture Music will, moving forward, have this warning at the head of the movie,\" she said. She added: \"Music in no way condones or recommends the use of restraint on autistic people. There are autistic occupational therapists that specialise in sensory processing who can be consulted to explain safe ways to provide proprioceptive, deep-pressure feedback to help w[ith] meltdown safety.\"On Wednesday, actress Ruth Madeley, who has spina bifida, expressed solidarity with \"every #ActuallyAutistic person who is rightly devastated to see #Sia\"s Music nominated\".\"Disabled people are needed in the industry now more than ever to help change the narrative we\\'re all so sick of,\" tweeted the actress, who was in 2019 BBC drama Years and Years and has featured in BBC One\\'s Celebrity Best Home Cook. A tweet from GhillieGuide, an \"austistic self-advocate\", said the use of restraint in the film brought back \"traumatic memories\". The film, written and directed by Sia, also stars Kate Hudson and Leslie Odom Jr, and will be released in certain cinemas around the world for one night only next week.It received a Golden Globe nomination for best picture in the musical or comedy category, along with Kate Hudson, who got a nod for best actress. In November a petition to cancel the film, which Sia described as \"a love letter to caregivers and to the autism community,\" went up online.Speaking recently on the Grounded with Louis Theroux podcast, Sia agreed with him that the challenges and experiences for people with autism are varied, and said she wanted that to be reflected on screen.\"Sometimes it\\'s coupled with savant capabilities and other times it is not,\" she said. \"If you went and met everybody in the world who is on the autism spectrum you would never find two the same.\"Follow us on Facebook or on Twitter @BBCNewsEnts. If you have a story suggestion email entertainment.news@bbc.co.uk.')]\n"
          ],
          "name": "stdout"
        }
      ]
    },
    {
      "cell_type": "code",
      "metadata": {
        "id": "KjON-30T3Ziy"
      },
      "source": [
        ""
      ],
      "execution_count": null,
      "outputs": []
    }
  ]
}