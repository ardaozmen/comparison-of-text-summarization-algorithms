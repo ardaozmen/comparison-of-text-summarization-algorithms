{
  "nbformat": 4,
  "nbformat_minor": 0,
  "metadata": {
    "colab": {
      "name": "turkish-data-wwf.ipynb",
      "provenance": [],
      "collapsed_sections": []
    },
    "kernelspec": {
      "name": "python3",
      "display_name": "Python 3"
    }
  },
  "cells": [
    {
      "cell_type": "markdown",
      "metadata": {
        "id": "Ko6HSiMx2LkH"
      },
      "source": [
        "# **Scraping Turkish Data for Testing**"
      ]
    },
    {
      "cell_type": "code",
      "metadata": {
        "id": "6eprQG8KHfY7"
      },
      "source": [
        "#Required libraries\n",
        "import requests\n",
        "from bs4 import BeautifulSoup"
      ],
      "execution_count": null,
      "outputs": []
    },
    {
      "cell_type": "code",
      "metadata": {
        "id": "ghkSDucdHsEU"
      },
      "source": [
        "#Request to server\n",
        "r = requests.get('https://www.wwf.org.tr/calismalarimiz/yaban_hayati/')"
      ],
      "execution_count": null,
      "outputs": []
    },
    {
      "cell_type": "code",
      "metadata": {
        "id": "Yo7RCyiBIKBO"
      },
      "source": [
        "#Convert to html content\n",
        "html_doc = r.content"
      ],
      "execution_count": null,
      "outputs": []
    },
    {
      "cell_type": "code",
      "metadata": {
        "id": "cHpvTYgwIDUn"
      },
      "source": [
        "#Creating bs4 object\n",
        "soup = BeautifulSoup(html_doc, 'html.parser')"
      ],
      "execution_count": null,
      "outputs": []
    },
    {
      "cell_type": "code",
      "metadata": {
        "colab": {
          "base_uri": "https://localhost:8080/"
        },
        "id": "7E-v6PBWUrEk",
        "outputId": "e127a9f7-373e-4739-a6a3-e941a9590f6e"
      },
      "source": [
        "#Scraping paragraphs\n",
        "for i in soup.find_all('p', limit=2):\n",
        "  print(i.get_text())"
      ],
      "execution_count": null,
      "outputs": [
        {
          "output_type": "stream",
          "text": [
            "Ülkemizde 401 tür yok olma tehlikesi altında!\n",
            "Gezegenimizi, yaşamlarımızı birçok yönden zenginleştiren milyonlarca bitki ve hayvan türüyle paylaşıyoruz.\n",
            "Bu yaşam ağı, bize su, temiz hava, verimli topraklar ve istikrarlı bir iklim gibi güvenli doğal şartları sağlıyor. Bize yiyecek, ilaç ve malzeme veriyor ve milyonlarca işi destekliyor, hayatımızı her yönden zenginleştiriyor.\n",
            "Ancak gezegenimizin yaban hayatı krizde: 1970’lerden bu yana türler endişe verici şekilde hızla tükeniyor. Pek çok bilim insanı, giderek artan tüketim ve bunun sonucunda yükselen enerji, arazi ve su talebinin bizleri yeni bir jeolojik çağa sürüklediğine inanıyor.\n",
            "Biyolojik değerleriyle doğa, modern toplumun yapı taşlarını oluşturan çok sayıda hizmet sunuyor; ancak hem doğa hem de biyolojik çeşitlilik endişe verici derecede yok olma sinyalleri veriyor.\n",
            "\n",
            "Biyolojik çeşitliliğin azalma eğilimini tersine çevirmeli ve yaban hayatı ile insanın birlikte büyüdüğü bir gelecek oluşturmalıyız.\n",
            "\n"
          ],
          "name": "stdout"
        }
      ]
    },
    {
      "cell_type": "code",
      "metadata": {
        "colab": {
          "base_uri": "https://localhost:8080/"
        },
        "id": "tJLg0gG92mSM",
        "outputId": "f893966f-4b33-4f4a-aa85-34ecd47bcd3f"
      },
      "source": [
        "#Scraping paragraphs\n",
        "for i in soup.find_all('p', limit=2)[1:2]:\n",
        "  print(i.find_next('div', {'class':'col-md-8 col-md-offset-2'}).get_text())"
      ],
      "execution_count": null,
      "outputs": [
        {
          "output_type": "stream",
          "text": [
            "\n",
            "KAYBOLAN TÜRLER\n",
            "Yaban hayatı her kıtada, her okyanusta, karada ve su altında kayboluyor. Onun kaderi sadece bir türün elinde: Homo sapiens.\n",
            "Türlerin birbirleri ile köklü bağı, birbirlerine olan bağımlılığı büyük karmaşık sistemler dizini ile ayakta durmakta.\n",
            "Bitkilerin devamlılığını sağlayan arılardan, insan hayatı için önemli ilaç kaynağı olan bitkilere; yuva yapıp yeni nesiller üretebilmek için yaşlı ağaçlara gereksinim duyan ağaçkakanlardan, balıklar için korunaklı alanlar, besin ve oksijen sağlayan deniz çayırlarına milyonlarca basit ve karmaşık bağlar bulunmakta.\n",
            "İnsan faaliyetlerinin taşıma kapasitelerini zorlayan boyutlara ulaşması ile yaban hayatı, yaşam alanlarının kayıpları, iklim değişikliği gibi büyük küresel sorunlarla büyük kayıplar yaşamaya başladı.\n",
            "Geniş doğal alanlar tarıma, kentsel büyümeye, madenciliğe ve altyapıya yeniliyor, kirliliğin etkilerinden muzdarip, istilacı türlere karşı kırılganlaşıyor.\n",
            "Türlerin yok oluş hızı doğal döngünün çok ötesinde! Öyle ki tükenenler listesi yapmaya başladık.\n",
            "\n",
            "\n"
          ],
          "name": "stdout"
        }
      ]
    },
    {
      "cell_type": "code",
      "metadata": {
        "id": "pNOpB7qT3x3n"
      },
      "source": [
        "#All in one function\n",
        "import requests\n",
        "from bs4 import BeautifulSoup\n",
        "\n",
        "r = requests.get('https://www.wwf.org.tr/calismalarimiz/yaban_hayati/')\n",
        "html_doc = r.content\n",
        "soup = BeautifulSoup(html_doc, 'html.parser')\n",
        "\n",
        "for i in soup.find_all('p', limit=2)[1:2]:\n",
        "  doc = i.find_next('div', {'class':'col-md-8 col-md-offset-2'}).get_text()\n",
        "  doc_tr = doc.replace('\\n',' ')"
      ],
      "execution_count": null,
      "outputs": []
    },
    {
      "cell_type": "code",
      "metadata": {
        "colab": {
          "base_uri": "https://localhost:8080/",
          "height": 124
        },
        "id": "kD2D-QbI7xfD",
        "outputId": "8593f4ad-5ebf-426c-f3d4-deb37b218a31"
      },
      "source": [
        "doc_tr"
      ],
      "execution_count": null,
      "outputs": [
        {
          "output_type": "execute_result",
          "data": {
            "application/vnd.google.colaboratory.intrinsic+json": {
              "type": "string"
            },
            "text/plain": [
              "' KAYBOLAN TÜRLER Yaban hayatı her kıtada, her okyanusta, karada ve su altında kayboluyor. Onun kaderi sadece bir türün elinde: Homo sapiens. Türlerin birbirleri ile köklü bağı, birbirlerine olan bağımlılığı büyük karmaşık sistemler dizini ile ayakta durmakta. Bitkilerin devamlılığını sağlayan arılardan, insan hayatı için önemli ilaç kaynağı olan bitkilere; yuva yapıp yeni nesiller üretebilmek için yaşlı ağaçlara gereksinim duyan ağaçkakanlardan, balıklar için korunaklı alanlar, besin ve oksijen sağlayan deniz çayırlarına milyonlarca basit ve karmaşık bağlar bulunmakta. İnsan faaliyetlerinin taşıma kapasitelerini zorlayan boyutlara ulaşması ile yaban hayatı, yaşam alanlarının kayıpları, iklim değişikliği gibi büyük küresel sorunlarla büyük kayıplar yaşamaya başladı. Geniş doğal alanlar tarıma, kentsel büyümeye, madenciliğe ve altyapıya yeniliyor, kirliliğin etkilerinden muzdarip, istilacı türlere karşı kırılganlaşıyor. Türlerin yok oluş hızı doğal döngünün çok ötesinde! Öyle ki tükenenler listesi yapmaya başladık.  '"
            ]
          },
          "metadata": {
            "tags": []
          },
          "execution_count": 8
        }
      ]
    },
    {
      "cell_type": "code",
      "metadata": {
        "id": "TGphoTw47zxb"
      },
      "source": [
        ""
      ],
      "execution_count": null,
      "outputs": []
    }
  ]
}