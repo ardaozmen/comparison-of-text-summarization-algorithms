{
  "nbformat": 4,
  "nbformat_minor": 0,
  "metadata": {
    "colab": {
      "name": "summary_data_EDA.ipynb",
      "provenance": [],
      "collapsed_sections": []
    },
    "kernelspec": {
      "name": "python3",
      "display_name": "Python 3"
    },
    "language_info": {
      "name": "python"
    }
  },
  "cells": [
    {
      "cell_type": "markdown",
      "metadata": {
        "id": "6yB_QKSC0q3Q"
      },
      "source": [
        "This notebook created for comparison of text summarization datas."
      ]
    },
    {
      "cell_type": "markdown",
      "metadata": {
        "id": "2KnRVXTR098I"
      },
      "source": [
        "## **EDA Notebook**"
      ]
    },
    {
      "cell_type": "code",
      "metadata": {
        "colab": {
          "base_uri": "https://localhost:8080/",
          "height": 202
        },
        "id": "71Q-ZrYmabqu",
        "outputId": "6c7081c9-3442-4638-f348-9fc3053f1ab6"
      },
      "source": [
        "#Reading the data\n",
        "import pandas as pd\n",
        "\n",
        "df = pd.read_csv('turkce_haberler.csv')\n",
        "df.head()"
      ],
      "execution_count": null,
      "outputs": [
        {
          "output_type": "execute_result",
          "data": {
            "text/html": [
              "<div>\n",
              "<style scoped>\n",
              "    .dataframe tbody tr th:only-of-type {\n",
              "        vertical-align: middle;\n",
              "    }\n",
              "\n",
              "    .dataframe tbody tr th {\n",
              "        vertical-align: top;\n",
              "    }\n",
              "\n",
              "    .dataframe thead th {\n",
              "        text-align: right;\n",
              "    }\n",
              "</style>\n",
              "<table border=\"1\" class=\"dataframe\">\n",
              "  <thead>\n",
              "    <tr style=\"text-align: right;\">\n",
              "      <th></th>\n",
              "      <th>Unnamed: 0</th>\n",
              "      <th>Headline</th>\n",
              "      <th>Text</th>\n",
              "    </tr>\n",
              "  </thead>\n",
              "  <tbody>\n",
              "    <tr>\n",
              "      <th>0</th>\n",
              "      <td>0</td>\n",
              "      <td>Günlük burç yorumları 2 Ocak 2020 Perşembe (Ha...</td>\n",
              "      <td>Günlük burç yorumları ile aşk, para, aile ve s...</td>\n",
              "    </tr>\n",
              "    <tr>\n",
              "      <th>1</th>\n",
              "      <td>1</td>\n",
              "      <td>Arnavutköy'de kumaş fabrikasının depo bölümünd...</td>\n",
              "      <td>İstanbul Arnavutköy'de 4 katlı kumaş fabrikası...</td>\n",
              "    </tr>\n",
              "    <tr>\n",
              "      <th>2</th>\n",
              "      <td>2</td>\n",
              "      <td>Altın üretiminde Cumhuriyet tarihinin rekoru k...</td>\n",
              "      <td>Altın Madencileri Derneği Başkanı Hasan Yücel,...</td>\n",
              "    </tr>\n",
              "    <tr>\n",
              "      <th>3</th>\n",
              "      <td>3</td>\n",
              "      <td>Aleyna Tilki, kırmızı kıyafetiyle Instagram'ı ...</td>\n",
              "      <td>Yaptığı açıklamalar ve paylaşımlarla gündemden...</td>\n",
              "    </tr>\n",
              "    <tr>\n",
              "      <th>4</th>\n",
              "      <td>4</td>\n",
              "      <td>Çıkan kavgada kalbinden bıçaklanarak öldürüldü</td>\n",
              "      <td>Balıkesir'de 22 yaşındaki Mert Türküresin, tar...</td>\n",
              "    </tr>\n",
              "  </tbody>\n",
              "</table>\n",
              "</div>"
            ],
            "text/plain": [
              "   Unnamed: 0  ...                                               Text\n",
              "0           0  ...  Günlük burç yorumları ile aşk, para, aile ve s...\n",
              "1           1  ...  İstanbul Arnavutköy'de 4 katlı kumaş fabrikası...\n",
              "2           2  ...  Altın Madencileri Derneği Başkanı Hasan Yücel,...\n",
              "3           3  ...  Yaptığı açıklamalar ve paylaşımlarla gündemden...\n",
              "4           4  ...  Balıkesir'de 22 yaşındaki Mert Türküresin, tar...\n",
              "\n",
              "[5 rows x 3 columns]"
            ]
          },
          "metadata": {
            "tags": []
          },
          "execution_count": 48
        }
      ]
    },
    {
      "cell_type": "code",
      "metadata": {
        "colab": {
          "base_uri": "https://localhost:8080/"
        },
        "id": "_IhY0Ms6eNis",
        "outputId": "3ea772d3-e32d-4c8c-a26b-c1b84e20899f"
      },
      "source": [
        "df.shape"
      ],
      "execution_count": null,
      "outputs": [
        {
          "output_type": "execute_result",
          "data": {
            "text/plain": [
              "(138236, 3)"
            ]
          },
          "metadata": {
            "tags": []
          },
          "execution_count": 49
        }
      ]
    },
    {
      "cell_type": "code",
      "metadata": {
        "colab": {
          "base_uri": "https://localhost:8080/"
        },
        "id": "7GiMSYU3fDyP",
        "outputId": "e5cfb3c6-8889-4f48-e4b1-d93a3f91e746"
      },
      "source": [
        "df.dtypes"
      ],
      "execution_count": null,
      "outputs": [
        {
          "output_type": "execute_result",
          "data": {
            "text/plain": [
              "Unnamed: 0     int64\n",
              "Headline      object\n",
              "Text          object\n",
              "dtype: object"
            ]
          },
          "metadata": {
            "tags": []
          },
          "execution_count": 50
        }
      ]
    },
    {
      "cell_type": "code",
      "metadata": {
        "colab": {
          "base_uri": "https://localhost:8080/"
        },
        "id": "GQtMxgRBbwWX",
        "outputId": "d8836043-3514-42bb-891c-5933a8962e5f"
      },
      "source": [
        "df.info()"
      ],
      "execution_count": null,
      "outputs": [
        {
          "output_type": "stream",
          "text": [
            "<class 'pandas.core.frame.DataFrame'>\n",
            "RangeIndex: 138236 entries, 0 to 138235\n",
            "Data columns (total 3 columns):\n",
            " #   Column      Non-Null Count   Dtype \n",
            "---  ------      --------------   ----- \n",
            " 0   Unnamed: 0  138236 non-null  int64 \n",
            " 1   Headline    138236 non-null  object\n",
            " 2   Text        138236 non-null  object\n",
            "dtypes: int64(1), object(2)\n",
            "memory usage: 3.2+ MB\n"
          ],
          "name": "stdout"
        }
      ]
    },
    {
      "cell_type": "code",
      "metadata": {
        "colab": {
          "base_uri": "https://localhost:8080/"
        },
        "id": "KFdv73ifeUxz",
        "outputId": "e475dec5-f756-439c-e362-4120cf869513"
      },
      "source": [
        "df['Headline'].value_counts()"
      ],
      "execution_count": null,
      "outputs": [
        {
          "output_type": "execute_result",
          "data": {
            "text/plain": [
              "Altını olanlar dikkat! İşte gram, çeyrek ve cumhuriyet altını fiyatları                  8600\n",
              "Dolar güne yükselişle başladı! İşte son durum                                            1225\n",
              "Altını Olanlar Dikkat! İşte Gram, Çeyrek ve Cumhuriyet Altını Fiyatları                   784\n",
              "Dolar güne düşüşle başladı! İşte son durum                                                361\n",
              "Dolarda hareketli anlar yaşanıyor! İşte son durum                                         306\n",
              "                                                                                         ... \n",
              "Süper Kupa'yı Beşiktaş'ı 2-1 Yenen Atiker Konyaspor Kazandı                                 1\n",
              "Akşener'in \"Okçuluk Vakfı\" İddiasına Bilal Erdoğan'dan Yanıt: Kendimizi Zor Tutuyoruz       1\n",
              "Haziran ayında göle gitmek isteyenler, karda araçlarıyla mahsur kaldı                       1\n",
              "İntihar Eden Emniyet Müdürünün Cenazesine, Eşinin Bakışları Damga Vurdu                     1\n",
              "F.Bahçe'den müthiş geri dönüş! Trabzonspor'u net skorla mağlup ettiler                      1\n",
              "Name: Headline, Length: 125441, dtype: int64"
            ]
          },
          "metadata": {
            "tags": []
          },
          "execution_count": 52
        }
      ]
    },
    {
      "cell_type": "code",
      "metadata": {
        "colab": {
          "base_uri": "https://localhost:8080/"
        },
        "id": "RW72ukZ7flxg",
        "outputId": "5ba37205-9ab4-4338-dcec-0928e1415e5f"
      },
      "source": [
        "df['Text'].value_counts()"
      ],
      "execution_count": null,
      "outputs": [
        {
          "output_type": "execute_result",
          "data": {
            "text/plain": [
              "\\nGram altın, dün altının ons fiyatındaki yükselişe paralel değer kazanarak, günü yüzde 0,5 yükselişle 306,2 liradan tamamladı. Yeni güne de kazançla başlayan altının gram fiyatı, saat 10.55 itibarıyla önceki kapanışın yüzde 0,1 üzerinde 306,5 liradan işlem görüyor. \\nÇEYREK VE CUMHURİYET ALTINI NE KADAR?Aynı dakikalarda Kapalıçarşı'da çeyrek altın 503 lira, cumhuriyet altını da 2.055 liradan satılıyor. Altının ons fiyatı ise dünkü kapanış seviyesinin hafif altında 1.575 dolardan işlem görüyor.\\n\\n'GRAM ALTINDA 310 LİRA DİRENÇ KONUMUNDA'Analistler, Çin'de yeni tip koronavirüs salgınına ilişkin haber akışının, risk algısının yüksek seyretmesine neden olduğunu belirterek, hastalığın tedavisine ilişkin herhangi bir gelişmenin kaydedilememiş olmasının tedirginliği artırdığını ifade etti. Suriye'ye ilişkin jeopolitik risklerin de altın fiyatlarını yukarı yönlü destekleyen başlıca etken olduğunu dile getiren analistler, bugün yurt içinde Türkiye Cumhuriyet Merkez Bankası (TCMB) tarafından yayınlanacak beklenti anketi, yurt dışında ise Euro Bölgesi'nde büyüme ve ABD'de sanayi üretimi verilerinin takip edileceğini kaydetti.\\nAnalistler, teknik açıdan altının onsunda 1.562 doların destek, 1.577 ve 1.589 dolar seviyelerinin direnç konumunda bulunduğunu belirterek, gram altında ise 310 liranın direnç olarak dikkati çektiğini söyledi.\\nGÜNCEL ALTIN FİYATLARINI GÖRMEK İÇİN TIKLAYINKaynak: Anadolu Ajansı\\n                                                                                                                                                                                                                                                                                                                                                                                                                                                                                                                                                                                                                                                                                                                                                                                                                                                                                                                                                                                                                                                                                                                                                                                                                                                                                                                                                                                                                                                                                                                                                                                                                                                                                                                                                                                                                                                                                                                                   100\n",
              "\\nDün, ons altının fiyatı ve dolar kurunun satıcılı seyretmesiyle yüzde 0,6 değer kaybeden gram altın, günü 256,5 liradan tamamladı. Gram altın, güne düşüşle başlamasının ardından saat 10.30 itibarıyla önceki kapanışına göre yüzde 0,6 düşüşle 254,9 lira seviyesinde dengelendi. \\nÇEYREK VE CUMHURİYET ALTINI NE KADAR?Kapalıçarşı'da çeyrek altın 419 lira, cumhuriyet altını bin 706 liradan satılıyor. Asya piyasalarında satıcılı bir seyir izleyen ons altın, şu dakikalarda yüzde 0,4 azalışla bin 413 dolardan işlem görüyor.\\n\\n'ONS ALTINDA BİN 423 DOLAR DİRENÇ KONUMUNDA'Analistler, risk algısındaki düşüşün devam ettiğini ancak jeopolitik risklerin yatırımcılar tarafından dikkatle izlendiğini belirtti. Bugün yurt içinde Haziran ayı reel efektif döviz kuru, haftalık para ve banka istatistikleri, yurt dışında ise Euro Bölgesi'nde perakende satış verilerinin takip edileceğini bildiren analistler, teknik açıdan ons altında bin 400 doların destek, bin 423 doların direnç konumunda olduğunu kaydetti.\\nGÜNCEL ALTIN FİYATLARINI GÖRMEK İÇİN TIKLAYINKaynak: Anadolu Ajansı\\n                                                                                                                                                                                                                                                                                                                                                                                                                                                                                                                                                                                                                                                                                                                                                                                                                                                                                                                                                                                                                                                                                                                                                                                                                                                                                                                                                                                                                                                                                                                                                                                                                                                                                                                                                                                                                                                                                                                                                                                                                                                                                                                                                                                                                                                                                           100\n",
              "\\nGram altın, cuma günü dolar kurundaki düşüşe rağmen ons altındaki yükselişe paralel değer kazanarak günü önceki kapanışın yüzde 0,3 üzerinde, 270,5 liradan tamamladı. Bu haftaya düşüşle başlayan altının gram fiyatı, saat 10.50 itibarıyla önceki kapanışın yüzde 0,5 altında, 269,2 liradan işlem görüyor. \\nÇEYREK VE CUMHURİYET ALTINI NE KADAR?Aynı dakikalarda Kapalıçarşı'da çeyrek altın 439 lira, cumhuriyet altını da 1.797 liradan satılıyor. Altının ons fiyatı ise şu dakikalarda yüzde 0,4 azalışla 1.458 dolar seviyesinde seyrediyor.\\n\\n'GRAM ALTINDA 267-273 LİRA BANDI İZLENECEK'Analistler, ABD ile Çin arasında devam eden ticaret görüşmelerine ilişkin gelişmelerin altın fiyatları üzerinde belirleyici olmaya devam edeceğini söyledi. Bugün Euro Bölgesi, Almanya ve ABD'de imalat sanayi Satınalma Yöneticileri Endeksi başta olmak üzere yoğun veri gündemi ve İngiltere'de başlayacak NATO Liderler Toplantısı'ndan gelecek haber akışının takip edileceğini bildiren analistler, teknik açıdan altının ons fiyatında 1.450 dolar seviyesinin destek konumunda olduğunu, gram altında ise 267-273 lira bandının izleneceğini ifade etti.\\nGÜNCEL ALTIN FİYATLARINI GÖRMEK İÇİN TIKLAYIN##12675842##\\nKaynak: Anadolu Ajansı\\n                                                                                                                                                                                                                                                                                                                                                                                                                                                                                                                                                                                                                                                                                                                                                                                                                                                                                                                                                                                                                                                                                                                                                                                                                                                                                                                                                                                                                                                                                                                                                                                                                                                                                                                                                                                                                                                                                                                                                                                                                                                                                                                                            100\n",
              "\\nGram altın, dün altının ons fiyatı ve dolar kurundaki artışın etkisiyle yüzde 0,6 değer kazanarak günü 271,8 liradan tamamladı. Yeni güne yükselişle başlayan altının gram fiyatı, saat 11.30 itibarıyla önceki kapanışın hemen üzerinde, 271,9 liradan işlem görüyor.\\nÇEYREK VE CUMHURİYET ALTINI NE KADAR?Aynı dakikalarda Kapalıçarşı'da çeyrek altın 442 lira, cumhuriyet altını da 1.811 liradan satılıyor. Altının ons fiyatı ise şu dakikalarda önceki kapanışın yüzde 0,3 altında 1.466 dolar seviyesinde seyrediyor.\\n\\nPİYASADA TEMKİNLİ DURUŞ SÜRÜYORAnalistler, ABD ile Çin arasında devam eden ticaret görüşmelerinde ABD tarafından gelen olumlu açıklamalara rağmen piyasada temkinli duruşun korunduğunu bildirdi.ABD Merkez Bankası (Fed) Başkanı Jerome Powell'ın Kongre'de yaptığı sunumda \"Bu ortamda resesyon olasılığının yüksek olduğunu düşünmek için bir sebep yok.\" ifadelerini kullandığını belirten analistler, Powell'ın bu açıklamalarının para politikasında halihazırdaki tutumun devam edeceği şeklinde yorumlandığını söyledi.\\nAnalistler, bugün yurt içinde Türkiye Cumhuriyet Merkez Bankasının (TCMB) beklenti anketi, yurt dışında ise Euro Bölgesi'nde Tüketici Fiyat Endeksi ve ABD'de sanayi üretimi başta olmak üzere yoğun veri gündeminin takip edileceğini bildirdi.\\nGRAM ALTINDA 267 LİRA DESTEK OLARAK ÖNE ÇIKIYORTeknik açıdan altının ons fiyatında 1.447 doların destek, 1.480 doların direnç konumunda olduğunu kaydeden analistler, gram altında ise 267 liranın destek olarak öne çıktığını söyledi.\\nGÜNCEL ALTIN FİYATLARINI GÖRMEK İÇİN TIKLAYINKaynak: Anadolu Ajansı\\n                                                                                                                                                                                                                                                                                                                                                                                                                                                                                                                                                                                                                                                                                                                                                                                                                                                                                                                                                                                                                                                                                                                                                                                                                                                                                                                                                                                                                                                                                                                                                                                                                                                                                                                                                                     100\n",
              "\\nGram altın, dün, altının ons fiyatındaki artışa paralel değer kazanarak günü önceki kapanışın yüzde 0,1 üzerinde 304,3 liradan tamamladı. Yeni güne yatay seyirle başlayan altının gram fiyatı, saat 10.45 itibarıyla önceki kapanışın hafif altında 304,2 liradan işlem görüyor. \\nÇEYREK VE CUMHURİYET ALTINI NE KADAR?Aynı dakikalarda Kapalıçarşı'da çeyrek altın 494 lira, cumhuriyet altını da 2.023 liradan satılıyor. Altının ons fiyatı ise şu sıralarda önceki kapanışa göre yüzde 0,3 düşüşle 1.570 dolardan işlem görüyor.\\n\\n'GRAM ALTINDA 300-305 LİRA BANDI İZLENECEK'Analistler, koronavirüs salgınına ilişkin endişelerin devam etmesine karşın Çin'de ekonomi yönetiminin likiditeyi artırıcı önlemler alması ve ABD'de beklentilerden iyi gelen makroekonomik verilerin, görece riskli varlıklara talebi artırdığını söyledi. Artan risk iştahına paralel altının ons fiyatının sınırlı da olsa gerilediğini belirten analistler, gram altında ise Suriye'ye ilişkin gelişmelerin dolar kurunu yukarı yönlü desteklemesinin etkisiyle kayıpların daha sınırlı kaldığını ifade etti.\\nBugün, İngiltere'de 4. çeyrek büyüme ve sanayi üretimi ile ABD Merkez Bankası Başkanı Jerome Powell'ın Kongre'de yapacağı sunumun takip edileceğini bildiren analistler, teknik açıdan ons altında 1.540 doların destek, 1.575 doların direnç konumunda bulunduğunu, gram altında ise 300-305 lira bandının izleneceğini kaydetti.\\nGÜNCEL ALTIN FİYATLARINI GÖRMEK İÇİN TIKLAYINKaynak: Anadolu Ajansı\\n                                                                                                                                                                                                                                                                                                                                                                                                                                                                                                                                                                                                                                                                                                                                                                                                                                                                                                                                                                                                                                                                                                                                                                                                                                                                                                                                                                                                                                                                                                                                                                                                                                                                                                                                                                                                                                                                                       100\n",
              "                                                                                                                                                                                                                                                                                                                                                                                                                                                                                                                                                                                                                                                                                                                                                                                                                                                                                                                                                                                                                                                                                                                                                                                                                                                                                                                                                                                                                                                                                                                                                                                                                                                                                                                                                                                                                                                                                                                                                                                                                                                                                                                                                                                                                                                                                                                                                                                                                                                                                                                                                                                                                                                                                                                                                                                                                                                                                                                                                                                                                                                                                                                                                                                                                                                                                                                                                                                                         ... \n",
              "\\nAlmanya'nın Nürnberg kentinde gerçekleşen 44. Uluslararası Nürnberg Silah Fuarı'nı ziyaret eden, geçmişte bir tıraş bıçağı reklamıyla ünlenmiş Ali Desidero lakaplı oyuncu, özel güvenlik şirketi sahibi ve silah uzmanı Yıldırım Memişoğlu, Türk savunma sanayinin çok iyi durumda olduğunu belirterek, silahlarımızın dünya ile yarışacak seviyeye geldiğini söyledi.\\nMKE SİLAHLARINI DENEDİ\\n\\nFuardaki Makine Kimya Kurumu standını ziyaret eden Yıldırım Memişoğlu, burada MKE Avrupa temsilcisi Avni Lütfi Boz'dan bilgi aldı ve özellikle Bora 12 keskin nişancı tüfeğini beğendiğini dile getirdi.\\nALİ DESİDERO KİMDİR?\\nYıldırım Memişoğlu, 1973 yılında yılında İstanbul'da doğdu. ABD ve İngiltere'de koruma ve güvenlik konularında Smith & Wesson, Hekler & Koch, Asis gibi eğitim kurumlarında eğitim gördü. Bir zamanlar yayınlanan tıraş bıçağı reklamlarında Ali Desidero lakabıyla ünlenen Yıldırım Memişoğlu, bir güvenlik şirketi sahibi. 2006 yılında Hayatımın Kadınısın isimli dizide Necdet karakteri ile oyunculuğa adım atan Memişoğlu, birçok dizide rol aldı ve halen aktif olarak oyunculuğa devam etmekte.\\n2013-2014 yılları arasında Kurtlar Vadisi Pusu dizisinde Poyraz karakterini canlandıran Memişoğlu, son olarak 2014 ile 2016 arasında yayınlanan Kertenkele isimli dizide Deli Kenan karakterini canlandırdı.\\nKaynak: Demirören Haber Ajansı\\n                                                                                                                                                                                                                                                                                                                                                                                                                                                                                                                                                                                                                                                                                                                                                                                                                                                                                                                                                                                                                                                                                                                                                                                                                                                                                                                                                                                                                                                                                                                                                                                                                                                                                                                                                                                                                                                                                                                                                                                                                1\n",
              "Erdoğan'a suikast timinin başında olan darbeci Zekeriya Kuzu'nun oğlu Muhammet Emrah Kuzu'nun da 15 Temmuz'da görev aldığı, üs komutanının korumalığını ve şoförlüğünü yaptığı oraya çıktı.                                                                                                                                                                                                                                                                                                                                                                                                                                                                                                                                                                                                                                                                                                                                                                                                                                                                                                                                                                                                                                                                                                                                                                                                                                                                                                                                                                                                                                                                                                                                                                                                                                                                                                                                                                                                                                                                                                                                                                                                                                                                                                                                                                                                                                                                                                                                                                                                                                                                                                                                                                                                                                                                                                                                                                                                                                                                                                                                                                                                                                                                                                                                                                                                                 1\n",
              "\\nTürkiye İstatistik Kurumu (TÜİK), 2020 nisan dönemi işgücü istatistiklerini açıkladı. Buna göre; Türkiye genelinde 15 ve daha yukarı yaştakilerde işsiz sayısı 2020 yılı nisan döneminde geçen yılın aynı dönemine göre 427 bin kişi azalarak 3 milyon 775 bin kişi oldu. İşsizlik oranı 0,2 puanlık azalış ile yüzde 12,8 seviyesinde gerçekleşti. Tarım dışı işsizlik oranı 0,1 puanlık azalış ile yüzde 14,9 oldu.\\nİSTİHDAM ORANI YÜZDE 41,1 OLDUİstihdam edilenlerin sayısı 2020 yılı nisan döneminde, bir önceki yılın aynı dönemine göre 2 milyon 585 bin kişi azalarak 25 milyon 614 bin kişi, istihdam oranı ise 4,9 puanlık azalış ile yüzde 41,1 oldu. Bu dönemde, istihdam edilenlerin sayısı tarım sektöründe 491 bin, sanayi sektöründe 209 bin, inşaat sektöründe 361 bin, hizmet sektöründe 1 milyon 524 bin kişi azaldı. İstihdam edilenlerin yüzde 17,5'i tarım, yüzde 20,9'u sanayi, yüzde 4,9'u inşaat, yüzde 56,7'si ise hizmet sektöründe yer aldı.\\n\\nİŞ GÜCÜNE KATILMA ORANI YÜZDE 47,2 OLARAK GERÇEKLEŞTİİş gücü 2020 yılı nisan döneminde bir önceki yılın aynı dönemine göre 3 milyon 13 bin kişi azalarak 29 milyon 388 bin kişi, iş gücüne katılma oranı ise 5,7 puanlık azalış ile yüzde 47,2 olarak gerçekleşti.\\nKAYIT DIŞI ÇALIŞANLARIN ORANI YÜZDE 28,7Nisan 2020 döneminde herhangi bir sosyal güvenlik kuruluşuna bağlı olmadan çalışanların toplam çalışanlar içindeki payını gösteren kayıt dışı çalışanların oranı, bir önceki yılın aynı dönemine göre 5,5 puan azalarak yüzde 28,7 olarak gerçekleşti. Tarım dışı sektörde kayıt dışı çalışanların oranı bir önceki yılın aynı dönemine göre 5,8 puan azalarak yüzde 17,3 oldu.\\n25-64 YAŞ GRUBUNDA İŞSİZLİK ORANI YÜZDE 13,115-64 yaş grubunda işsizlik oranı bir önceki yılın aynı dönemine göre 0,2 puan azalışla yüzde 13,1, tarım dışı işsizlik oranı ise 0,1 puanlık azalışla yüzde 15,0 oldu. Bu yaş grubunda istihdam oranı 5,1 puanlık azalışla yüzde 45,5, işgücüne katılma oranı ise 6 puanlık azalışla yüzde 52,4 oldu.\\nGENÇ NÜFUSTA İŞSİZLİK ORANI YÜZDE 24,415-24 yaş grubunu kapsayan genç nüfusta işsizlik oranı bir önceki yılın aynı dönemine göre 1,2 puanlık artışla yüzde 24,4, istihdam oranı ise 7 puan azalarak yüzde 26,1 oldu. Aynı dönemde işgücüne katılma oranı 8,6 puanlık azalışla yüzde 34,5 seviyesinde gerçekleşti. Ne eğitimde ne de istihdamda olanların oranı ise bir önceki yılın aynı dönemine göre 5,7 puanlık artışla yüzde 29,1 seviyesinde gerçekleşti.\\nMEVSİM ETKİSİNDEN ARINDIRILMIŞ İŞSİZLİK ORANI YÜZDE 13,8 OLDUMevsim etkisinden arındırılmış işsizlik oranı bir önceki döneme göre 0,7 puan artarak yüzde 13,8 oldu. İşsiz sayısı bir önceki döneme göre 76 bin kişi artarak 4 milyon 80 bin kişi olarak gerçekleşti. Mevsim etkisinden arındırılmış istihdam oranı bir önceki döneme göre 1,6 puan azalarak yüzde 41,0 oldu. İstihdam edilenlerin sayısı 968 bin kişi azalarak 25 milyon 541 bin kişi olarak tahmin edildi.\\nMevsim etkisinden arındırılmış iş gücüne katılma oranı bir önceki döneme göre 1,5 puan azalarak yüzde 47,5 oldu. İş gücüne katılan sayısı 893 bin kişi azalarak 29 milyon 620 bin kişi olarak tahmin edildi. Ekonomik faaliyete göre, mevsim etkilerinden arındırılmış istihdam, tarım sektöründe 34 bin kişi, sanayi sektöründe 164 bin kişi, inşaat sektöründe 123 bin kişi, hizmet sektöründe 647 bin kişi azaldı.\\n\\n      1\n",
              "CHP lideri Kılıçdaroğlu, pazar günkü mitingle bitecek olan yürüyüş sonrası için \"Parlamentoda sesimizi ne zaman kısmak isterlerse sokağa çıkacağız\" diyerek sokak eylemlerinin sinyalini verdi.                                                                                                                                                                                                                                                                                                                                                                                                                                                                                                                                                                                                                                                                                                                                                                                                                                                                                                                                                                                                                                                                                                                                                                                                                                                                                                                                                                                                                                                                                                                                                                                                                                                                                                                                                                                                                                                                                                                                                                                                                                                                                                                                                                                                                                                                                                                                                                                                                                                                                                                                                                                                                                                                                                                                                                                                                                                                                                                                                                                                                                                                                                                                                                                                             1\n",
              "Beşiktaş, Lyon maçında yaşanan olaylar nedeniyle UEFA'dan 2 yıl ertelemeli 1 yıl men cezası aldı. Siyah-Beyazlı yönetim, bu alınan skandal karara cuma günü itiraz edecek.                                                                                                                                                                                                                                                                                                                                                                                                                                                                                                                                                                                                                                                                                                                                                                                                                                                                                                                                                                                                                                                                                                                                                                                                                                                                                                                                                                                                                                                                                                                                                                                                                                                                                                                                                                                                                                                                                                                                                                                                                                                                                                                                                                                                                                                                                                                                                                                                                                                                                                                                                                                                                                                                                                                                                                                                                                                                                                                                                                                                                                                                                                                                                                                                                                  1\n",
              "Name: Text, Length: 125866, dtype: int64"
            ]
          },
          "metadata": {
            "tags": []
          },
          "execution_count": 53
        }
      ]
    },
    {
      "cell_type": "code",
      "metadata": {
        "colab": {
          "base_uri": "https://localhost:8080/"
        },
        "id": "MAJUDDBrfs0C",
        "outputId": "7e690b71-e8b6-45a8-b38a-1a76b0de7fa9"
      },
      "source": [
        "df['Headline'].nunique()"
      ],
      "execution_count": null,
      "outputs": [
        {
          "output_type": "execute_result",
          "data": {
            "text/plain": [
              "125441"
            ]
          },
          "metadata": {
            "tags": []
          },
          "execution_count": 54
        }
      ]
    },
    {
      "cell_type": "code",
      "metadata": {
        "colab": {
          "base_uri": "https://localhost:8080/"
        },
        "id": "CGxv066mf4Bp",
        "outputId": "a4318a09-f776-4a80-b3f2-a10aabbf923f"
      },
      "source": [
        "df['Text'].nunique()"
      ],
      "execution_count": null,
      "outputs": [
        {
          "output_type": "execute_result",
          "data": {
            "text/plain": [
              "125866"
            ]
          },
          "metadata": {
            "tags": []
          },
          "execution_count": 55
        }
      ]
    },
    {
      "cell_type": "code",
      "metadata": {
        "colab": {
          "base_uri": "https://localhost:8080/"
        },
        "id": "_pr4QyYUgMEb",
        "outputId": "38e0400f-5a08-4e9e-9e37-d93e6fd926da"
      },
      "source": [
        "# Finding Null Values\n",
        "\n",
        "df.apply(lambda x: sum(x.isnull()),axis=0)"
      ],
      "execution_count": null,
      "outputs": [
        {
          "output_type": "execute_result",
          "data": {
            "text/plain": [
              "Unnamed: 0    0\n",
              "Headline      0\n",
              "Text          0\n",
              "dtype: int64"
            ]
          },
          "metadata": {
            "tags": []
          },
          "execution_count": 56
        }
      ]
    },
    {
      "cell_type": "code",
      "metadata": {
        "colab": {
          "base_uri": "https://localhost:8080/"
        },
        "id": "q5tnXN8rgaTa",
        "outputId": "bd675dee-fe95-463f-8eab-bbb94f23f278"
      },
      "source": [
        "df['Headline'][11], df['Text'][11]"
      ],
      "execution_count": null,
      "outputs": [
        {
          "output_type": "execute_result",
          "data": {
            "text/plain": [
              "('Başakşehir, eski Galatasaraylı Bruma ile görüşüyor',\n",
              " \"Başakşehir, bir dönem Galatasaray forması giyen Bruma'yı kadrosuna katmak için harekete geçti. Bu sezon 12 lig maçında forma giyen Portekizli futbolcu, 3 gol 3 asistlik performans sergiledi.\")"
            ]
          },
          "metadata": {
            "tags": []
          },
          "execution_count": 57
        }
      ]
    },
    {
      "cell_type": "code",
      "metadata": {
        "id": "TjhBJdwKktww"
      },
      "source": [
        "#Analyzing the count of words for training steps\n",
        "df_ = df[df['Text'].str.split().str.len().gt(150)]\n",
        "df_ = df[df['Text'].str.split().str.len().lt(175)]\n",
        "df_clean = df[df['Text'].str.split().str.len().gt(150)]"
      ],
      "execution_count": null,
      "outputs": []
    },
    {
      "cell_type": "code",
      "metadata": {
        "colab": {
          "base_uri": "https://localhost:8080/"
        },
        "id": "zoED3VuBIP4Q",
        "outputId": "1f927dad-b868-43fa-896d-dff20511b6ec"
      },
      "source": [
        "df_.shape"
      ],
      "execution_count": null,
      "outputs": [
        {
          "output_type": "execute_result",
          "data": {
            "text/plain": [
              "(33649, 3)"
            ]
          },
          "metadata": {
            "tags": []
          },
          "execution_count": 66
        }
      ]
    },
    {
      "cell_type": "code",
      "metadata": {
        "colab": {
          "base_uri": "https://localhost:8080/",
          "height": 416
        },
        "id": "5wL_AebAIQ9b",
        "outputId": "08b6444f-a5af-468c-cd64-dabc87ce16ba"
      },
      "source": [
        "df_"
      ],
      "execution_count": null,
      "outputs": [
        {
          "output_type": "execute_result",
          "data": {
            "text/html": [
              "<div>\n",
              "<style scoped>\n",
              "    .dataframe tbody tr th:only-of-type {\n",
              "        vertical-align: middle;\n",
              "    }\n",
              "\n",
              "    .dataframe tbody tr th {\n",
              "        vertical-align: top;\n",
              "    }\n",
              "\n",
              "    .dataframe thead th {\n",
              "        text-align: right;\n",
              "    }\n",
              "</style>\n",
              "<table border=\"1\" class=\"dataframe\">\n",
              "  <thead>\n",
              "    <tr style=\"text-align: right;\">\n",
              "      <th></th>\n",
              "      <th>Unnamed: 0</th>\n",
              "      <th>Headline</th>\n",
              "      <th>Text</th>\n",
              "    </tr>\n",
              "  </thead>\n",
              "  <tbody>\n",
              "    <tr>\n",
              "      <th>14</th>\n",
              "      <td>14</td>\n",
              "      <td>Marcelo Saracchi'nin İstanbul'a geliş tarihi b...</td>\n",
              "      <td>\\nGalatasaray'ın sol bek transferinde anlaşmay...</td>\n",
              "    </tr>\n",
              "    <tr>\n",
              "      <th>17</th>\n",
              "      <td>17</td>\n",
              "      <td>Kim Jong-un, casus uçakların gölgesinde dünyay...</td>\n",
              "      <td>\\nKuzey Kore resmi haber ajansı KCNA'da yer al...</td>\n",
              "    </tr>\n",
              "    <tr>\n",
              "      <th>18</th>\n",
              "      <td>18</td>\n",
              "      <td>Iğdır'da bir erkek, eşini öldürüp intihara kal...</td>\n",
              "      <td>\\nIğdır'da bir kişi, tartıştığı karısını silah...</td>\n",
              "    </tr>\n",
              "    <tr>\n",
              "      <th>21</th>\n",
              "      <td>21</td>\n",
              "      <td>Sevgilisiyle kaçan kızlarını eve götürmek iste...</td>\n",
              "      <td>\\nÇorum'un Mecitözü ilçesinden bir aile, sevdi...</td>\n",
              "    </tr>\n",
              "    <tr>\n",
              "      <th>26</th>\n",
              "      <td>26</td>\n",
              "      <td>Karsan, İnan Kıraç'ın yerli otomobilden çekild...</td>\n",
              "      <td>\\nCumhurbaşkanı Recep Tayyip Erdoğan'ın katılı...</td>\n",
              "    </tr>\n",
              "    <tr>\n",
              "      <th>...</th>\n",
              "      <td>...</td>\n",
              "      <td>...</td>\n",
              "      <td>...</td>\n",
              "    </tr>\n",
              "    <tr>\n",
              "      <th>138149</th>\n",
              "      <td>138149</td>\n",
              "      <td>Apartman Yöneticisi Emekli Astsubay, İki Kız K...</td>\n",
              "      <td>\\nTekirdağ'ın Çorlu İlçesi'nde, emekli astsuba...</td>\n",
              "    </tr>\n",
              "    <tr>\n",
              "      <th>138150</th>\n",
              "      <td>138150</td>\n",
              "      <td>Mersin'deki Saldırıyla İlgili Korkunç Gerçek: ...</td>\n",
              "      <td>\\nMersin'de sabah saatlerinde 50. Yıl Polis Me...</td>\n",
              "    </tr>\n",
              "    <tr>\n",
              "      <th>138154</th>\n",
              "      <td>138154</td>\n",
              "      <td>Mersin'deki Polis Merkezine Saldırmaya Çalışır...</td>\n",
              "      <td>\\nMersin'de karakola bombalı saldırı hazırlığı...</td>\n",
              "    </tr>\n",
              "    <tr>\n",
              "      <th>138157</th>\n",
              "      <td>138157</td>\n",
              "      <td>Fenerbahçe'ye Giuliano'dan Sonra İkinci Brezil...</td>\n",
              "      <td>\\nSon yıllarda kadrosuna kattığı Brezilyalı oy...</td>\n",
              "    </tr>\n",
              "    <tr>\n",
              "      <th>138161</th>\n",
              "      <td>138161</td>\n",
              "      <td>Trabzon'da Adres Soranlardan Bıkan Esnaftan Gü...</td>\n",
              "      <td>\\nTrabzon'un İskenderderpaşa Mahallesi'ndeki e...</td>\n",
              "    </tr>\n",
              "  </tbody>\n",
              "</table>\n",
              "<p>33649 rows × 3 columns</p>\n",
              "</div>"
            ],
            "text/plain": [
              "        Unnamed: 0  ...                                               Text\n",
              "14              14  ...  \\nGalatasaray'ın sol bek transferinde anlaşmay...\n",
              "17              17  ...  \\nKuzey Kore resmi haber ajansı KCNA'da yer al...\n",
              "18              18  ...  \\nIğdır'da bir kişi, tartıştığı karısını silah...\n",
              "21              21  ...  \\nÇorum'un Mecitözü ilçesinden bir aile, sevdi...\n",
              "26              26  ...  \\nCumhurbaşkanı Recep Tayyip Erdoğan'ın katılı...\n",
              "...            ...  ...                                                ...\n",
              "138149      138149  ...  \\nTekirdağ'ın Çorlu İlçesi'nde, emekli astsuba...\n",
              "138150      138150  ...  \\nMersin'de sabah saatlerinde 50. Yıl Polis Me...\n",
              "138154      138154  ...  \\nMersin'de karakola bombalı saldırı hazırlığı...\n",
              "138157      138157  ...  \\nSon yıllarda kadrosuna kattığı Brezilyalı oy...\n",
              "138161      138161  ...  \\nTrabzon'un İskenderderpaşa Mahallesi'ndeki e...\n",
              "\n",
              "[33649 rows x 3 columns]"
            ]
          },
          "metadata": {
            "tags": []
          },
          "execution_count": 67
        }
      ]
    },
    {
      "cell_type": "code",
      "metadata": {
        "colab": {
          "base_uri": "https://localhost:8080/"
        },
        "id": "FniKLtvtIb0a",
        "outputId": "4264d6e7-ae56-4460-9669-d63a8f819954"
      },
      "source": [
        "df_['Headline'][17], df_['Text'][17]"
      ],
      "execution_count": null,
      "outputs": [
        {
          "output_type": "execute_result",
          "data": {
            "text/plain": [
              "('Kim Jong-un, casus uçakların gölgesinde dünyaya seslendi: Yeni silahlarımıza şahitlik edeceksiniz',\n",
              " '\\nKuzey Kore resmi haber ajansı KCNA\\'da yer alan habere göre, Kuzey Kore lideri Kim, ülkeyi yöneten Kore İşçi Partisinin Merkez Komite Toplantısı\\'nda konuştu. Kuzey Kore Devlet Başkanı Kim Jong-un, dünyanın yakın gelecekte ülkesinin geliştirdiği yeni stratejik silahlara şahitlik edeceğini belirtti.\\n\"ABD BİZİ OYALIYOR\"Kim, ABD ile ilişkilerde güven inşa etmek amacıyla nükleer silah ve kıtalararası balistik füze (ICBM) denemelerini rafa kaldırdıklarını ancak Washington yönetiminin buna Güney Kore ile ortak tatbikat düzenleyerek ve Pyongyang\\'a daha fazla yaptırım getirerek karşılık verdiğini söyledi. ABD\\'nin kendilerini oyaladığını belirten Kim, bu koşullar altında füze denemelerini durdurma anlaşmasına tek taraflı uymalarını gerektirecek bir durum olmadığını kaydetti.\\n\\n\"DÜNYA YENİ STRATEJİK SİLAHLARIMIZA ŞAHİTLİK EDECEK\"Kuzey Kore\\'nin stratejik silahlar geliştirme projelerini daha etkili şekilde ilerletmesi gerektiğini vurgulayan Kim, \"Dünya, yakın gelecekte Kore Demokratik Halk Cumhuriyeti\\'nin (DPRK) yeni stratejik silahına şahitlik edecek.\" ifadesini kullandı. Devlet Başkanı Kim Jong-un, ülkesinin nükleer caydırıcılığını ne kadar artıracağının ABD\\'nin gelecekteki tutumuna bağlı olduğunu aktardı.\\n TRUMP\\'TAN, \"KİM, SÖZÜNÜN ERİ\" AÇIKLAMASIDiğer yandan, ABD Başkanı Donald Trump, Pyongyang liderinin açıklamalarının ardından gazetecilere verdiği demeçte, Kim ile çok iyi ilişkileri olduğunu söyledi. Trump, \"Bir anlaşma imzaladı. Nükleer silahların yok edilmesini müzakere edeceğine dair bir anlaşma imzaladı. Singapur\\'da imzalandı bu anlaşma. Ben onun sözünün eri olduğunu düşünüyorum. Bakalım göreceğiz.\" diye konuştu.\\nABD casus uçakları Kuzey Kore\\'yi izliyor\\nÖte yandan, bir süredir Kuzey Kore üzerinde keşif uçuşları yapan ABD casus uçaklarının, yeni yılın ilk günü de havalandığı bildirildi.\\nGüney Kore haber ajansı Yonhap\\'ta yer alan habere göre \"Aircraft Spots\" adlı hava araçları izleme sitesi, Japonya\\'daki Kadena hava üssünden havalanan RC-135W Rivet Joint modeli keşif uçağının Japon Denizi\\'nde (Doğu Denizi) uçuş yaparken, EP-3E model radar sistem uçağının Güney Kore üzerinde 25 bin fit (7 bin 620 metre) irtifada seyrettiğini aktardı.\\n NÜKLEER MÜZAKERELERKuzey Kore ile ABD arasında, şubat ayından bu yana aksayarak da olsa devam eden nükleer müzakereler, İsveç\\'te 5 Ekim\\'de yapılan çalışma düzeyindeki toplantılarda kesilmişti.\\nPyongyang lideri Kim Jong-un, müzakereleri yeniden başlatmak üzere ABD yönetimine somut öneriler sunması için yıl sonuna kadar süre tanımış, aksi halde nükleer denemelere ve kıtalar arası güdümlü füze denemelerini sürdürecekleri uyarısında bulunmuştu.\\nKaynak: Anadolu Ajansı\\n')"
            ]
          },
          "metadata": {
            "tags": []
          },
          "execution_count": 73
        }
      ]
    },
    {
      "cell_type": "code",
      "metadata": {
        "colab": {
          "base_uri": "https://localhost:8080/"
        },
        "id": "Dhwn06DTKkbM",
        "outputId": "7d14305a-6926-4830-b460-baec09f5ff7d"
      },
      "source": [
        "df_['Headline'][26], df_['Text'][26]"
      ],
      "execution_count": null,
      "outputs": [
        {
          "output_type": "execute_result",
          "data": {
            "text/plain": [
              "(\"Karsan, İnan Kıraç'ın yerli otomobilden çekildiği iddialarına yanıt verdi\",\n",
              " '\\nCumhurbaşkanı Recep Tayyip Erdoğan\\'ın katılımıyla geçen cuma Bilişim Vadisi\\'nde düzenlenen Türkiye\\'nin elektrikli otomobilinin tanıtımında iş insanı İnan Kıraç\\'ın yer almaması, \"Kıraç, yerli otomobil projesinden çekildi\" şeklindeki iddiaya neden oldu.\\n\"ORTAKLIK, KÖK HOLDİNG ZERİNDEN YAPILDI\"Independent Türkçe\\'den Leyla Elmacıoğlu\\'nun haberine göre ise İnan Kıraç, Türkiye\\'nin Otomobili Girişim Grubu (TOGG) ortaklığından çekilmedi. Ancak ortaklığın Karsan ya da Kıraça Holding yerine Kök Ulaşım Taşımacılık A.Ş. üzerinden yapılmış olması, bilgi kirliliğine neden oldu.\\n\\n\"TOGG\\'UN YÜZDE 19 HİSSESİNE SAHİP\"\\'TOGG\\'un yüzde 19\\'luk hissesi Kök Ulaşım Taşımacılık A.Ş.\\'nin\\' Yüzde 63\\'ü Kıraça Kolding\\'e ait olan Karsan\\'dan yapılan yazılı açıklamada, Karsan Otomotiv\\'in projeye dahil olmadığı ancak İnan Kıraç\\'a ait Kök Ulaşım Taşımacılık A.Ş.\\'nin, TOGG\\'un yüzde 19\\'una sahip olduğu belirtildi.\\n\"İNAN KIRAÇ, KÖK ULAŞIM\\'IN YÜZDE 100 HİSSESİNE SAHİP\"Açıklamada şu ifadelere yer verildi:\\n\"Sayın İnan Kıraç, Türkiye\\'nin Otomobili Girişim Grubu Sanayi ve Ticaret A.Ş.\\'nin yüzde 19 oranında payına sahip olan Kök Ulaşım Taşımacılık A.Ş.\\'nin yüzde 100\\'üne sahiptir. Karsan Otomotiv olarak projeye dahil olmamakla birlikte konuya ilişkin bilgimiz de bulunmamaktadır.\"\\nİNAN KIRAÇ, \\'5 BABAYİĞİT\\'TEN BİRİCumhurbaşkanı Erdoğan Ocak 2011\\'de yerli otomobil için \\'babayiğitlere\\' çağrı yapmış ve 5 \\'babayiğit\\' kamuoyuna tanıtılmıştı. Türkiye\\'nin otomobilini üretecek 5 babayiğit Anadolu Grubu, BMC, Kıraça Holding, Turkcell ve Zorlu Holding\\'den oluşmuştu.\\n##12775590##\\n##12776289##\\n\\n')"
            ]
          },
          "metadata": {
            "tags": []
          },
          "execution_count": 74
        }
      ]
    },
    {
      "cell_type": "code",
      "metadata": {
        "id": "ey5qs7cpI39U"
      },
      "source": [
        "# news-summary.csv"
      ],
      "execution_count": null,
      "outputs": []
    },
    {
      "cell_type": "code",
      "metadata": {
        "colab": {
          "base_uri": "https://localhost:8080/"
        },
        "id": "GI_XlFTYKDoQ",
        "outputId": "7d00fcca-7910-48ae-9b70-0d6558d23b49"
      },
      "source": [
        "#Some data cleaning\n",
        "import re\n",
        "\n",
        "df_clean['Text']=df_clean['Text'].apply(lambda x:' '.join(re.sub(r'(\\s)##\\w+##', r'\\1', x).split()))"
      ],
      "execution_count": null,
      "outputs": [
        {
          "output_type": "stream",
          "text": [
            "/usr/local/lib/python3.7/dist-packages/ipykernel_launcher.py:3: SettingWithCopyWarning: \n",
            "A value is trying to be set on a copy of a slice from a DataFrame.\n",
            "Try using .loc[row_indexer,col_indexer] = value instead\n",
            "\n",
            "See the caveats in the documentation: https://pandas.pydata.org/pandas-docs/stable/user_guide/indexing.html#returning-a-view-versus-a-copy\n",
            "  This is separate from the ipykernel package so we can avoid doing imports until\n"
          ],
          "name": "stderr"
        }
      ]
    },
    {
      "cell_type": "code",
      "metadata": {
        "colab": {
          "base_uri": "https://localhost:8080/"
        },
        "id": "MajtLybhKMkU",
        "outputId": "2bd6dc32-efdd-4d99-c2f7-906b7647f45b"
      },
      "source": [
        "df_clean['Headline'][26], df_clean['Text'][26]"
      ],
      "execution_count": null,
      "outputs": [
        {
          "output_type": "execute_result",
          "data": {
            "text/plain": [
              "(\"Karsan, İnan Kıraç'ın yerli otomobilden çekildiği iddialarına yanıt verdi\",\n",
              " 'Cumhurbaşkanı Recep Tayyip Erdoğan\\'ın katılımıyla geçen cuma Bilişim Vadisi\\'nde düzenlenen Türkiye\\'nin elektrikli otomobilinin tanıtımında iş insanı İnan Kıraç\\'ın yer almaması, \"Kıraç, yerli otomobil projesinden çekildi\" şeklindeki iddiaya neden oldu. \"ORTAKLIK, KÖK HOLDİNG ZERİNDEN YAPILDI\"Independent Türkçe\\'den Leyla Elmacıoğlu\\'nun haberine göre ise İnan Kıraç, Türkiye\\'nin Otomobili Girişim Grubu (TOGG) ortaklığından çekilmedi. Ancak ortaklığın Karsan ya da Kıraça Holding yerine Kök Ulaşım Taşımacılık A.Ş. üzerinden yapılmış olması, bilgi kirliliğine neden oldu. \"TOGG\\'UN YÜZDE 19 HİSSESİNE SAHİP\"\\'TOGG\\'un yüzde 19\\'luk hissesi Kök Ulaşım Taşımacılık A.Ş.\\'nin\\' Yüzde 63\\'ü Kıraça Kolding\\'e ait olan Karsan\\'dan yapılan yazılı açıklamada, Karsan Otomotiv\\'in projeye dahil olmadığı ancak İnan Kıraç\\'a ait Kök Ulaşım Taşımacılık A.Ş.\\'nin, TOGG\\'un yüzde 19\\'una sahip olduğu belirtildi. \"İNAN KIRAÇ, KÖK ULAŞIM\\'IN YÜZDE 100 HİSSESİNE SAHİP\"Açıklamada şu ifadelere yer verildi: \"Sayın İnan Kıraç, Türkiye\\'nin Otomobili Girişim Grubu Sanayi ve Ticaret A.Ş.\\'nin yüzde 19 oranında payına sahip olan Kök Ulaşım Taşımacılık A.Ş.\\'nin yüzde 100\\'üne sahiptir. Karsan Otomotiv olarak projeye dahil olmamakla birlikte konuya ilişkin bilgimiz de bulunmamaktadır.\" İNAN KIRAÇ, \\'5 BABAYİĞİT\\'TEN BİRİCumhurbaşkanı Erdoğan Ocak 2011\\'de yerli otomobil için \\'babayiğitlere\\' çağrı yapmış ve 5 \\'babayiğit\\' kamuoyuna tanıtılmıştı. Türkiye\\'nin otomobilini üretecek 5 babayiğit Anadolu Grubu, BMC, Kıraça Holding, Turkcell ve Zorlu Holding\\'den oluşmuştu.')"
            ]
          },
          "metadata": {
            "tags": []
          },
          "execution_count": 75
        }
      ]
    },
    {
      "cell_type": "code",
      "metadata": {
        "id": "aXuIL5UpKSjD"
      },
      "source": [
        "news = pd.read_csv('news_summary.csv', encoding='latin-1')"
      ],
      "execution_count": null,
      "outputs": []
    },
    {
      "cell_type": "code",
      "metadata": {
        "colab": {
          "base_uri": "https://localhost:8080/"
        },
        "id": "Yx_Bvt9PLDzA",
        "outputId": "187b3b23-7eb8-46da-e582-9c493aeecd25"
      },
      "source": [
        "news.shape"
      ],
      "execution_count": null,
      "outputs": [
        {
          "output_type": "execute_result",
          "data": {
            "text/plain": [
              "(4514, 6)"
            ]
          },
          "metadata": {
            "tags": []
          },
          "execution_count": 77
        }
      ]
    },
    {
      "cell_type": "code",
      "metadata": {
        "colab": {
          "base_uri": "https://localhost:8080/",
          "height": 289
        },
        "id": "gctgawHPLbuv",
        "outputId": "f5a322cf-359f-46f1-f3b1-471cd8b72ab9"
      },
      "source": [
        "news.head()"
      ],
      "execution_count": null,
      "outputs": [
        {
          "output_type": "execute_result",
          "data": {
            "text/html": [
              "<div>\n",
              "<style scoped>\n",
              "    .dataframe tbody tr th:only-of-type {\n",
              "        vertical-align: middle;\n",
              "    }\n",
              "\n",
              "    .dataframe tbody tr th {\n",
              "        vertical-align: top;\n",
              "    }\n",
              "\n",
              "    .dataframe thead th {\n",
              "        text-align: right;\n",
              "    }\n",
              "</style>\n",
              "<table border=\"1\" class=\"dataframe\">\n",
              "  <thead>\n",
              "    <tr style=\"text-align: right;\">\n",
              "      <th></th>\n",
              "      <th>author</th>\n",
              "      <th>date</th>\n",
              "      <th>headlines</th>\n",
              "      <th>read_more</th>\n",
              "      <th>text</th>\n",
              "      <th>ctext</th>\n",
              "    </tr>\n",
              "  </thead>\n",
              "  <tbody>\n",
              "    <tr>\n",
              "      <th>0</th>\n",
              "      <td>Chhavi Tyagi</td>\n",
              "      <td>03 Aug 2017,Thursday</td>\n",
              "      <td>Daman &amp; Diu revokes mandatory Rakshabandhan in...</td>\n",
              "      <td>http://www.hindustantimes.com/india-news/raksh...</td>\n",
              "      <td>The Administration of Union Territory Daman an...</td>\n",
              "      <td>The Daman and Diu administration on Wednesday ...</td>\n",
              "    </tr>\n",
              "    <tr>\n",
              "      <th>1</th>\n",
              "      <td>Daisy Mowke</td>\n",
              "      <td>03 Aug 2017,Thursday</td>\n",
              "      <td>Malaika slams user who trolled her for 'divorc...</td>\n",
              "      <td>http://www.hindustantimes.com/bollywood/malaik...</td>\n",
              "      <td>Malaika Arora slammed an Instagram user who tr...</td>\n",
              "      <td>From her special numbers to TV?appearances, Bo...</td>\n",
              "    </tr>\n",
              "    <tr>\n",
              "      <th>2</th>\n",
              "      <td>Arshiya Chopra</td>\n",
              "      <td>03 Aug 2017,Thursday</td>\n",
              "      <td>'Virgin' now corrected to 'Unmarried' in IGIMS...</td>\n",
              "      <td>http://www.hindustantimes.com/patna/bihar-igim...</td>\n",
              "      <td>The Indira Gandhi Institute of Medical Science...</td>\n",
              "      <td>The Indira Gandhi Institute of Medical Science...</td>\n",
              "    </tr>\n",
              "    <tr>\n",
              "      <th>3</th>\n",
              "      <td>Sumedha Sehra</td>\n",
              "      <td>03 Aug 2017,Thursday</td>\n",
              "      <td>Aaj aapne pakad liya: LeT man Dujana before be...</td>\n",
              "      <td>http://indiatoday.intoday.in/story/abu-dujana-...</td>\n",
              "      <td>Lashkar-e-Taiba's Kashmir commander Abu Dujana...</td>\n",
              "      <td>Lashkar-e-Taiba's Kashmir commander Abu Dujana...</td>\n",
              "    </tr>\n",
              "    <tr>\n",
              "      <th>4</th>\n",
              "      <td>Aarushi Maheshwari</td>\n",
              "      <td>03 Aug 2017,Thursday</td>\n",
              "      <td>Hotel staff to get training to spot signs of s...</td>\n",
              "      <td>http://indiatoday.intoday.in/story/sex-traffic...</td>\n",
              "      <td>Hotels in Maharashtra will train their staff t...</td>\n",
              "      <td>Hotels in Mumbai and other Indian cities are t...</td>\n",
              "    </tr>\n",
              "  </tbody>\n",
              "</table>\n",
              "</div>"
            ],
            "text/plain": [
              "               author  ...                                              ctext\n",
              "0        Chhavi Tyagi  ...  The Daman and Diu administration on Wednesday ...\n",
              "1         Daisy Mowke  ...  From her special numbers to TV?appearances, Bo...\n",
              "2      Arshiya Chopra  ...  The Indira Gandhi Institute of Medical Science...\n",
              "3       Sumedha Sehra  ...  Lashkar-e-Taiba's Kashmir commander Abu Dujana...\n",
              "4  Aarushi Maheshwari  ...  Hotels in Mumbai and other Indian cities are t...\n",
              "\n",
              "[5 rows x 6 columns]"
            ]
          },
          "metadata": {
            "tags": []
          },
          "execution_count": 78
        }
      ]
    },
    {
      "cell_type": "markdown",
      "metadata": {
        "id": "LhPzZRpM1hwL"
      },
      "source": [
        "`Count of words in sentences `"
      ]
    },
    {
      "cell_type": "code",
      "metadata": {
        "colab": {
          "base_uri": "https://localhost:8080/"
        },
        "id": "t0BhG2DFLlxG",
        "outputId": "72f9fe70-6cc3-4e48-8b29-16e902b1bc99"
      },
      "source": [
        "(len(news['ctext'][0].split(' '))), (len(news['text'][0].split(' ')))"
      ],
      "execution_count": null,
      "outputs": [
        {
          "output_type": "execute_result",
          "data": {
            "text/plain": [
              "(364, 60)"
            ]
          },
          "metadata": {
            "tags": []
          },
          "execution_count": 82
        }
      ]
    },
    {
      "cell_type": "code",
      "metadata": {
        "colab": {
          "base_uri": "https://localhost:8080/"
        },
        "id": "WBkdXDBRN6RF",
        "outputId": "6e2580e1-73e5-4538-bbaa-78c5094700c3"
      },
      "source": [
        "(len(news['ctext'][1].split(' '))), (len(news['text'][1].split(' ')))"
      ],
      "execution_count": null,
      "outputs": [
        {
          "output_type": "execute_result",
          "data": {
            "text/plain": [
              "(402, 60)"
            ]
          },
          "metadata": {
            "tags": []
          },
          "execution_count": 83
        }
      ]
    },
    {
      "cell_type": "code",
      "metadata": {
        "colab": {
          "base_uri": "https://localhost:8080/"
        },
        "id": "ZbmLo9aUOFKE",
        "outputId": "bf018a9d-d0e7-4d37-830d-9625f49de549"
      },
      "source": [
        "(len(news['ctext'][2].split(' '))), (len(news['text'][2].split(' ')))"
      ],
      "execution_count": null,
      "outputs": [
        {
          "output_type": "execute_result",
          "data": {
            "text/plain": [
              "(333, 60)"
            ]
          },
          "metadata": {
            "tags": []
          },
          "execution_count": 84
        }
      ]
    },
    {
      "cell_type": "code",
      "metadata": {
        "id": "8Vf2CatQO4Xm",
        "colab": {
          "base_uri": "https://localhost:8080/"
        },
        "outputId": "fe5ab999-3ed9-41a8-841d-60a3e193bcbf"
      },
      "source": [
        "(len(news['ctext'][3].split(' '))), (len(news['text'][3].split(' ')))"
      ],
      "execution_count": null,
      "outputs": [
        {
          "output_type": "execute_result",
          "data": {
            "text/plain": [
              "(404, 60)"
            ]
          },
          "metadata": {
            "tags": []
          },
          "execution_count": 85
        }
      ]
    },
    {
      "cell_type": "code",
      "metadata": {
        "id": "OT8ZGnPDLFTf"
      },
      "source": [
        "news_ = news[news['ctext'].str.split().str.len().gt(150)]"
      ],
      "execution_count": null,
      "outputs": []
    },
    {
      "cell_type": "code",
      "metadata": {
        "colab": {
          "base_uri": "https://localhost:8080/"
        },
        "id": "LgrOqjHGLyKZ",
        "outputId": "081c7540-9eea-46ce-ebd6-e0280443ee8e"
      },
      "source": [
        "news_.shape"
      ],
      "execution_count": null,
      "outputs": [
        {
          "output_type": "execute_result",
          "data": {
            "text/plain": [
              "(3649, 6)"
            ]
          },
          "metadata": {
            "tags": []
          },
          "execution_count": 81
        }
      ]
    },
    {
      "cell_type": "code",
      "metadata": {
        "id": "oKXT1GlALz87"
      },
      "source": [
        ""
      ],
      "execution_count": null,
      "outputs": []
    }
  ]
}